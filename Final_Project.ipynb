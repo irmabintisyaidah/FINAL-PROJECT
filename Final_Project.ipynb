{
  "nbformat": 4,
  "nbformat_minor": 0,
  "metadata": {
    "colab": {
      "name": "Final_Project.ipynb",
      "provenance": [],
      "collapsed_sections": [],
      "toc_visible": true
    },
    "kernelspec": {
      "name": "python3",
      "display_name": "Python 3"
    },
    "language_info": {
      "name": "python"
    }
  },
  "cells": [
    {
      "cell_type": "markdown",
      "metadata": {
        "id": "12Me-tnN-Jm8"
      },
      "source": [
        "![picture](https://lh3.googleusercontent.com/WqiP4PwyVYgamK8cBO9OG8fqruYDKAMUbYGu8OV32Zi35vm4rQo2TF3kPar82Hzqpmd22EQyL3TSDKs=w1311-h627)"
      ]
    },
    {
      "cell_type": "markdown",
      "metadata": {
        "id": "lyF14tcy_aOA"
      },
      "source": [
        "#Tugas Akhir Kelas Dasar"
      ]
    },
    {
      "cell_type": "markdown",
      "metadata": {
        "id": "iMXxUGKu_fCs"
      },
      "source": [
        "##Identitas\n",
        "Kelompok 8 :\n",
        "\n",
        "\n",
        "1.   Susi_Wahyuningrum_1 | 1800015072_1\n",
        "2.   Balma_Bahira_Adzkia_2 | 2000018257_2\n",
        "3.   Irma_Binti_Sya'idah_3 | 2000015034_3\n",
        "\n"
      ]
    },
    {
      "cell_type": "markdown",
      "metadata": {
        "id": "ryCWasDJu-P4"
      },
      "source": [
        "#Data Preparation"
      ]
    },
    {
      "cell_type": "code",
      "metadata": {
        "id": "aarJiddRUxbc"
      },
      "source": [
        "  import pandas as pd\n",
        "  import numpy as np\n",
        "  import math\n",
        "  import matplotlib.pyplot as plt\n",
        "  import plotly.express as px\n",
        "  import plotly.graph_objects as go"
      ],
      "execution_count": null,
      "outputs": []
    },
    {
      "cell_type": "code",
      "metadata": {
        "id": "r-vPvwfTAPLD"
      },
      "source": [
        "#Mengimport file csv yang sudah di upload ke github\n",
        "data_1 = pd.read_csv('https://raw.githubusercontent.com/SusiWahyuningrum/Basic-Python-Programming-for-Data-Science/main/angkakonsumsiikan.csv')\n",
        "data_2 = pd.read_csv('https://raw.githubusercontent.com/SusiWahyuningrum/Basic-Python-Programming-for-Data-Science/main/jumlahproduksibenih.csv')\n",
        "data_3 = pd.read_csv('https://raw.githubusercontent.com/SusiWahyuningrum/Basic-Python-Programming-for-Data-Science/main/pembudidayaikannasional.csv')\n",
        "data_4 = pd.read_csv('https://raw.githubusercontent.com/SusiWahyuningrum/Basic-Python-Programming-for-Data-Science/main/produkolahanikan.csv')\n",
        "data_5 = pd.read_csv('https://raw.githubusercontent.com/SusiWahyuningrum/Basic-Python-Programming-for-Data-Science/main/produksibudidayanasional.csv')\n",
        "data_6 = pd.read_csv('https://raw.githubusercontent.com/SusiWahyuningrum/Basic-Python-Programming-for-Data-Science/main/produksiperlakuanikannasional.csv')"
      ],
      "execution_count": null,
      "outputs": []
    },
    {
      "cell_type": "markdown",
      "metadata": {
        "id": "SCslqPgNyrNs"
      },
      "source": [
        "**Data ke-1 Angka Konsumsi Ikan**\n",
        "\n",
        "\n"
      ]
    },
    {
      "cell_type": "code",
      "metadata": {
        "colab": {
          "base_uri": "https://localhost:8080/",
          "height": 979
        },
        "id": "oG-GKPEpwpFY",
        "outputId": "4e17c7fe-584e-4874-ce3b-b59ea39336fa"
      },
      "source": [
        "data_1 = pd.read_csv('https://raw.githubusercontent.com/SusiWahyuningrum/Basic-Python-Programming-for-Data-Science/main/angkakonsumsiikan.csv')\n",
        "data_1"
      ],
      "execution_count": null,
      "outputs": [
        {
          "output_type": "execute_result",
          "data": {
            "text/html": [
              "<div>\n",
              "<style scoped>\n",
              "    .dataframe tbody tr th:only-of-type {\n",
              "        vertical-align: middle;\n",
              "    }\n",
              "\n",
              "    .dataframe tbody tr th {\n",
              "        vertical-align: top;\n",
              "    }\n",
              "\n",
              "    .dataframe thead th {\n",
              "        text-align: right;\n",
              "    }\n",
              "</style>\n",
              "<table border=\"1\" class=\"dataframe\">\n",
              "  <thead>\n",
              "    <tr style=\"text-align: right;\">\n",
              "      <th></th>\n",
              "      <th>ID</th>\n",
              "      <th>ParamKonsumsiIkan</th>\n",
              "      <th>Tahun</th>\n",
              "      <th>Nilai</th>\n",
              "      <th>Satuan</th>\n",
              "    </tr>\n",
              "  </thead>\n",
              "  <tbody>\n",
              "    <tr>\n",
              "      <th>0</th>\n",
              "      <td>1</td>\n",
              "      <td>Penyediaan ikan untuk konsumsi (total)</td>\n",
              "      <td>2008</td>\n",
              "      <td>7071.93</td>\n",
              "      <td>1000 Ton</td>\n",
              "    </tr>\n",
              "    <tr>\n",
              "      <th>1</th>\n",
              "      <td>2</td>\n",
              "      <td>Penyediaan ikan untuk konsumsi per kapita</td>\n",
              "      <td>2008</td>\n",
              "      <td>30.95</td>\n",
              "      <td>Kg/Kapita/Tahun</td>\n",
              "    </tr>\n",
              "    <tr>\n",
              "      <th>2</th>\n",
              "      <td>3</td>\n",
              "      <td>Konsumsi ikan per kapita</td>\n",
              "      <td>2008</td>\n",
              "      <td>28.00</td>\n",
              "      <td>Kg/Kapita/Tahun</td>\n",
              "    </tr>\n",
              "    <tr>\n",
              "      <th>3</th>\n",
              "      <td>4</td>\n",
              "      <td>Ketersediaan Kalori per kapita dari ikan</td>\n",
              "      <td>2008</td>\n",
              "      <td>53.00</td>\n",
              "      <td>Kkal/kapita/hari</td>\n",
              "    </tr>\n",
              "    <tr>\n",
              "      <th>4</th>\n",
              "      <td>5</td>\n",
              "      <td>Ketersediaan Protein per kapita dari ikan</td>\n",
              "      <td>2008</td>\n",
              "      <td>9.53</td>\n",
              "      <td>gram/kapita/hari</td>\n",
              "    </tr>\n",
              "    <tr>\n",
              "      <th>5</th>\n",
              "      <td>6</td>\n",
              "      <td>Ketersediaan Lemak per kapita dari ikan</td>\n",
              "      <td>2008</td>\n",
              "      <td>1.19</td>\n",
              "      <td>gram/kapita/hari</td>\n",
              "    </tr>\n",
              "    <tr>\n",
              "      <th>6</th>\n",
              "      <td>7</td>\n",
              "      <td>Penyediaan ikan untuk konsumsi (total)</td>\n",
              "      <td>2009</td>\n",
              "      <td>7754.00</td>\n",
              "      <td>1000 Ton</td>\n",
              "    </tr>\n",
              "    <tr>\n",
              "      <th>7</th>\n",
              "      <td>8</td>\n",
              "      <td>Penyediaan ikan untuk konsumsi per kapita</td>\n",
              "      <td>2009</td>\n",
              "      <td>33.51</td>\n",
              "      <td>Kg/Kapita/Tahun</td>\n",
              "    </tr>\n",
              "    <tr>\n",
              "      <th>8</th>\n",
              "      <td>9</td>\n",
              "      <td>Konsumsi ikan per kapita</td>\n",
              "      <td>2009</td>\n",
              "      <td>29.08</td>\n",
              "      <td>Kg/Kapita/Tahun</td>\n",
              "    </tr>\n",
              "    <tr>\n",
              "      <th>9</th>\n",
              "      <td>10</td>\n",
              "      <td>Ketersediaan Kalori per kapita dari ikan</td>\n",
              "      <td>2009</td>\n",
              "      <td>58.00</td>\n",
              "      <td>Kkal/kapita/hari</td>\n",
              "    </tr>\n",
              "    <tr>\n",
              "      <th>10</th>\n",
              "      <td>11</td>\n",
              "      <td>Ketersediaan Protein per kapita dari ikan</td>\n",
              "      <td>2009</td>\n",
              "      <td>10.30</td>\n",
              "      <td>gram/kapita/hari</td>\n",
              "    </tr>\n",
              "    <tr>\n",
              "      <th>11</th>\n",
              "      <td>12</td>\n",
              "      <td>Ketersediaan Lemak per kapita dari ikan</td>\n",
              "      <td>2009</td>\n",
              "      <td>1.31</td>\n",
              "      <td>gram/kapita/hari</td>\n",
              "    </tr>\n",
              "    <tr>\n",
              "      <th>12</th>\n",
              "      <td>13</td>\n",
              "      <td>Penyediaan ikan untuk konsumsi (total)</td>\n",
              "      <td>2010</td>\n",
              "      <td>9119.00</td>\n",
              "      <td>1000 Ton</td>\n",
              "    </tr>\n",
              "    <tr>\n",
              "      <th>13</th>\n",
              "      <td>14</td>\n",
              "      <td>Penyediaan ikan untuk konsumsi per kapita</td>\n",
              "      <td>2010</td>\n",
              "      <td>38.39</td>\n",
              "      <td>Kg/Kapita/Tahun</td>\n",
              "    </tr>\n",
              "    <tr>\n",
              "      <th>14</th>\n",
              "      <td>15</td>\n",
              "      <td>Konsumsi ikan per kapita</td>\n",
              "      <td>2010</td>\n",
              "      <td>30.48</td>\n",
              "      <td>Kg/Kapita/Tahun</td>\n",
              "    </tr>\n",
              "    <tr>\n",
              "      <th>15</th>\n",
              "      <td>16</td>\n",
              "      <td>Ketersediaan Kalori per kapita dari ikan</td>\n",
              "      <td>2010</td>\n",
              "      <td>66.00</td>\n",
              "      <td>Kkal/kapita/hari</td>\n",
              "    </tr>\n",
              "    <tr>\n",
              "      <th>16</th>\n",
              "      <td>17</td>\n",
              "      <td>Ketersediaan Protein per kapita dari ikan</td>\n",
              "      <td>2010</td>\n",
              "      <td>11.65</td>\n",
              "      <td>gram/kapita/hari</td>\n",
              "    </tr>\n",
              "    <tr>\n",
              "      <th>17</th>\n",
              "      <td>18</td>\n",
              "      <td>Ketersediaan Lemak per kapita dari ikan</td>\n",
              "      <td>2010</td>\n",
              "      <td>1.53</td>\n",
              "      <td>gram/kapita/hari</td>\n",
              "    </tr>\n",
              "    <tr>\n",
              "      <th>18</th>\n",
              "      <td>19</td>\n",
              "      <td>Penyediaan ikan untuk konsumsi (total)</td>\n",
              "      <td>2011</td>\n",
              "      <td>10282.00</td>\n",
              "      <td>1000 Ton</td>\n",
              "    </tr>\n",
              "    <tr>\n",
              "      <th>19</th>\n",
              "      <td>20</td>\n",
              "      <td>Penyediaan ikan untuk konsumsi per kapita</td>\n",
              "      <td>2011</td>\n",
              "      <td>41.95</td>\n",
              "      <td>Kg/Kapita/Tahun</td>\n",
              "    </tr>\n",
              "    <tr>\n",
              "      <th>20</th>\n",
              "      <td>21</td>\n",
              "      <td>Konsumsi ikan per kapita</td>\n",
              "      <td>2011</td>\n",
              "      <td>32.25</td>\n",
              "      <td>Kg/Kapita/Tahun</td>\n",
              "    </tr>\n",
              "    <tr>\n",
              "      <th>21</th>\n",
              "      <td>22</td>\n",
              "      <td>Ketersediaan Kalori per kapita dari ikan</td>\n",
              "      <td>2011</td>\n",
              "      <td>71.00</td>\n",
              "      <td>Kkal/kapita/hari</td>\n",
              "    </tr>\n",
              "    <tr>\n",
              "      <th>22</th>\n",
              "      <td>23</td>\n",
              "      <td>Ketersediaan Protein per kapita dari ikan</td>\n",
              "      <td>2011</td>\n",
              "      <td>12.57</td>\n",
              "      <td>gram/kapita/hari</td>\n",
              "    </tr>\n",
              "    <tr>\n",
              "      <th>23</th>\n",
              "      <td>24</td>\n",
              "      <td>Ketersediaan Lemak per kapita dari ikan</td>\n",
              "      <td>2011</td>\n",
              "      <td>1.68</td>\n",
              "      <td>gram/kapita/hari</td>\n",
              "    </tr>\n",
              "    <tr>\n",
              "      <th>24</th>\n",
              "      <td>25</td>\n",
              "      <td>Penyediaan ikan untuk konsumsi (total)</td>\n",
              "      <td>2012</td>\n",
              "      <td>11589.00</td>\n",
              "      <td>1000 Ton</td>\n",
              "    </tr>\n",
              "    <tr>\n",
              "      <th>25</th>\n",
              "      <td>26</td>\n",
              "      <td>Penyediaan ikan untuk konsumsi per kapita</td>\n",
              "      <td>2012</td>\n",
              "      <td>46.31</td>\n",
              "      <td>Kg/Kapita/Tahun</td>\n",
              "    </tr>\n",
              "    <tr>\n",
              "      <th>26</th>\n",
              "      <td>27</td>\n",
              "      <td>Konsumsi ikan per kapita</td>\n",
              "      <td>2012</td>\n",
              "      <td>33.89</td>\n",
              "      <td>Kg/Kapita/Tahun</td>\n",
              "    </tr>\n",
              "    <tr>\n",
              "      <th>27</th>\n",
              "      <td>28</td>\n",
              "      <td>Ketersediaan Kalori per kapita dari ikan</td>\n",
              "      <td>2012</td>\n",
              "      <td>78.00</td>\n",
              "      <td>Kkal/kapita/hari</td>\n",
              "    </tr>\n",
              "    <tr>\n",
              "      <th>28</th>\n",
              "      <td>29</td>\n",
              "      <td>Ketersediaan Protein per kapita dari ikan</td>\n",
              "      <td>2012</td>\n",
              "      <td>13.73</td>\n",
              "      <td>gram/kapita/hari</td>\n",
              "    </tr>\n",
              "    <tr>\n",
              "      <th>29</th>\n",
              "      <td>30</td>\n",
              "      <td>Ketersediaan Lemak per kapita dari ikan</td>\n",
              "      <td>2012</td>\n",
              "      <td>1.88</td>\n",
              "      <td>gram/kapita/hari</td>\n",
              "    </tr>\n",
              "  </tbody>\n",
              "</table>\n",
              "</div>"
            ],
            "text/plain": [
              "    ID                          ParamKonsumsiIkan  ...     Nilai            Satuan\n",
              "0    1     Penyediaan ikan untuk konsumsi (total)  ...   7071.93          1000 Ton\n",
              "1    2  Penyediaan ikan untuk konsumsi per kapita  ...     30.95   Kg/Kapita/Tahun\n",
              "2    3                   Konsumsi ikan per kapita  ...     28.00   Kg/Kapita/Tahun\n",
              "3    4   Ketersediaan Kalori per kapita dari ikan  ...     53.00  Kkal/kapita/hari\n",
              "4    5  Ketersediaan Protein per kapita dari ikan  ...      9.53  gram/kapita/hari\n",
              "5    6    Ketersediaan Lemak per kapita dari ikan  ...      1.19  gram/kapita/hari\n",
              "6    7     Penyediaan ikan untuk konsumsi (total)  ...   7754.00          1000 Ton\n",
              "7    8  Penyediaan ikan untuk konsumsi per kapita  ...     33.51   Kg/Kapita/Tahun\n",
              "8    9                   Konsumsi ikan per kapita  ...     29.08   Kg/Kapita/Tahun\n",
              "9   10   Ketersediaan Kalori per kapita dari ikan  ...     58.00  Kkal/kapita/hari\n",
              "10  11  Ketersediaan Protein per kapita dari ikan  ...     10.30  gram/kapita/hari\n",
              "11  12    Ketersediaan Lemak per kapita dari ikan  ...      1.31  gram/kapita/hari\n",
              "12  13     Penyediaan ikan untuk konsumsi (total)  ...   9119.00          1000 Ton\n",
              "13  14  Penyediaan ikan untuk konsumsi per kapita  ...     38.39   Kg/Kapita/Tahun\n",
              "14  15                   Konsumsi ikan per kapita  ...     30.48   Kg/Kapita/Tahun\n",
              "15  16   Ketersediaan Kalori per kapita dari ikan  ...     66.00  Kkal/kapita/hari\n",
              "16  17  Ketersediaan Protein per kapita dari ikan  ...     11.65  gram/kapita/hari\n",
              "17  18    Ketersediaan Lemak per kapita dari ikan  ...      1.53  gram/kapita/hari\n",
              "18  19     Penyediaan ikan untuk konsumsi (total)  ...  10282.00          1000 Ton\n",
              "19  20  Penyediaan ikan untuk konsumsi per kapita  ...     41.95   Kg/Kapita/Tahun\n",
              "20  21                   Konsumsi ikan per kapita  ...     32.25   Kg/Kapita/Tahun\n",
              "21  22   Ketersediaan Kalori per kapita dari ikan  ...     71.00  Kkal/kapita/hari\n",
              "22  23  Ketersediaan Protein per kapita dari ikan  ...     12.57  gram/kapita/hari\n",
              "23  24    Ketersediaan Lemak per kapita dari ikan  ...      1.68  gram/kapita/hari\n",
              "24  25     Penyediaan ikan untuk konsumsi (total)  ...  11589.00          1000 Ton\n",
              "25  26  Penyediaan ikan untuk konsumsi per kapita  ...     46.31   Kg/Kapita/Tahun\n",
              "26  27                   Konsumsi ikan per kapita  ...     33.89   Kg/Kapita/Tahun\n",
              "27  28   Ketersediaan Kalori per kapita dari ikan  ...     78.00  Kkal/kapita/hari\n",
              "28  29  Ketersediaan Protein per kapita dari ikan  ...     13.73  gram/kapita/hari\n",
              "29  30    Ketersediaan Lemak per kapita dari ikan  ...      1.88  gram/kapita/hari\n",
              "\n",
              "[30 rows x 5 columns]"
            ]
          },
          "metadata": {},
          "execution_count": 3
        }
      ]
    },
    {
      "cell_type": "code",
      "metadata": {
        "colab": {
          "base_uri": "https://localhost:8080/",
          "height": 979
        },
        "id": "DXsX-AKjxYMy",
        "outputId": "941da668-644e-451f-d211-791d76231160"
      },
      "source": [
        "data1=pd.DataFrame(data_1[['ParamKonsumsiIkan','Nilai','Tahun']])\n",
        "data1"
      ],
      "execution_count": null,
      "outputs": [
        {
          "output_type": "execute_result",
          "data": {
            "text/html": [
              "<div>\n",
              "<style scoped>\n",
              "    .dataframe tbody tr th:only-of-type {\n",
              "        vertical-align: middle;\n",
              "    }\n",
              "\n",
              "    .dataframe tbody tr th {\n",
              "        vertical-align: top;\n",
              "    }\n",
              "\n",
              "    .dataframe thead th {\n",
              "        text-align: right;\n",
              "    }\n",
              "</style>\n",
              "<table border=\"1\" class=\"dataframe\">\n",
              "  <thead>\n",
              "    <tr style=\"text-align: right;\">\n",
              "      <th></th>\n",
              "      <th>ParamKonsumsiIkan</th>\n",
              "      <th>Nilai</th>\n",
              "      <th>Tahun</th>\n",
              "    </tr>\n",
              "  </thead>\n",
              "  <tbody>\n",
              "    <tr>\n",
              "      <th>0</th>\n",
              "      <td>Penyediaan ikan untuk konsumsi (total)</td>\n",
              "      <td>7071.93</td>\n",
              "      <td>2008</td>\n",
              "    </tr>\n",
              "    <tr>\n",
              "      <th>1</th>\n",
              "      <td>Penyediaan ikan untuk konsumsi per kapita</td>\n",
              "      <td>30.95</td>\n",
              "      <td>2008</td>\n",
              "    </tr>\n",
              "    <tr>\n",
              "      <th>2</th>\n",
              "      <td>Konsumsi ikan per kapita</td>\n",
              "      <td>28.00</td>\n",
              "      <td>2008</td>\n",
              "    </tr>\n",
              "    <tr>\n",
              "      <th>3</th>\n",
              "      <td>Ketersediaan Kalori per kapita dari ikan</td>\n",
              "      <td>53.00</td>\n",
              "      <td>2008</td>\n",
              "    </tr>\n",
              "    <tr>\n",
              "      <th>4</th>\n",
              "      <td>Ketersediaan Protein per kapita dari ikan</td>\n",
              "      <td>9.53</td>\n",
              "      <td>2008</td>\n",
              "    </tr>\n",
              "    <tr>\n",
              "      <th>5</th>\n",
              "      <td>Ketersediaan Lemak per kapita dari ikan</td>\n",
              "      <td>1.19</td>\n",
              "      <td>2008</td>\n",
              "    </tr>\n",
              "    <tr>\n",
              "      <th>6</th>\n",
              "      <td>Penyediaan ikan untuk konsumsi (total)</td>\n",
              "      <td>7754.00</td>\n",
              "      <td>2009</td>\n",
              "    </tr>\n",
              "    <tr>\n",
              "      <th>7</th>\n",
              "      <td>Penyediaan ikan untuk konsumsi per kapita</td>\n",
              "      <td>33.51</td>\n",
              "      <td>2009</td>\n",
              "    </tr>\n",
              "    <tr>\n",
              "      <th>8</th>\n",
              "      <td>Konsumsi ikan per kapita</td>\n",
              "      <td>29.08</td>\n",
              "      <td>2009</td>\n",
              "    </tr>\n",
              "    <tr>\n",
              "      <th>9</th>\n",
              "      <td>Ketersediaan Kalori per kapita dari ikan</td>\n",
              "      <td>58.00</td>\n",
              "      <td>2009</td>\n",
              "    </tr>\n",
              "    <tr>\n",
              "      <th>10</th>\n",
              "      <td>Ketersediaan Protein per kapita dari ikan</td>\n",
              "      <td>10.30</td>\n",
              "      <td>2009</td>\n",
              "    </tr>\n",
              "    <tr>\n",
              "      <th>11</th>\n",
              "      <td>Ketersediaan Lemak per kapita dari ikan</td>\n",
              "      <td>1.31</td>\n",
              "      <td>2009</td>\n",
              "    </tr>\n",
              "    <tr>\n",
              "      <th>12</th>\n",
              "      <td>Penyediaan ikan untuk konsumsi (total)</td>\n",
              "      <td>9119.00</td>\n",
              "      <td>2010</td>\n",
              "    </tr>\n",
              "    <tr>\n",
              "      <th>13</th>\n",
              "      <td>Penyediaan ikan untuk konsumsi per kapita</td>\n",
              "      <td>38.39</td>\n",
              "      <td>2010</td>\n",
              "    </tr>\n",
              "    <tr>\n",
              "      <th>14</th>\n",
              "      <td>Konsumsi ikan per kapita</td>\n",
              "      <td>30.48</td>\n",
              "      <td>2010</td>\n",
              "    </tr>\n",
              "    <tr>\n",
              "      <th>15</th>\n",
              "      <td>Ketersediaan Kalori per kapita dari ikan</td>\n",
              "      <td>66.00</td>\n",
              "      <td>2010</td>\n",
              "    </tr>\n",
              "    <tr>\n",
              "      <th>16</th>\n",
              "      <td>Ketersediaan Protein per kapita dari ikan</td>\n",
              "      <td>11.65</td>\n",
              "      <td>2010</td>\n",
              "    </tr>\n",
              "    <tr>\n",
              "      <th>17</th>\n",
              "      <td>Ketersediaan Lemak per kapita dari ikan</td>\n",
              "      <td>1.53</td>\n",
              "      <td>2010</td>\n",
              "    </tr>\n",
              "    <tr>\n",
              "      <th>18</th>\n",
              "      <td>Penyediaan ikan untuk konsumsi (total)</td>\n",
              "      <td>10282.00</td>\n",
              "      <td>2011</td>\n",
              "    </tr>\n",
              "    <tr>\n",
              "      <th>19</th>\n",
              "      <td>Penyediaan ikan untuk konsumsi per kapita</td>\n",
              "      <td>41.95</td>\n",
              "      <td>2011</td>\n",
              "    </tr>\n",
              "    <tr>\n",
              "      <th>20</th>\n",
              "      <td>Konsumsi ikan per kapita</td>\n",
              "      <td>32.25</td>\n",
              "      <td>2011</td>\n",
              "    </tr>\n",
              "    <tr>\n",
              "      <th>21</th>\n",
              "      <td>Ketersediaan Kalori per kapita dari ikan</td>\n",
              "      <td>71.00</td>\n",
              "      <td>2011</td>\n",
              "    </tr>\n",
              "    <tr>\n",
              "      <th>22</th>\n",
              "      <td>Ketersediaan Protein per kapita dari ikan</td>\n",
              "      <td>12.57</td>\n",
              "      <td>2011</td>\n",
              "    </tr>\n",
              "    <tr>\n",
              "      <th>23</th>\n",
              "      <td>Ketersediaan Lemak per kapita dari ikan</td>\n",
              "      <td>1.68</td>\n",
              "      <td>2011</td>\n",
              "    </tr>\n",
              "    <tr>\n",
              "      <th>24</th>\n",
              "      <td>Penyediaan ikan untuk konsumsi (total)</td>\n",
              "      <td>11589.00</td>\n",
              "      <td>2012</td>\n",
              "    </tr>\n",
              "    <tr>\n",
              "      <th>25</th>\n",
              "      <td>Penyediaan ikan untuk konsumsi per kapita</td>\n",
              "      <td>46.31</td>\n",
              "      <td>2012</td>\n",
              "    </tr>\n",
              "    <tr>\n",
              "      <th>26</th>\n",
              "      <td>Konsumsi ikan per kapita</td>\n",
              "      <td>33.89</td>\n",
              "      <td>2012</td>\n",
              "    </tr>\n",
              "    <tr>\n",
              "      <th>27</th>\n",
              "      <td>Ketersediaan Kalori per kapita dari ikan</td>\n",
              "      <td>78.00</td>\n",
              "      <td>2012</td>\n",
              "    </tr>\n",
              "    <tr>\n",
              "      <th>28</th>\n",
              "      <td>Ketersediaan Protein per kapita dari ikan</td>\n",
              "      <td>13.73</td>\n",
              "      <td>2012</td>\n",
              "    </tr>\n",
              "    <tr>\n",
              "      <th>29</th>\n",
              "      <td>Ketersediaan Lemak per kapita dari ikan</td>\n",
              "      <td>1.88</td>\n",
              "      <td>2012</td>\n",
              "    </tr>\n",
              "  </tbody>\n",
              "</table>\n",
              "</div>"
            ],
            "text/plain": [
              "                            ParamKonsumsiIkan     Nilai  Tahun\n",
              "0      Penyediaan ikan untuk konsumsi (total)   7071.93   2008\n",
              "1   Penyediaan ikan untuk konsumsi per kapita     30.95   2008\n",
              "2                    Konsumsi ikan per kapita     28.00   2008\n",
              "3    Ketersediaan Kalori per kapita dari ikan     53.00   2008\n",
              "4   Ketersediaan Protein per kapita dari ikan      9.53   2008\n",
              "5     Ketersediaan Lemak per kapita dari ikan      1.19   2008\n",
              "6      Penyediaan ikan untuk konsumsi (total)   7754.00   2009\n",
              "7   Penyediaan ikan untuk konsumsi per kapita     33.51   2009\n",
              "8                    Konsumsi ikan per kapita     29.08   2009\n",
              "9    Ketersediaan Kalori per kapita dari ikan     58.00   2009\n",
              "10  Ketersediaan Protein per kapita dari ikan     10.30   2009\n",
              "11    Ketersediaan Lemak per kapita dari ikan      1.31   2009\n",
              "12     Penyediaan ikan untuk konsumsi (total)   9119.00   2010\n",
              "13  Penyediaan ikan untuk konsumsi per kapita     38.39   2010\n",
              "14                   Konsumsi ikan per kapita     30.48   2010\n",
              "15   Ketersediaan Kalori per kapita dari ikan     66.00   2010\n",
              "16  Ketersediaan Protein per kapita dari ikan     11.65   2010\n",
              "17    Ketersediaan Lemak per kapita dari ikan      1.53   2010\n",
              "18     Penyediaan ikan untuk konsumsi (total)  10282.00   2011\n",
              "19  Penyediaan ikan untuk konsumsi per kapita     41.95   2011\n",
              "20                   Konsumsi ikan per kapita     32.25   2011\n",
              "21   Ketersediaan Kalori per kapita dari ikan     71.00   2011\n",
              "22  Ketersediaan Protein per kapita dari ikan     12.57   2011\n",
              "23    Ketersediaan Lemak per kapita dari ikan      1.68   2011\n",
              "24     Penyediaan ikan untuk konsumsi (total)  11589.00   2012\n",
              "25  Penyediaan ikan untuk konsumsi per kapita     46.31   2012\n",
              "26                   Konsumsi ikan per kapita     33.89   2012\n",
              "27   Ketersediaan Kalori per kapita dari ikan     78.00   2012\n",
              "28  Ketersediaan Protein per kapita dari ikan     13.73   2012\n",
              "29    Ketersediaan Lemak per kapita dari ikan      1.88   2012"
            ]
          },
          "metadata": {},
          "execution_count": 4
        }
      ]
    },
    {
      "cell_type": "code",
      "metadata": {
        "colab": {
          "base_uri": "https://localhost:8080/",
          "height": 204
        },
        "id": "iAD4K_kqxzK_",
        "outputId": "8dc867de-9a2f-46cd-97a5-3c80d2d97e28"
      },
      "source": [
        "data2=data1[data1['ParamKonsumsiIkan']=='Konsumsi ikan per kapita']\n",
        "data2"
      ],
      "execution_count": null,
      "outputs": [
        {
          "output_type": "execute_result",
          "data": {
            "text/html": [
              "<div>\n",
              "<style scoped>\n",
              "    .dataframe tbody tr th:only-of-type {\n",
              "        vertical-align: middle;\n",
              "    }\n",
              "\n",
              "    .dataframe tbody tr th {\n",
              "        vertical-align: top;\n",
              "    }\n",
              "\n",
              "    .dataframe thead th {\n",
              "        text-align: right;\n",
              "    }\n",
              "</style>\n",
              "<table border=\"1\" class=\"dataframe\">\n",
              "  <thead>\n",
              "    <tr style=\"text-align: right;\">\n",
              "      <th></th>\n",
              "      <th>ParamKonsumsiIkan</th>\n",
              "      <th>Nilai</th>\n",
              "      <th>Tahun</th>\n",
              "    </tr>\n",
              "  </thead>\n",
              "  <tbody>\n",
              "    <tr>\n",
              "      <th>2</th>\n",
              "      <td>Konsumsi ikan per kapita</td>\n",
              "      <td>28.00</td>\n",
              "      <td>2008</td>\n",
              "    </tr>\n",
              "    <tr>\n",
              "      <th>8</th>\n",
              "      <td>Konsumsi ikan per kapita</td>\n",
              "      <td>29.08</td>\n",
              "      <td>2009</td>\n",
              "    </tr>\n",
              "    <tr>\n",
              "      <th>14</th>\n",
              "      <td>Konsumsi ikan per kapita</td>\n",
              "      <td>30.48</td>\n",
              "      <td>2010</td>\n",
              "    </tr>\n",
              "    <tr>\n",
              "      <th>20</th>\n",
              "      <td>Konsumsi ikan per kapita</td>\n",
              "      <td>32.25</td>\n",
              "      <td>2011</td>\n",
              "    </tr>\n",
              "    <tr>\n",
              "      <th>26</th>\n",
              "      <td>Konsumsi ikan per kapita</td>\n",
              "      <td>33.89</td>\n",
              "      <td>2012</td>\n",
              "    </tr>\n",
              "  </tbody>\n",
              "</table>\n",
              "</div>"
            ],
            "text/plain": [
              "           ParamKonsumsiIkan  Nilai  Tahun\n",
              "2   Konsumsi ikan per kapita  28.00   2008\n",
              "8   Konsumsi ikan per kapita  29.08   2009\n",
              "14  Konsumsi ikan per kapita  30.48   2010\n",
              "20  Konsumsi ikan per kapita  32.25   2011\n",
              "26  Konsumsi ikan per kapita  33.89   2012"
            ]
          },
          "metadata": {},
          "execution_count": 5
        }
      ]
    },
    {
      "cell_type": "code",
      "metadata": {
        "colab": {
          "base_uri": "https://localhost:8080/",
          "height": 204
        },
        "id": "7Md4n5j5x1aq",
        "outputId": "ab3f7708-f5e2-4189-aa31-cc586d992c87"
      },
      "source": [
        "data3 = data1[data1['ParamKonsumsiIkan']== 'Penyediaan ikan untuk konsumsi per kapita']\n",
        "data3"
      ],
      "execution_count": null,
      "outputs": [
        {
          "output_type": "execute_result",
          "data": {
            "text/html": [
              "<div>\n",
              "<style scoped>\n",
              "    .dataframe tbody tr th:only-of-type {\n",
              "        vertical-align: middle;\n",
              "    }\n",
              "\n",
              "    .dataframe tbody tr th {\n",
              "        vertical-align: top;\n",
              "    }\n",
              "\n",
              "    .dataframe thead th {\n",
              "        text-align: right;\n",
              "    }\n",
              "</style>\n",
              "<table border=\"1\" class=\"dataframe\">\n",
              "  <thead>\n",
              "    <tr style=\"text-align: right;\">\n",
              "      <th></th>\n",
              "      <th>ParamKonsumsiIkan</th>\n",
              "      <th>Nilai</th>\n",
              "      <th>Tahun</th>\n",
              "    </tr>\n",
              "  </thead>\n",
              "  <tbody>\n",
              "    <tr>\n",
              "      <th>1</th>\n",
              "      <td>Penyediaan ikan untuk konsumsi per kapita</td>\n",
              "      <td>30.95</td>\n",
              "      <td>2008</td>\n",
              "    </tr>\n",
              "    <tr>\n",
              "      <th>7</th>\n",
              "      <td>Penyediaan ikan untuk konsumsi per kapita</td>\n",
              "      <td>33.51</td>\n",
              "      <td>2009</td>\n",
              "    </tr>\n",
              "    <tr>\n",
              "      <th>13</th>\n",
              "      <td>Penyediaan ikan untuk konsumsi per kapita</td>\n",
              "      <td>38.39</td>\n",
              "      <td>2010</td>\n",
              "    </tr>\n",
              "    <tr>\n",
              "      <th>19</th>\n",
              "      <td>Penyediaan ikan untuk konsumsi per kapita</td>\n",
              "      <td>41.95</td>\n",
              "      <td>2011</td>\n",
              "    </tr>\n",
              "    <tr>\n",
              "      <th>25</th>\n",
              "      <td>Penyediaan ikan untuk konsumsi per kapita</td>\n",
              "      <td>46.31</td>\n",
              "      <td>2012</td>\n",
              "    </tr>\n",
              "  </tbody>\n",
              "</table>\n",
              "</div>"
            ],
            "text/plain": [
              "                            ParamKonsumsiIkan  Nilai  Tahun\n",
              "1   Penyediaan ikan untuk konsumsi per kapita  30.95   2008\n",
              "7   Penyediaan ikan untuk konsumsi per kapita  33.51   2009\n",
              "13  Penyediaan ikan untuk konsumsi per kapita  38.39   2010\n",
              "19  Penyediaan ikan untuk konsumsi per kapita  41.95   2011\n",
              "25  Penyediaan ikan untuk konsumsi per kapita  46.31   2012"
            ]
          },
          "metadata": {},
          "execution_count": 6
        }
      ]
    },
    {
      "cell_type": "code",
      "metadata": {
        "colab": {
          "base_uri": "https://localhost:8080/",
          "height": 359
        },
        "id": "PHMsKfxcyYq1",
        "outputId": "892113b3-fe81-4c9b-9066-d5ced5d298e8"
      },
      "source": [
        "data4=pd.concat([data2,data3],axis=0)\n",
        "dataurut=data4.sort_index(axis=0)\n",
        "dataurut"
      ],
      "execution_count": null,
      "outputs": [
        {
          "output_type": "execute_result",
          "data": {
            "text/html": [
              "<div>\n",
              "<style scoped>\n",
              "    .dataframe tbody tr th:only-of-type {\n",
              "        vertical-align: middle;\n",
              "    }\n",
              "\n",
              "    .dataframe tbody tr th {\n",
              "        vertical-align: top;\n",
              "    }\n",
              "\n",
              "    .dataframe thead th {\n",
              "        text-align: right;\n",
              "    }\n",
              "</style>\n",
              "<table border=\"1\" class=\"dataframe\">\n",
              "  <thead>\n",
              "    <tr style=\"text-align: right;\">\n",
              "      <th></th>\n",
              "      <th>ParamKonsumsiIkan</th>\n",
              "      <th>Nilai</th>\n",
              "      <th>Tahun</th>\n",
              "    </tr>\n",
              "  </thead>\n",
              "  <tbody>\n",
              "    <tr>\n",
              "      <th>1</th>\n",
              "      <td>Penyediaan ikan untuk konsumsi per kapita</td>\n",
              "      <td>30.95</td>\n",
              "      <td>2008</td>\n",
              "    </tr>\n",
              "    <tr>\n",
              "      <th>2</th>\n",
              "      <td>Konsumsi ikan per kapita</td>\n",
              "      <td>28.00</td>\n",
              "      <td>2008</td>\n",
              "    </tr>\n",
              "    <tr>\n",
              "      <th>7</th>\n",
              "      <td>Penyediaan ikan untuk konsumsi per kapita</td>\n",
              "      <td>33.51</td>\n",
              "      <td>2009</td>\n",
              "    </tr>\n",
              "    <tr>\n",
              "      <th>8</th>\n",
              "      <td>Konsumsi ikan per kapita</td>\n",
              "      <td>29.08</td>\n",
              "      <td>2009</td>\n",
              "    </tr>\n",
              "    <tr>\n",
              "      <th>13</th>\n",
              "      <td>Penyediaan ikan untuk konsumsi per kapita</td>\n",
              "      <td>38.39</td>\n",
              "      <td>2010</td>\n",
              "    </tr>\n",
              "    <tr>\n",
              "      <th>14</th>\n",
              "      <td>Konsumsi ikan per kapita</td>\n",
              "      <td>30.48</td>\n",
              "      <td>2010</td>\n",
              "    </tr>\n",
              "    <tr>\n",
              "      <th>19</th>\n",
              "      <td>Penyediaan ikan untuk konsumsi per kapita</td>\n",
              "      <td>41.95</td>\n",
              "      <td>2011</td>\n",
              "    </tr>\n",
              "    <tr>\n",
              "      <th>20</th>\n",
              "      <td>Konsumsi ikan per kapita</td>\n",
              "      <td>32.25</td>\n",
              "      <td>2011</td>\n",
              "    </tr>\n",
              "    <tr>\n",
              "      <th>25</th>\n",
              "      <td>Penyediaan ikan untuk konsumsi per kapita</td>\n",
              "      <td>46.31</td>\n",
              "      <td>2012</td>\n",
              "    </tr>\n",
              "    <tr>\n",
              "      <th>26</th>\n",
              "      <td>Konsumsi ikan per kapita</td>\n",
              "      <td>33.89</td>\n",
              "      <td>2012</td>\n",
              "    </tr>\n",
              "  </tbody>\n",
              "</table>\n",
              "</div>"
            ],
            "text/plain": [
              "                            ParamKonsumsiIkan  Nilai  Tahun\n",
              "1   Penyediaan ikan untuk konsumsi per kapita  30.95   2008\n",
              "2                    Konsumsi ikan per kapita  28.00   2008\n",
              "7   Penyediaan ikan untuk konsumsi per kapita  33.51   2009\n",
              "8                    Konsumsi ikan per kapita  29.08   2009\n",
              "13  Penyediaan ikan untuk konsumsi per kapita  38.39   2010\n",
              "14                   Konsumsi ikan per kapita  30.48   2010\n",
              "19  Penyediaan ikan untuk konsumsi per kapita  41.95   2011\n",
              "20                   Konsumsi ikan per kapita  32.25   2011\n",
              "25  Penyediaan ikan untuk konsumsi per kapita  46.31   2012\n",
              "26                   Konsumsi ikan per kapita  33.89   2012"
            ]
          },
          "metadata": {},
          "execution_count": 7
        }
      ]
    },
    {
      "cell_type": "markdown",
      "metadata": {
        "id": "joUttEaxzD--"
      },
      "source": [
        "**Data ke-2 Jumlah Produksi Benih**\n",
        "\n"
      ]
    },
    {
      "cell_type": "code",
      "metadata": {
        "colab": {
          "base_uri": "https://localhost:8080/",
          "height": 419
        },
        "id": "2aLyS_ADzDcA",
        "outputId": "51c5b761-6bef-4410-b52d-ffd8ac9b143e"
      },
      "source": [
        "data_2 = pd.read_csv('https://raw.githubusercontent.com/SusiWahyuningrum/Basic-Python-Programming-for-Data-Science/main/jumlahproduksibenih.csv')\n",
        "data_2"
      ],
      "execution_count": null,
      "outputs": [
        {
          "output_type": "execute_result",
          "data": {
            "text/html": [
              "<div>\n",
              "<style scoped>\n",
              "    .dataframe tbody tr th:only-of-type {\n",
              "        vertical-align: middle;\n",
              "    }\n",
              "\n",
              "    .dataframe tbody tr th {\n",
              "        vertical-align: top;\n",
              "    }\n",
              "\n",
              "    .dataframe thead th {\n",
              "        text-align: right;\n",
              "    }\n",
              "</style>\n",
              "<table border=\"1\" class=\"dataframe\">\n",
              "  <thead>\n",
              "    <tr style=\"text-align: right;\">\n",
              "      <th></th>\n",
              "      <th>ID</th>\n",
              "      <th>Benih</th>\n",
              "      <th>Budidaya</th>\n",
              "      <th>Tahun</th>\n",
              "      <th>Jumlah</th>\n",
              "    </tr>\n",
              "  </thead>\n",
              "  <tbody>\n",
              "    <tr>\n",
              "      <th>0</th>\n",
              "      <td>1</td>\n",
              "      <td>bandeng &lt;5 cm</td>\n",
              "      <td>budidaya tambak</td>\n",
              "      <td>2001</td>\n",
              "      <td>23646690</td>\n",
              "    </tr>\n",
              "    <tr>\n",
              "      <th>1</th>\n",
              "      <td>2</td>\n",
              "      <td>bandeng &gt;5 cm</td>\n",
              "      <td>budidaya tambak</td>\n",
              "      <td>2001</td>\n",
              "      <td>5205005</td>\n",
              "    </tr>\n",
              "    <tr>\n",
              "      <th>2</th>\n",
              "      <td>3</td>\n",
              "      <td>udang windu</td>\n",
              "      <td>budidaya tambak</td>\n",
              "      <td>2001</td>\n",
              "      <td>19021171</td>\n",
              "    </tr>\n",
              "    <tr>\n",
              "      <th>3</th>\n",
              "      <td>4</td>\n",
              "      <td>udang putih</td>\n",
              "      <td>budidaya tambak</td>\n",
              "      <td>2001</td>\n",
              "      <td>2732715</td>\n",
              "    </tr>\n",
              "    <tr>\n",
              "      <th>4</th>\n",
              "      <td>5</td>\n",
              "      <td>udang vannamei</td>\n",
              "      <td>budidaya tambak</td>\n",
              "      <td>2001</td>\n",
              "      <td>0</td>\n",
              "    </tr>\n",
              "    <tr>\n",
              "      <th>...</th>\n",
              "      <td>...</td>\n",
              "      <td>...</td>\n",
              "      <td>...</td>\n",
              "      <td>...</td>\n",
              "      <td>...</td>\n",
              "    </tr>\n",
              "    <tr>\n",
              "      <th>446</th>\n",
              "      <td>447</td>\n",
              "      <td>semua ikan</td>\n",
              "      <td>budidaya tambak</td>\n",
              "      <td>2012</td>\n",
              "      <td>28966844</td>\n",
              "    </tr>\n",
              "    <tr>\n",
              "      <th>447</th>\n",
              "      <td>448</td>\n",
              "      <td>semua ikan</td>\n",
              "      <td>budidaya kolam</td>\n",
              "      <td>2012</td>\n",
              "      <td>10795957</td>\n",
              "    </tr>\n",
              "    <tr>\n",
              "      <th>448</th>\n",
              "      <td>449</td>\n",
              "      <td>semua ikan</td>\n",
              "      <td>budidaya karamba</td>\n",
              "      <td>2012</td>\n",
              "      <td>1182416</td>\n",
              "    </tr>\n",
              "    <tr>\n",
              "      <th>449</th>\n",
              "      <td>450</td>\n",
              "      <td>semua ikan</td>\n",
              "      <td>budidaya jaring apung</td>\n",
              "      <td>2012</td>\n",
              "      <td>2718598</td>\n",
              "    </tr>\n",
              "    <tr>\n",
              "      <th>450</th>\n",
              "      <td>451</td>\n",
              "      <td>semua ikan</td>\n",
              "      <td>budidaya minapadi</td>\n",
              "      <td>2012</td>\n",
              "      <td>573742</td>\n",
              "    </tr>\n",
              "  </tbody>\n",
              "</table>\n",
              "<p>451 rows × 5 columns</p>\n",
              "</div>"
            ],
            "text/plain": [
              "      ID           Benih               Budidaya  Tahun    Jumlah\n",
              "0      1   bandeng <5 cm        budidaya tambak   2001  23646690\n",
              "1      2   bandeng >5 cm        budidaya tambak   2001   5205005\n",
              "2      3     udang windu        budidaya tambak   2001  19021171\n",
              "3      4     udang putih        budidaya tambak   2001   2732715\n",
              "4      5  udang vannamei        budidaya tambak   2001         0\n",
              "..   ...             ...                    ...    ...       ...\n",
              "446  447      semua ikan        budidaya tambak   2012  28966844\n",
              "447  448      semua ikan         budidaya kolam   2012  10795957\n",
              "448  449      semua ikan       budidaya karamba   2012   1182416\n",
              "449  450      semua ikan  budidaya jaring apung   2012   2718598\n",
              "450  451      semua ikan      budidaya minapadi   2012    573742\n",
              "\n",
              "[451 rows x 5 columns]"
            ]
          },
          "metadata": {},
          "execution_count": 8
        }
      ]
    },
    {
      "cell_type": "code",
      "metadata": {
        "colab": {
          "base_uri": "https://localhost:8080/"
        },
        "id": "Hn75Cpwf01Cf",
        "outputId": "b4eec38c-5234-4216-e6eb-d364333f7c10"
      },
      "source": [
        "data_2.Budidaya.value_counts()"
      ],
      "execution_count": null,
      "outputs": [
        {
          "output_type": "execute_result",
          "data": {
            "text/plain": [
              "budidaya karamba         132\n",
              "budidaya kolam           132\n",
              "budidaya minapadi         88\n",
              "budidaya tambak           77\n",
              "budidaya laut             11\n",
              "budidaya jaring apung     11\n",
              "Name: Budidaya, dtype: int64"
            ]
          },
          "metadata": {},
          "execution_count": 9
        }
      ]
    },
    {
      "cell_type": "code",
      "metadata": {
        "colab": {
          "base_uri": "https://localhost:8080/"
        },
        "id": "cPVtZn3s1Bhh",
        "outputId": "ad0521a4-839a-4451-a75a-ffe55471cebd"
      },
      "source": [
        "List_Budidaya = list(pd.unique(data_2['Budidaya']))\n",
        "List_Budidaya"
      ],
      "execution_count": null,
      "outputs": [
        {
          "output_type": "execute_result",
          "data": {
            "text/plain": [
              "['budidaya tambak',\n",
              " 'budidaya kolam',\n",
              " 'budidaya karamba',\n",
              " 'budidaya minapadi',\n",
              " 'budidaya laut',\n",
              " 'budidaya jaring apung']"
            ]
          },
          "metadata": {},
          "execution_count": 10
        }
      ]
    },
    {
      "cell_type": "code",
      "metadata": {
        "id": "Odz1DfYr1PPO"
      },
      "source": [
        "df_kolam = data_2[data_2['Budidaya'] == 'budidaya kolam']\n",
        "df_karamba = data_2[data_2['Budidaya'] == 'budidaya karamba']"
      ],
      "execution_count": null,
      "outputs": []
    },
    {
      "cell_type": "code",
      "metadata": {
        "id": "1SabMBSP1oQ8"
      },
      "source": [
        "sum_kolam = df_kolam.Jumlah.sum()\n",
        "sum_karamba = df_karamba.Jumlah.sum()"
      ],
      "execution_count": null,
      "outputs": []
    },
    {
      "cell_type": "code",
      "metadata": {
        "colab": {
          "base_uri": "https://localhost:8080/",
          "height": 111
        },
        "id": "ADviAc6G1zTN",
        "outputId": "9e978795-1e01-4e3a-af10-338f377cc86c"
      },
      "source": [
        "df_Jumlah = pd.DataFrame({\"Budidaya\":['Budidaya Kolam','Budidaya Karamba'],\n",
        "                          \"Jumlah\":[sum_kolam, sum_karamba]})\n",
        "df_Jumlah.sort_values(['Jumlah','Budidaya'], ascending=[True, False], inplace=False)\n",
        "df_Jumlah"
      ],
      "execution_count": null,
      "outputs": [
        {
          "output_type": "execute_result",
          "data": {
            "text/html": [
              "<div>\n",
              "<style scoped>\n",
              "    .dataframe tbody tr th:only-of-type {\n",
              "        vertical-align: middle;\n",
              "    }\n",
              "\n",
              "    .dataframe tbody tr th {\n",
              "        vertical-align: top;\n",
              "    }\n",
              "\n",
              "    .dataframe thead th {\n",
              "        text-align: right;\n",
              "    }\n",
              "</style>\n",
              "<table border=\"1\" class=\"dataframe\">\n",
              "  <thead>\n",
              "    <tr style=\"text-align: right;\">\n",
              "      <th></th>\n",
              "      <th>Budidaya</th>\n",
              "      <th>Jumlah</th>\n",
              "    </tr>\n",
              "  </thead>\n",
              "  <tbody>\n",
              "    <tr>\n",
              "      <th>0</th>\n",
              "      <td>Budidaya Kolam</td>\n",
              "      <td>3849404677</td>\n",
              "    </tr>\n",
              "    <tr>\n",
              "      <th>1</th>\n",
              "      <td>Budidaya Karamba</td>\n",
              "      <td>498224893</td>\n",
              "    </tr>\n",
              "  </tbody>\n",
              "</table>\n",
              "</div>"
            ],
            "text/plain": [
              "           Budidaya      Jumlah\n",
              "0    Budidaya Kolam  3849404677\n",
              "1  Budidaya Karamba   498224893"
            ]
          },
          "metadata": {},
          "execution_count": 13
        }
      ]
    },
    {
      "cell_type": "markdown",
      "metadata": {
        "id": "tSiVGHhL2y9I"
      },
      "source": [
        "**Data ke-3 Pembudidaya Ikan Nasional**"
      ]
    },
    {
      "cell_type": "code",
      "metadata": {
        "colab": {
          "base_uri": "https://localhost:8080/",
          "height": 419
        },
        "id": "u5yiqo54159K",
        "outputId": "1c103537-7e97-4497-8465-c83c85aac779"
      },
      "source": [
        "data_3 = pd.read_csv('https://raw.githubusercontent.com/SusiWahyuningrum/Basic-Python-Programming-for-Data-Science/main/pembudidayaikannasional.csv')\n",
        "data_3"
      ],
      "execution_count": null,
      "outputs": [
        {
          "output_type": "execute_result",
          "data": {
            "text/html": [
              "<div>\n",
              "<style scoped>\n",
              "    .dataframe tbody tr th:only-of-type {\n",
              "        vertical-align: middle;\n",
              "    }\n",
              "\n",
              "    .dataframe tbody tr th {\n",
              "        vertical-align: top;\n",
              "    }\n",
              "\n",
              "    .dataframe thead th {\n",
              "        text-align: right;\n",
              "    }\n",
              "</style>\n",
              "<table border=\"1\" class=\"dataframe\">\n",
              "  <thead>\n",
              "    <tr style=\"text-align: right;\">\n",
              "      <th></th>\n",
              "      <th>ID</th>\n",
              "      <th>ProvinsiID</th>\n",
              "      <th>NamaProvinsi</th>\n",
              "      <th>BudidayaID</th>\n",
              "      <th>Budidaya</th>\n",
              "      <th>Tahun</th>\n",
              "      <th>Jumlah</th>\n",
              "    </tr>\n",
              "  </thead>\n",
              "  <tbody>\n",
              "    <tr>\n",
              "      <th>0</th>\n",
              "      <td>1</td>\n",
              "      <td>11</td>\n",
              "      <td>Aceh</td>\n",
              "      <td>0</td>\n",
              "      <td>semua budidaya</td>\n",
              "      <td>2002</td>\n",
              "      <td>30959</td>\n",
              "    </tr>\n",
              "    <tr>\n",
              "      <th>1</th>\n",
              "      <td>2</td>\n",
              "      <td>12</td>\n",
              "      <td>Sumatera Utara</td>\n",
              "      <td>0</td>\n",
              "      <td>semua budidaya</td>\n",
              "      <td>2002</td>\n",
              "      <td>49553</td>\n",
              "    </tr>\n",
              "    <tr>\n",
              "      <th>2</th>\n",
              "      <td>3</td>\n",
              "      <td>13</td>\n",
              "      <td>Sumatera Barat</td>\n",
              "      <td>0</td>\n",
              "      <td>semua budidaya</td>\n",
              "      <td>2002</td>\n",
              "      <td>103354</td>\n",
              "    </tr>\n",
              "    <tr>\n",
              "      <th>3</th>\n",
              "      <td>4</td>\n",
              "      <td>14</td>\n",
              "      <td>Riau</td>\n",
              "      <td>0</td>\n",
              "      <td>semua budidaya</td>\n",
              "      <td>2002</td>\n",
              "      <td>39488</td>\n",
              "    </tr>\n",
              "    <tr>\n",
              "      <th>4</th>\n",
              "      <td>5</td>\n",
              "      <td>15</td>\n",
              "      <td>Jambi</td>\n",
              "      <td>0</td>\n",
              "      <td>semua budidaya</td>\n",
              "      <td>2002</td>\n",
              "      <td>25171</td>\n",
              "    </tr>\n",
              "    <tr>\n",
              "      <th>...</th>\n",
              "      <td>...</td>\n",
              "      <td>...</td>\n",
              "      <td>...</td>\n",
              "      <td>...</td>\n",
              "      <td>...</td>\n",
              "      <td>...</td>\n",
              "      <td>...</td>\n",
              "    </tr>\n",
              "    <tr>\n",
              "      <th>358</th>\n",
              "      <td>359</td>\n",
              "      <td>76</td>\n",
              "      <td>Sulawesi Barat</td>\n",
              "      <td>0</td>\n",
              "      <td>semua budidaya</td>\n",
              "      <td>2012</td>\n",
              "      <td>68469</td>\n",
              "    </tr>\n",
              "    <tr>\n",
              "      <th>359</th>\n",
              "      <td>360</td>\n",
              "      <td>81</td>\n",
              "      <td>Maluku</td>\n",
              "      <td>0</td>\n",
              "      <td>semua budidaya</td>\n",
              "      <td>2012</td>\n",
              "      <td>54870</td>\n",
              "    </tr>\n",
              "    <tr>\n",
              "      <th>360</th>\n",
              "      <td>361</td>\n",
              "      <td>82</td>\n",
              "      <td>Maluku Utara</td>\n",
              "      <td>0</td>\n",
              "      <td>semua budidaya</td>\n",
              "      <td>2012</td>\n",
              "      <td>6020</td>\n",
              "    </tr>\n",
              "    <tr>\n",
              "      <th>361</th>\n",
              "      <td>362</td>\n",
              "      <td>91</td>\n",
              "      <td>Papua Barat</td>\n",
              "      <td>0</td>\n",
              "      <td>semua budidaya</td>\n",
              "      <td>2012</td>\n",
              "      <td>14547</td>\n",
              "    </tr>\n",
              "    <tr>\n",
              "      <th>362</th>\n",
              "      <td>363</td>\n",
              "      <td>94</td>\n",
              "      <td>Papua</td>\n",
              "      <td>0</td>\n",
              "      <td>semua budidaya</td>\n",
              "      <td>2012</td>\n",
              "      <td>15678</td>\n",
              "    </tr>\n",
              "  </tbody>\n",
              "</table>\n",
              "<p>363 rows × 7 columns</p>\n",
              "</div>"
            ],
            "text/plain": [
              "      ID  ProvinsiID    NamaProvinsi  BudidayaID        Budidaya  Tahun  Jumlah\n",
              "0      1          11            Aceh           0  semua budidaya   2002   30959\n",
              "1      2          12  Sumatera Utara           0  semua budidaya   2002   49553\n",
              "2      3          13  Sumatera Barat           0  semua budidaya   2002  103354\n",
              "3      4          14            Riau           0  semua budidaya   2002   39488\n",
              "4      5          15           Jambi           0  semua budidaya   2002   25171\n",
              "..   ...         ...             ...         ...             ...    ...     ...\n",
              "358  359          76  Sulawesi Barat           0  semua budidaya   2012   68469\n",
              "359  360          81          Maluku           0  semua budidaya   2012   54870\n",
              "360  361          82    Maluku Utara           0  semua budidaya   2012    6020\n",
              "361  362          91     Papua Barat           0  semua budidaya   2012   14547\n",
              "362  363          94           Papua           0  semua budidaya   2012   15678\n",
              "\n",
              "[363 rows x 7 columns]"
            ]
          },
          "metadata": {},
          "execution_count": 14
        }
      ]
    },
    {
      "cell_type": "code",
      "metadata": {
        "colab": {
          "base_uri": "https://localhost:8080/"
        },
        "id": "UxC3BeLZ3phD",
        "outputId": "87a77fe7-6ff5-41a1-c2c7-25aa61d5d119"
      },
      "source": [
        "#Filter data untuk menampilkan data pada tahun 2010 saja\n",
        "thn_2010 = data_3[data_3['Tahun']==2010]\n",
        "print(thn_2010)"
      ],
      "execution_count": null,
      "outputs": [
        {
          "output_type": "stream",
          "name": "stdout",
          "text": [
            "      ID  ProvinsiID               NamaProvinsi  ...        Budidaya Tahun  Jumlah\n",
            "264  265          11                       Aceh  ...  semua budidaya  2010   68452\n",
            "265  266          12             Sumatera Utara  ...  semua budidaya  2010   86277\n",
            "266  267          13             Sumatera Barat  ...  semua budidaya  2010  111439\n",
            "267  268          14                       Riau  ...  semua budidaya  2010  236937\n",
            "268  269          15                      Jambi  ...  semua budidaya  2010   35551\n",
            "269  270          16           Sumatera Selatan  ...  semua budidaya  2010  208919\n",
            "270  271          17                   Bengkulu  ...  semua budidaya  2010   11812\n",
            "271  272          18                    Lampung  ...  semua budidaya  2010   91117\n",
            "272  273          19  Kepulauan Bangka Belitung  ...  semua budidaya  2010    5152\n",
            "273  274          21             Kepulauan Riau  ...  semua budidaya  2010   14554\n",
            "274  275          31                DKI Jakarta  ...  semua budidaya  2010    5716\n",
            "275  276          32                 Jawa Barat  ...  semua budidaya  2010  677033\n",
            "276  277          33                Jawa Tengah  ...  semua budidaya  2010  451984\n",
            "277  278          34              DI Yogyakarta  ...  semua budidaya  2010  111021\n",
            "278  279          35                 Jawa Timur  ...  semua budidaya  2010  201982\n",
            "279  280          36                     Banten  ...  semua budidaya  2010   44077\n",
            "280  281          51                       Bali  ...  semua budidaya  2010   28647\n",
            "281  282          52        Nusa Tenggara Barat  ...  semua budidaya  2010   35714\n",
            "282  283          53        Nusa Tenggara Timur  ...  semua budidaya  2010  105673\n",
            "283  284          61           Kalimantan Barat  ...  semua budidaya  2010   37346\n",
            "284  285          62          Kalimantan Tengah  ...  semua budidaya  2010   28306\n",
            "285  286          63         Kalimantan Selatan  ...  semua budidaya  2010   21418\n",
            "286  287          64           Kalimantan Timur  ...  semua budidaya  2010  145250\n",
            "287  288          71             Sulawesi Utara  ...  semua budidaya  2010   19064\n",
            "288  289          72            Sulawesi Tengah  ...  semua budidaya  2010   62163\n",
            "289  290          73           Sulawesi Selatan  ...  semua budidaya  2010  296395\n",
            "290  291          74          Sulawesi Tenggara  ...  semua budidaya  2010   75080\n",
            "291  292          75                  Gorontalo  ...  semua budidaya  2010   10747\n",
            "292  293          76             Sulawesi Barat  ...  semua budidaya  2010   76768\n",
            "293  294          81                     Maluku  ...  semua budidaya  2010   21246\n",
            "294  295          82               Maluku Utara  ...  semua budidaya  2010    9072\n",
            "295  296          91                Papua Barat  ...  semua budidaya  2010    4742\n",
            "296  297          94                      Papua  ...  semua budidaya  2010   11794\n",
            "\n",
            "[33 rows x 7 columns]\n"
          ]
        }
      ]
    },
    {
      "cell_type": "code",
      "metadata": {
        "colab": {
          "base_uri": "https://localhost:8080/"
        },
        "id": "pLXBgBIL31_z",
        "outputId": "bb1e2fe4-b235-43bc-aa4f-505e4dd3e930"
      },
      "source": [
        "#Menghitung rata-rata dari Jumlah Pembudidaya\n",
        "thn_2010 = data_3[data_3['Tahun']==2010]\n",
        "jumlah_2010 = thn_2010['Jumlah']\n",
        "rerata = jumlah_2010.mean()\n",
        "\n",
        "print(\"Rata-rata jumlah pembudidaya ikan di Indonesia pada tahun 2010: \", math.ceil(rerata)) #Membulatkan nilai rerata ke atas\n",
        "\n",
        "print(' ')"
      ],
      "execution_count": null,
      "outputs": [
        {
          "output_type": "stream",
          "name": "stdout",
          "text": [
            "Rata-rata jumlah pembudidaya ikan di Indonesia pada tahun 2010:  101560\n",
            " \n"
          ]
        }
      ]
    },
    {
      "cell_type": "code",
      "metadata": {
        "colab": {
          "base_uri": "https://localhost:8080/"
        },
        "id": "4wMKwUWo4Ooy",
        "outputId": "0c26ad94-0143-4cf9-9586-c6abaffe9eec"
      },
      "source": [
        "#Menampilkan daftar provinsi yang memiliki jumlah pembudidaya di bawah rata-rata\n",
        "\n",
        "thn_2010_new = data_3.loc[(data_3[\"Tahun\"]==2010) & (data_3[\"Jumlah\"] <= rerata)]\n",
        "print('')\n",
        "print(\"Daftar provinsi yang memiliki pembudidaya ikan di bawah rata-rata:\")\n",
        "print(thn_2010_new)"
      ],
      "execution_count": null,
      "outputs": [
        {
          "output_type": "stream",
          "name": "stdout",
          "text": [
            "\n",
            "Daftar provinsi yang memiliki pembudidaya ikan di bawah rata-rata:\n",
            "      ID  ProvinsiID               NamaProvinsi  ...        Budidaya Tahun  Jumlah\n",
            "264  265          11                       Aceh  ...  semua budidaya  2010   68452\n",
            "265  266          12             Sumatera Utara  ...  semua budidaya  2010   86277\n",
            "268  269          15                      Jambi  ...  semua budidaya  2010   35551\n",
            "270  271          17                   Bengkulu  ...  semua budidaya  2010   11812\n",
            "271  272          18                    Lampung  ...  semua budidaya  2010   91117\n",
            "272  273          19  Kepulauan Bangka Belitung  ...  semua budidaya  2010    5152\n",
            "273  274          21             Kepulauan Riau  ...  semua budidaya  2010   14554\n",
            "274  275          31                DKI Jakarta  ...  semua budidaya  2010    5716\n",
            "279  280          36                     Banten  ...  semua budidaya  2010   44077\n",
            "280  281          51                       Bali  ...  semua budidaya  2010   28647\n",
            "281  282          52        Nusa Tenggara Barat  ...  semua budidaya  2010   35714\n",
            "283  284          61           Kalimantan Barat  ...  semua budidaya  2010   37346\n",
            "284  285          62          Kalimantan Tengah  ...  semua budidaya  2010   28306\n",
            "285  286          63         Kalimantan Selatan  ...  semua budidaya  2010   21418\n",
            "287  288          71             Sulawesi Utara  ...  semua budidaya  2010   19064\n",
            "288  289          72            Sulawesi Tengah  ...  semua budidaya  2010   62163\n",
            "290  291          74          Sulawesi Tenggara  ...  semua budidaya  2010   75080\n",
            "291  292          75                  Gorontalo  ...  semua budidaya  2010   10747\n",
            "292  293          76             Sulawesi Barat  ...  semua budidaya  2010   76768\n",
            "293  294          81                     Maluku  ...  semua budidaya  2010   21246\n",
            "294  295          82               Maluku Utara  ...  semua budidaya  2010    9072\n",
            "295  296          91                Papua Barat  ...  semua budidaya  2010    4742\n",
            "296  297          94                      Papua  ...  semua budidaya  2010   11794\n",
            "\n",
            "[23 rows x 7 columns]\n"
          ]
        }
      ]
    },
    {
      "cell_type": "markdown",
      "metadata": {
        "id": "t7g-GAqyy4K_"
      },
      "source": [
        "**Data ke-4 Produk Olahan Ikan**"
      ]
    },
    {
      "cell_type": "code",
      "metadata": {
        "colab": {
          "base_uri": "https://localhost:8080/",
          "height": 419
        },
        "id": "4QiViQG22MRq",
        "outputId": "cda7fcc5-919b-4bb9-c7ad-603df4ec1019"
      },
      "source": [
        "data_4 = pd.read_csv('https://raw.githubusercontent.com/SusiWahyuningrum/Basic-Python-Programming-for-Data-Science/main/produkolahanikan.csv')\n",
        "data_4"
      ],
      "execution_count": null,
      "outputs": [
        {
          "output_type": "execute_result",
          "data": {
            "text/html": [
              "<div>\n",
              "<style scoped>\n",
              "    .dataframe tbody tr th:only-of-type {\n",
              "        vertical-align: middle;\n",
              "    }\n",
              "\n",
              "    .dataframe tbody tr th {\n",
              "        vertical-align: top;\n",
              "    }\n",
              "\n",
              "    .dataframe thead th {\n",
              "        text-align: right;\n",
              "    }\n",
              "</style>\n",
              "<table border=\"1\" class=\"dataframe\">\n",
              "  <thead>\n",
              "    <tr style=\"text-align: right;\">\n",
              "      <th></th>\n",
              "      <th>ID</th>\n",
              "      <th>ProvinsiID</th>\n",
              "      <th>NamaProvinsi</th>\n",
              "      <th>Wilayah</th>\n",
              "      <th>JenisOlahan</th>\n",
              "      <th>JenisPerairan</th>\n",
              "      <th>Tahun</th>\n",
              "      <th>Volume</th>\n",
              "      <th>OlahanID</th>\n",
              "    </tr>\n",
              "  </thead>\n",
              "  <tbody>\n",
              "    <tr>\n",
              "      <th>0</th>\n",
              "      <td>1</td>\n",
              "      <td>11</td>\n",
              "      <td>Aceh</td>\n",
              "      <td>Sumatera</td>\n",
              "      <td>semua</td>\n",
              "      <td>Laut</td>\n",
              "      <td>2001</td>\n",
              "      <td>8640</td>\n",
              "      <td>0</td>\n",
              "    </tr>\n",
              "    <tr>\n",
              "      <th>1</th>\n",
              "      <td>2</td>\n",
              "      <td>12</td>\n",
              "      <td>Sumatera Utara</td>\n",
              "      <td>Sumatera</td>\n",
              "      <td>semua</td>\n",
              "      <td>Laut</td>\n",
              "      <td>2001</td>\n",
              "      <td>151576</td>\n",
              "      <td>0</td>\n",
              "    </tr>\n",
              "    <tr>\n",
              "      <th>2</th>\n",
              "      <td>3</td>\n",
              "      <td>13</td>\n",
              "      <td>Sumatera Barat</td>\n",
              "      <td>Sumatera</td>\n",
              "      <td>semua</td>\n",
              "      <td>Laut</td>\n",
              "      <td>2001</td>\n",
              "      <td>17831</td>\n",
              "      <td>0</td>\n",
              "    </tr>\n",
              "    <tr>\n",
              "      <th>3</th>\n",
              "      <td>4</td>\n",
              "      <td>14</td>\n",
              "      <td>Riau</td>\n",
              "      <td>Sumatera</td>\n",
              "      <td>semua</td>\n",
              "      <td>Laut</td>\n",
              "      <td>2001</td>\n",
              "      <td>52833</td>\n",
              "      <td>0</td>\n",
              "    </tr>\n",
              "    <tr>\n",
              "      <th>4</th>\n",
              "      <td>5</td>\n",
              "      <td>21</td>\n",
              "      <td>Kepulauan Riau</td>\n",
              "      <td>Sumatera</td>\n",
              "      <td>semua</td>\n",
              "      <td>Laut</td>\n",
              "      <td>2001</td>\n",
              "      <td>0</td>\n",
              "      <td>0</td>\n",
              "    </tr>\n",
              "    <tr>\n",
              "      <th>...</th>\n",
              "      <td>...</td>\n",
              "      <td>...</td>\n",
              "      <td>...</td>\n",
              "      <td>...</td>\n",
              "      <td>...</td>\n",
              "      <td>...</td>\n",
              "      <td>...</td>\n",
              "      <td>...</td>\n",
              "      <td>...</td>\n",
              "    </tr>\n",
              "    <tr>\n",
              "      <th>6331</th>\n",
              "      <td>5804</td>\n",
              "      <td>74</td>\n",
              "      <td>Sulawesi Tenggara</td>\n",
              "      <td>Sulawesi</td>\n",
              "      <td>ikan olahan lainnya</td>\n",
              "      <td>Umum</td>\n",
              "      <td>2011</td>\n",
              "      <td>0</td>\n",
              "      <td>8</td>\n",
              "    </tr>\n",
              "    <tr>\n",
              "      <th>6332</th>\n",
              "      <td>5805</td>\n",
              "      <td>81</td>\n",
              "      <td>Maluku</td>\n",
              "      <td>Maluku - Papua</td>\n",
              "      <td>ikan olahan lainnya</td>\n",
              "      <td>Umum</td>\n",
              "      <td>2011</td>\n",
              "      <td>0</td>\n",
              "      <td>8</td>\n",
              "    </tr>\n",
              "    <tr>\n",
              "      <th>6333</th>\n",
              "      <td>5806</td>\n",
              "      <td>82</td>\n",
              "      <td>Maluku Utara</td>\n",
              "      <td>Maluku - Papua</td>\n",
              "      <td>ikan olahan lainnya</td>\n",
              "      <td>Umum</td>\n",
              "      <td>2011</td>\n",
              "      <td>0</td>\n",
              "      <td>8</td>\n",
              "    </tr>\n",
              "    <tr>\n",
              "      <th>6334</th>\n",
              "      <td>5807</td>\n",
              "      <td>91</td>\n",
              "      <td>Papua Barat</td>\n",
              "      <td>Maluku - Papua</td>\n",
              "      <td>ikan olahan lainnya</td>\n",
              "      <td>Umum</td>\n",
              "      <td>2011</td>\n",
              "      <td>9</td>\n",
              "      <td>8</td>\n",
              "    </tr>\n",
              "    <tr>\n",
              "      <th>6335</th>\n",
              "      <td>5808</td>\n",
              "      <td>94</td>\n",
              "      <td>Papua</td>\n",
              "      <td>Maluku - Papua</td>\n",
              "      <td>ikan olahan lainnya</td>\n",
              "      <td>Umum</td>\n",
              "      <td>2011</td>\n",
              "      <td>0</td>\n",
              "      <td>8</td>\n",
              "    </tr>\n",
              "  </tbody>\n",
              "</table>\n",
              "<p>6336 rows × 9 columns</p>\n",
              "</div>"
            ],
            "text/plain": [
              "        ID  ProvinsiID       NamaProvinsi  ... Tahun  Volume OlahanID\n",
              "0        1          11               Aceh  ...  2001    8640        0\n",
              "1        2          12     Sumatera Utara  ...  2001  151576        0\n",
              "2        3          13     Sumatera Barat  ...  2001   17831        0\n",
              "3        4          14               Riau  ...  2001   52833        0\n",
              "4        5          21     Kepulauan Riau  ...  2001       0        0\n",
              "...    ...         ...                ...  ...   ...     ...      ...\n",
              "6331  5804          74  Sulawesi Tenggara  ...  2011       0        8\n",
              "6332  5805          81             Maluku  ...  2011       0        8\n",
              "6333  5806          82       Maluku Utara  ...  2011       0        8\n",
              "6334  5807          91        Papua Barat  ...  2011       9        8\n",
              "6335  5808          94              Papua  ...  2011       0        8\n",
              "\n",
              "[6336 rows x 9 columns]"
            ]
          },
          "metadata": {},
          "execution_count": 18
        }
      ]
    },
    {
      "cell_type": "code",
      "metadata": {
        "colab": {
          "base_uri": "https://localhost:8080/"
        },
        "id": "u3moMSMB4lMp",
        "outputId": "de020059-1330-4b9f-f7b7-eaa932d4afb5"
      },
      "source": [
        "#Mengetahui banyaknya data setiap provinsi yang muncul dalam kolom NamaProvinsi\n",
        "data_4.NamaProvinsi.value_counts()"
      ],
      "execution_count": null,
      "outputs": [
        {
          "output_type": "execute_result",
          "data": {
            "text/plain": [
              "Kalimantan Timur             192\n",
              "Papua Barat                  192\n",
              "Sulawesi Tengah              192\n",
              "Sumatera Utara               192\n",
              "Sulawesi Barat               192\n",
              "Nusa Tenggara Barat          192\n",
              "Sumatera Selatan             192\n",
              "Riau                         192\n",
              "Kepulauan Bangka Belitung    192\n",
              "Jambi                        192\n",
              "Kalimantan Barat             192\n",
              "DKI Jakarta                  192\n",
              "Banten                       192\n",
              "Papua                        192\n",
              "Maluku                       192\n",
              "Jawa Barat                   192\n",
              "DI Yogyakarta                192\n",
              "Kalimantan Tengah            192\n",
              "Aceh                         192\n",
              "Jawa Timur                   192\n",
              "Bengkulu                     192\n",
              "Maluku Utara                 192\n",
              "Jawa Tengah                  192\n",
              "Sulawesi Utara               192\n",
              "Kepulauan Riau               192\n",
              "Nusa Tenggara Timur          192\n",
              "Sulawesi Selatan             192\n",
              "Bali                         192\n",
              "Gorontalo                    192\n",
              "Sulawesi Tenggara            192\n",
              "Sumatera Barat               192\n",
              "Kalimantan Selatan           192\n",
              "Lampung                      192\n",
              "Name: NamaProvinsi, dtype: int64"
            ]
          },
          "metadata": {},
          "execution_count": 19
        }
      ]
    },
    {
      "cell_type": "code",
      "metadata": {
        "colab": {
          "base_uri": "https://localhost:8080/"
        },
        "id": "goUDRRI57Dd_",
        "outputId": "2cde943e-a516-4af2-d208-1beb67d70702"
      },
      "source": [
        "List_NamaProvinsi = list(pd.unique(data_4['NamaProvinsi']))\n",
        "List_NamaProvinsi"
      ],
      "execution_count": null,
      "outputs": [
        {
          "output_type": "execute_result",
          "data": {
            "text/plain": [
              "['Aceh',\n",
              " 'Sumatera Utara',\n",
              " 'Sumatera Barat',\n",
              " 'Riau',\n",
              " 'Kepulauan Riau',\n",
              " 'Jambi',\n",
              " 'Sumatera Selatan',\n",
              " 'Kepulauan Bangka Belitung',\n",
              " 'Bengkulu',\n",
              " 'Lampung',\n",
              " 'Banten',\n",
              " 'DKI Jakarta',\n",
              " 'Jawa Barat',\n",
              " 'Jawa Tengah',\n",
              " 'DI Yogyakarta',\n",
              " 'Jawa Timur',\n",
              " 'Bali',\n",
              " 'Nusa Tenggara Barat',\n",
              " 'Nusa Tenggara Timur',\n",
              " 'Kalimantan Barat',\n",
              " 'Kalimantan Tengah',\n",
              " 'Kalimantan Selatan',\n",
              " 'Kalimantan Timur',\n",
              " 'Sulawesi Utara',\n",
              " 'Gorontalo',\n",
              " 'Sulawesi Tengah',\n",
              " 'Sulawesi Selatan',\n",
              " 'Sulawesi Barat',\n",
              " 'Sulawesi Tenggara',\n",
              " 'Maluku',\n",
              " 'Maluku Utara',\n",
              " 'Papua Barat',\n",
              " 'Papua']"
            ]
          },
          "metadata": {},
          "execution_count": 20
        }
      ]
    },
    {
      "cell_type": "code",
      "metadata": {
        "id": "0QuXdBmE7kt2"
      },
      "source": [
        "#Membentuk data frame baru untuk \"NamaProvinsi\" (Pulau Kalimantan dan Sulawesi)\n",
        "df_KalBar = data_4[data_4['NamaProvinsi'] == 'Kalimantan Barat']\n",
        "df_KalTeng = data_4[data_4['NamaProvinsi'] == 'Kalimantan Tengah']\n",
        "df_KalSel = data_4[data_4['NamaProvinsi'] == 'Kalimantan Selatan']\n",
        "df_KalTim = data_4[data_4['NamaProvinsi'] == 'Kalimantan Timur']\n",
        "df_SulTeng = data_4[data_4['NamaProvinsi'] == 'Sulawesi Tengah']\n",
        "df_SulSel = data_4[data_4['NamaProvinsi'] == 'Sulawesi Selatan']\n",
        "df_SulBar = data_4[data_4['NamaProvinsi'] == 'Sulawesi Barat']\n",
        "df_SulTra = data_4[data_4['NamaProvinsi'] == 'Sulawesi Tenggara']"
      ],
      "execution_count": null,
      "outputs": []
    },
    {
      "cell_type": "code",
      "metadata": {
        "id": "_gtEhNKA9YWT"
      },
      "source": [
        "sum_KalBar = df_KalBar.Volume.sum()\n",
        "sum_KalTeng = df_KalTeng.Volume.sum()\n",
        "sum_KalSel = df_KalSel.Volume.sum()\n",
        "sum_KalTim = df_KalTim.Volume.sum()\n",
        "sum_SulTeng = df_SulTeng.Volume.sum()\n",
        "sum_SulSel = df_SulSel.Volume.sum()\n",
        "sum_SulBar = df_SulBar.Volume.sum()\n",
        "sum_SulTra = df_SulTra.Volume.sum()"
      ],
      "execution_count": null,
      "outputs": []
    },
    {
      "cell_type": "code",
      "metadata": {
        "colab": {
          "base_uri": "https://localhost:8080/",
          "height": 297
        },
        "id": "UNr64Gm-KYVO",
        "outputId": "8328de8f-4854-4c2b-874a-e8ec17cd94e5"
      },
      "source": [
        "df_Volume = pd.DataFrame({\"NamaProvinsi\":['Kalimantan Barat','Kalimantan Tengah','Kalimantan Selatan','Kalimantan Timur','Sulawesi Tengah','Sulawesi Selatan','Sulawesi Barat','Sulawesi Tenggara'],\n",
        "                          \"Volume\":[sum_KalBar, sum_KalTeng, sum_KalSel, sum_KalTim, sum_SulTeng, sum_SulSel, sum_SulBar, sum_SulTra]})\n",
        "df_Volume.sort_values(['Volume','NamaProvinsi'], ascending=[True, False], inplace=False)\n",
        "df_Volume"
      ],
      "execution_count": null,
      "outputs": [
        {
          "output_type": "execute_result",
          "data": {
            "text/html": [
              "<div>\n",
              "<style scoped>\n",
              "    .dataframe tbody tr th:only-of-type {\n",
              "        vertical-align: middle;\n",
              "    }\n",
              "\n",
              "    .dataframe tbody tr th {\n",
              "        vertical-align: top;\n",
              "    }\n",
              "\n",
              "    .dataframe thead th {\n",
              "        text-align: right;\n",
              "    }\n",
              "</style>\n",
              "<table border=\"1\" class=\"dataframe\">\n",
              "  <thead>\n",
              "    <tr style=\"text-align: right;\">\n",
              "      <th></th>\n",
              "      <th>NamaProvinsi</th>\n",
              "      <th>Volume</th>\n",
              "    </tr>\n",
              "  </thead>\n",
              "  <tbody>\n",
              "    <tr>\n",
              "      <th>0</th>\n",
              "      <td>Kalimantan Barat</td>\n",
              "      <td>343926</td>\n",
              "    </tr>\n",
              "    <tr>\n",
              "      <th>1</th>\n",
              "      <td>Kalimantan Tengah</td>\n",
              "      <td>361556</td>\n",
              "    </tr>\n",
              "    <tr>\n",
              "      <th>2</th>\n",
              "      <td>Kalimantan Selatan</td>\n",
              "      <td>931292</td>\n",
              "    </tr>\n",
              "    <tr>\n",
              "      <th>3</th>\n",
              "      <td>Kalimantan Timur</td>\n",
              "      <td>421502</td>\n",
              "    </tr>\n",
              "    <tr>\n",
              "      <th>4</th>\n",
              "      <td>Sulawesi Tengah</td>\n",
              "      <td>427702</td>\n",
              "    </tr>\n",
              "    <tr>\n",
              "      <th>5</th>\n",
              "      <td>Sulawesi Selatan</td>\n",
              "      <td>995568</td>\n",
              "    </tr>\n",
              "    <tr>\n",
              "      <th>6</th>\n",
              "      <td>Sulawesi Barat</td>\n",
              "      <td>144952</td>\n",
              "    </tr>\n",
              "    <tr>\n",
              "      <th>7</th>\n",
              "      <td>Sulawesi Tenggara</td>\n",
              "      <td>866884</td>\n",
              "    </tr>\n",
              "  </tbody>\n",
              "</table>\n",
              "</div>"
            ],
            "text/plain": [
              "         NamaProvinsi  Volume\n",
              "0    Kalimantan Barat  343926\n",
              "1   Kalimantan Tengah  361556\n",
              "2  Kalimantan Selatan  931292\n",
              "3    Kalimantan Timur  421502\n",
              "4     Sulawesi Tengah  427702\n",
              "5    Sulawesi Selatan  995568\n",
              "6      Sulawesi Barat  144952\n",
              "7   Sulawesi Tenggara  866884"
            ]
          },
          "metadata": {},
          "execution_count": 23
        }
      ]
    },
    {
      "cell_type": "markdown",
      "metadata": {
        "id": "kkwSuW8P6dci"
      },
      "source": [
        "**Data ke-5 Produksi Budidaya Nasional**"
      ]
    },
    {
      "cell_type": "code",
      "metadata": {
        "colab": {
          "base_uri": "https://localhost:8080/",
          "height": 419
        },
        "id": "fw4Rlo6M6Wu0",
        "outputId": "b0d68a27-c2de-4e05-e4ee-4c380d241ec0"
      },
      "source": [
        "data_5 = pd.read_csv('https://raw.githubusercontent.com/SusiWahyuningrum/Basic-Python-Programming-for-Data-Science/main/produksibudidayanasional.csv')\n",
        "data_5"
      ],
      "execution_count": null,
      "outputs": [
        {
          "output_type": "execute_result",
          "data": {
            "text/html": [
              "<div>\n",
              "<style scoped>\n",
              "    .dataframe tbody tr th:only-of-type {\n",
              "        vertical-align: middle;\n",
              "    }\n",
              "\n",
              "    .dataframe tbody tr th {\n",
              "        vertical-align: top;\n",
              "    }\n",
              "\n",
              "    .dataframe thead th {\n",
              "        text-align: right;\n",
              "    }\n",
              "</style>\n",
              "<table border=\"1\" class=\"dataframe\">\n",
              "  <thead>\n",
              "    <tr style=\"text-align: right;\">\n",
              "      <th></th>\n",
              "      <th>ID</th>\n",
              "      <th>ProvinsiID</th>\n",
              "      <th>NamaProvinsi</th>\n",
              "      <th>Budidaya</th>\n",
              "      <th>NamaIkan</th>\n",
              "      <th>Tahun</th>\n",
              "      <th>Volume</th>\n",
              "      <th>Nilai</th>\n",
              "      <th>IkanID</th>\n",
              "    </tr>\n",
              "  </thead>\n",
              "  <tbody>\n",
              "    <tr>\n",
              "      <th>0</th>\n",
              "      <td>1</td>\n",
              "      <td>11</td>\n",
              "      <td>Aceh</td>\n",
              "      <td>semua budidaya</td>\n",
              "      <td>total</td>\n",
              "      <td>2003</td>\n",
              "      <td>33877</td>\n",
              "      <td>6.303674e+08</td>\n",
              "      <td>0</td>\n",
              "    </tr>\n",
              "    <tr>\n",
              "      <th>1</th>\n",
              "      <td>2</td>\n",
              "      <td>12</td>\n",
              "      <td>Sumatera Utara</td>\n",
              "      <td>semua budidaya</td>\n",
              "      <td>total</td>\n",
              "      <td>2003</td>\n",
              "      <td>44187</td>\n",
              "      <td>1.111789e+09</td>\n",
              "      <td>0</td>\n",
              "    </tr>\n",
              "    <tr>\n",
              "      <th>2</th>\n",
              "      <td>3</td>\n",
              "      <td>13</td>\n",
              "      <td>Sumatera Barat</td>\n",
              "      <td>semua budidaya</td>\n",
              "      <td>total</td>\n",
              "      <td>2003</td>\n",
              "      <td>30690</td>\n",
              "      <td>2.545988e+08</td>\n",
              "      <td>0</td>\n",
              "    </tr>\n",
              "    <tr>\n",
              "      <th>3</th>\n",
              "      <td>4</td>\n",
              "      <td>14</td>\n",
              "      <td>Riau</td>\n",
              "      <td>semua budidaya</td>\n",
              "      <td>total</td>\n",
              "      <td>2003</td>\n",
              "      <td>36393</td>\n",
              "      <td>1.151402e+09</td>\n",
              "      <td>0</td>\n",
              "    </tr>\n",
              "    <tr>\n",
              "      <th>4</th>\n",
              "      <td>5</td>\n",
              "      <td>15</td>\n",
              "      <td>Jambi</td>\n",
              "      <td>semua budidaya</td>\n",
              "      <td>total</td>\n",
              "      <td>2003</td>\n",
              "      <td>9358</td>\n",
              "      <td>1.153666e+08</td>\n",
              "      <td>0</td>\n",
              "    </tr>\n",
              "    <tr>\n",
              "      <th>...</th>\n",
              "      <td>...</td>\n",
              "      <td>...</td>\n",
              "      <td>...</td>\n",
              "      <td>...</td>\n",
              "      <td>...</td>\n",
              "      <td>...</td>\n",
              "      <td>...</td>\n",
              "      <td>...</td>\n",
              "      <td>...</td>\n",
              "    </tr>\n",
              "    <tr>\n",
              "      <th>4615</th>\n",
              "      <td>4649</td>\n",
              "      <td>76</td>\n",
              "      <td>Sulawesi Barat</td>\n",
              "      <td>semua budidaya</td>\n",
              "      <td>lainnya</td>\n",
              "      <td>2012</td>\n",
              "      <td>85</td>\n",
              "      <td>8.457500e+05</td>\n",
              "      <td>31</td>\n",
              "    </tr>\n",
              "    <tr>\n",
              "      <th>4616</th>\n",
              "      <td>4650</td>\n",
              "      <td>81</td>\n",
              "      <td>Maluku</td>\n",
              "      <td>semua budidaya</td>\n",
              "      <td>lainnya</td>\n",
              "      <td>2012</td>\n",
              "      <td>566</td>\n",
              "      <td>3.796878e+08</td>\n",
              "      <td>31</td>\n",
              "    </tr>\n",
              "    <tr>\n",
              "      <th>4617</th>\n",
              "      <td>4651</td>\n",
              "      <td>82</td>\n",
              "      <td>Maluku Utara</td>\n",
              "      <td>semua budidaya</td>\n",
              "      <td>lainnya</td>\n",
              "      <td>2012</td>\n",
              "      <td>83</td>\n",
              "      <td>1.245000e+06</td>\n",
              "      <td>31</td>\n",
              "    </tr>\n",
              "    <tr>\n",
              "      <th>4618</th>\n",
              "      <td>4652</td>\n",
              "      <td>91</td>\n",
              "      <td>Papua Barat</td>\n",
              "      <td>semua budidaya</td>\n",
              "      <td>lainnya</td>\n",
              "      <td>2012</td>\n",
              "      <td>271</td>\n",
              "      <td>6.700200e+07</td>\n",
              "      <td>31</td>\n",
              "    </tr>\n",
              "    <tr>\n",
              "      <th>4619</th>\n",
              "      <td>4653</td>\n",
              "      <td>94</td>\n",
              "      <td>Papua</td>\n",
              "      <td>semua budidaya</td>\n",
              "      <td>lainnya</td>\n",
              "      <td>2012</td>\n",
              "      <td>235</td>\n",
              "      <td>1.027240e+07</td>\n",
              "      <td>31</td>\n",
              "    </tr>\n",
              "  </tbody>\n",
              "</table>\n",
              "<p>4620 rows × 9 columns</p>\n",
              "</div>"
            ],
            "text/plain": [
              "        ID  ProvinsiID    NamaProvinsi  ... Volume         Nilai  IkanID\n",
              "0        1          11            Aceh  ...  33877  6.303674e+08       0\n",
              "1        2          12  Sumatera Utara  ...  44187  1.111789e+09       0\n",
              "2        3          13  Sumatera Barat  ...  30690  2.545988e+08       0\n",
              "3        4          14            Riau  ...  36393  1.151402e+09       0\n",
              "4        5          15           Jambi  ...   9358  1.153666e+08       0\n",
              "...    ...         ...             ...  ...    ...           ...     ...\n",
              "4615  4649          76  Sulawesi Barat  ...     85  8.457500e+05      31\n",
              "4616  4650          81          Maluku  ...    566  3.796878e+08      31\n",
              "4617  4651          82    Maluku Utara  ...     83  1.245000e+06      31\n",
              "4618  4652          91     Papua Barat  ...    271  6.700200e+07      31\n",
              "4619  4653          94           Papua  ...    235  1.027240e+07      31\n",
              "\n",
              "[4620 rows x 9 columns]"
            ]
          },
          "metadata": {},
          "execution_count": 24
        }
      ]
    },
    {
      "cell_type": "code",
      "metadata": {
        "colab": {
          "base_uri": "https://localhost:8080/",
          "height": 419
        },
        "id": "2JQLl4vN7MV1",
        "outputId": "c64d4106-114e-4711-d7b2-c8bb64dc81b4"
      },
      "source": [
        "df1_A = data_5[data_5['NamaProvinsi'] == 'DI Yogyakarta']\n",
        "df1_A"
      ],
      "execution_count": null,
      "outputs": [
        {
          "output_type": "execute_result",
          "data": {
            "text/html": [
              "<div>\n",
              "<style scoped>\n",
              "    .dataframe tbody tr th:only-of-type {\n",
              "        vertical-align: middle;\n",
              "    }\n",
              "\n",
              "    .dataframe tbody tr th {\n",
              "        vertical-align: top;\n",
              "    }\n",
              "\n",
              "    .dataframe thead th {\n",
              "        text-align: right;\n",
              "    }\n",
              "</style>\n",
              "<table border=\"1\" class=\"dataframe\">\n",
              "  <thead>\n",
              "    <tr style=\"text-align: right;\">\n",
              "      <th></th>\n",
              "      <th>ID</th>\n",
              "      <th>ProvinsiID</th>\n",
              "      <th>NamaProvinsi</th>\n",
              "      <th>Budidaya</th>\n",
              "      <th>NamaIkan</th>\n",
              "      <th>Tahun</th>\n",
              "      <th>Volume</th>\n",
              "      <th>Nilai</th>\n",
              "      <th>IkanID</th>\n",
              "    </tr>\n",
              "  </thead>\n",
              "  <tbody>\n",
              "    <tr>\n",
              "      <th>13</th>\n",
              "      <td>14</td>\n",
              "      <td>34</td>\n",
              "      <td>DI Yogyakarta</td>\n",
              "      <td>semua budidaya</td>\n",
              "      <td>total</td>\n",
              "      <td>2003</td>\n",
              "      <td>7599</td>\n",
              "      <td>45385514.0</td>\n",
              "      <td>0</td>\n",
              "    </tr>\n",
              "    <tr>\n",
              "      <th>46</th>\n",
              "      <td>47</td>\n",
              "      <td>34</td>\n",
              "      <td>DI Yogyakarta</td>\n",
              "      <td>semua budidaya</td>\n",
              "      <td>total</td>\n",
              "      <td>2004</td>\n",
              "      <td>6220</td>\n",
              "      <td>59439524.0</td>\n",
              "      <td>0</td>\n",
              "    </tr>\n",
              "    <tr>\n",
              "      <th>79</th>\n",
              "      <td>80</td>\n",
              "      <td>34</td>\n",
              "      <td>DI Yogyakarta</td>\n",
              "      <td>semua budidaya</td>\n",
              "      <td>total</td>\n",
              "      <td>2005</td>\n",
              "      <td>9131</td>\n",
              "      <td>92464317.0</td>\n",
              "      <td>0</td>\n",
              "    </tr>\n",
              "    <tr>\n",
              "      <th>112</th>\n",
              "      <td>113</td>\n",
              "      <td>34</td>\n",
              "      <td>DI Yogyakarta</td>\n",
              "      <td>semua budidaya</td>\n",
              "      <td>total</td>\n",
              "      <td>2006</td>\n",
              "      <td>9672</td>\n",
              "      <td>96742296.0</td>\n",
              "      <td>0</td>\n",
              "    </tr>\n",
              "    <tr>\n",
              "      <th>145</th>\n",
              "      <td>146</td>\n",
              "      <td>34</td>\n",
              "      <td>DI Yogyakarta</td>\n",
              "      <td>semua budidaya</td>\n",
              "      <td>total</td>\n",
              "      <td>2007</td>\n",
              "      <td>11949</td>\n",
              "      <td>124361980.0</td>\n",
              "      <td>0</td>\n",
              "    </tr>\n",
              "    <tr>\n",
              "      <th>...</th>\n",
              "      <td>...</td>\n",
              "      <td>...</td>\n",
              "      <td>...</td>\n",
              "      <td>...</td>\n",
              "      <td>...</td>\n",
              "      <td>...</td>\n",
              "      <td>...</td>\n",
              "      <td>...</td>\n",
              "      <td>...</td>\n",
              "    </tr>\n",
              "    <tr>\n",
              "      <th>4468</th>\n",
              "      <td>4502</td>\n",
              "      <td>34</td>\n",
              "      <td>DI Yogyakarta</td>\n",
              "      <td>semua budidaya</td>\n",
              "      <td>gurame</td>\n",
              "      <td>2012</td>\n",
              "      <td>8421</td>\n",
              "      <td>252635700.0</td>\n",
              "      <td>9</td>\n",
              "    </tr>\n",
              "    <tr>\n",
              "      <th>4501</th>\n",
              "      <td>4535</td>\n",
              "      <td>34</td>\n",
              "      <td>DI Yogyakarta</td>\n",
              "      <td>semua budidaya</td>\n",
              "      <td>kepiting</td>\n",
              "      <td>2012</td>\n",
              "      <td>0</td>\n",
              "      <td>0.0</td>\n",
              "      <td>25</td>\n",
              "    </tr>\n",
              "    <tr>\n",
              "      <th>4534</th>\n",
              "      <td>4568</td>\n",
              "      <td>34</td>\n",
              "      <td>DI Yogyakarta</td>\n",
              "      <td>semua budidaya</td>\n",
              "      <td>kekerangan</td>\n",
              "      <td>2012</td>\n",
              "      <td>0</td>\n",
              "      <td>0.0</td>\n",
              "      <td>27</td>\n",
              "    </tr>\n",
              "    <tr>\n",
              "      <th>4567</th>\n",
              "      <td>4601</td>\n",
              "      <td>34</td>\n",
              "      <td>DI Yogyakarta</td>\n",
              "      <td>semua budidaya</td>\n",
              "      <td>rumput laut</td>\n",
              "      <td>2012</td>\n",
              "      <td>0</td>\n",
              "      <td>0.0</td>\n",
              "      <td>29</td>\n",
              "    </tr>\n",
              "    <tr>\n",
              "      <th>4600</th>\n",
              "      <td>4634</td>\n",
              "      <td>34</td>\n",
              "      <td>DI Yogyakarta</td>\n",
              "      <td>semua budidaya</td>\n",
              "      <td>lainnya</td>\n",
              "      <td>2012</td>\n",
              "      <td>5630</td>\n",
              "      <td>81197470.0</td>\n",
              "      <td>31</td>\n",
              "    </tr>\n",
              "  </tbody>\n",
              "</table>\n",
              "<p>140 rows × 9 columns</p>\n",
              "</div>"
            ],
            "text/plain": [
              "        ID  ProvinsiID   NamaProvinsi  ... Volume        Nilai  IkanID\n",
              "13      14          34  DI Yogyakarta  ...   7599   45385514.0       0\n",
              "46      47          34  DI Yogyakarta  ...   6220   59439524.0       0\n",
              "79      80          34  DI Yogyakarta  ...   9131   92464317.0       0\n",
              "112    113          34  DI Yogyakarta  ...   9672   96742296.0       0\n",
              "145    146          34  DI Yogyakarta  ...  11949  124361980.0       0\n",
              "...    ...         ...            ...  ...    ...          ...     ...\n",
              "4468  4502          34  DI Yogyakarta  ...   8421  252635700.0       9\n",
              "4501  4535          34  DI Yogyakarta  ...      0          0.0      25\n",
              "4534  4568          34  DI Yogyakarta  ...      0          0.0      27\n",
              "4567  4601          34  DI Yogyakarta  ...      0          0.0      29\n",
              "4600  4634          34  DI Yogyakarta  ...   5630   81197470.0      31\n",
              "\n",
              "[140 rows x 9 columns]"
            ]
          },
          "metadata": {},
          "execution_count": 25
        }
      ]
    },
    {
      "cell_type": "code",
      "metadata": {
        "colab": {
          "base_uri": "https://localhost:8080/",
          "height": 419
        },
        "id": "J-c5TTyD7Si9",
        "outputId": "59bc917c-60dc-4e1f-c0cc-5b72e784d1dd"
      },
      "source": [
        "df1_A[['NamaProvinsi','Tahun','Volume']]"
      ],
      "execution_count": null,
      "outputs": [
        {
          "output_type": "execute_result",
          "data": {
            "text/html": [
              "<div>\n",
              "<style scoped>\n",
              "    .dataframe tbody tr th:only-of-type {\n",
              "        vertical-align: middle;\n",
              "    }\n",
              "\n",
              "    .dataframe tbody tr th {\n",
              "        vertical-align: top;\n",
              "    }\n",
              "\n",
              "    .dataframe thead th {\n",
              "        text-align: right;\n",
              "    }\n",
              "</style>\n",
              "<table border=\"1\" class=\"dataframe\">\n",
              "  <thead>\n",
              "    <tr style=\"text-align: right;\">\n",
              "      <th></th>\n",
              "      <th>NamaProvinsi</th>\n",
              "      <th>Tahun</th>\n",
              "      <th>Volume</th>\n",
              "    </tr>\n",
              "  </thead>\n",
              "  <tbody>\n",
              "    <tr>\n",
              "      <th>13</th>\n",
              "      <td>DI Yogyakarta</td>\n",
              "      <td>2003</td>\n",
              "      <td>7599</td>\n",
              "    </tr>\n",
              "    <tr>\n",
              "      <th>46</th>\n",
              "      <td>DI Yogyakarta</td>\n",
              "      <td>2004</td>\n",
              "      <td>6220</td>\n",
              "    </tr>\n",
              "    <tr>\n",
              "      <th>79</th>\n",
              "      <td>DI Yogyakarta</td>\n",
              "      <td>2005</td>\n",
              "      <td>9131</td>\n",
              "    </tr>\n",
              "    <tr>\n",
              "      <th>112</th>\n",
              "      <td>DI Yogyakarta</td>\n",
              "      <td>2006</td>\n",
              "      <td>9672</td>\n",
              "    </tr>\n",
              "    <tr>\n",
              "      <th>145</th>\n",
              "      <td>DI Yogyakarta</td>\n",
              "      <td>2007</td>\n",
              "      <td>11949</td>\n",
              "    </tr>\n",
              "    <tr>\n",
              "      <th>...</th>\n",
              "      <td>...</td>\n",
              "      <td>...</td>\n",
              "      <td>...</td>\n",
              "    </tr>\n",
              "    <tr>\n",
              "      <th>4468</th>\n",
              "      <td>DI Yogyakarta</td>\n",
              "      <td>2012</td>\n",
              "      <td>8421</td>\n",
              "    </tr>\n",
              "    <tr>\n",
              "      <th>4501</th>\n",
              "      <td>DI Yogyakarta</td>\n",
              "      <td>2012</td>\n",
              "      <td>0</td>\n",
              "    </tr>\n",
              "    <tr>\n",
              "      <th>4534</th>\n",
              "      <td>DI Yogyakarta</td>\n",
              "      <td>2012</td>\n",
              "      <td>0</td>\n",
              "    </tr>\n",
              "    <tr>\n",
              "      <th>4567</th>\n",
              "      <td>DI Yogyakarta</td>\n",
              "      <td>2012</td>\n",
              "      <td>0</td>\n",
              "    </tr>\n",
              "    <tr>\n",
              "      <th>4600</th>\n",
              "      <td>DI Yogyakarta</td>\n",
              "      <td>2012</td>\n",
              "      <td>5630</td>\n",
              "    </tr>\n",
              "  </tbody>\n",
              "</table>\n",
              "<p>140 rows × 3 columns</p>\n",
              "</div>"
            ],
            "text/plain": [
              "       NamaProvinsi  Tahun  Volume\n",
              "13    DI Yogyakarta   2003    7599\n",
              "46    DI Yogyakarta   2004    6220\n",
              "79    DI Yogyakarta   2005    9131\n",
              "112   DI Yogyakarta   2006    9672\n",
              "145   DI Yogyakarta   2007   11949\n",
              "...             ...    ...     ...\n",
              "4468  DI Yogyakarta   2012    8421\n",
              "4501  DI Yogyakarta   2012       0\n",
              "4534  DI Yogyakarta   2012       0\n",
              "4567  DI Yogyakarta   2012       0\n",
              "4600  DI Yogyakarta   2012    5630\n",
              "\n",
              "[140 rows x 3 columns]"
            ]
          },
          "metadata": {},
          "execution_count": 26
        }
      ]
    },
    {
      "cell_type": "markdown",
      "metadata": {
        "id": "tnh0teGG75Bj"
      },
      "source": [
        "**Data ke-6 Produksi Perlakuan Ikan Nasional**"
      ]
    },
    {
      "cell_type": "code",
      "metadata": {
        "colab": {
          "base_uri": "https://localhost:8080/"
        },
        "id": "sovjMXaU8AzY",
        "outputId": "21627e0b-7739-4491-c691-ff93591b1987"
      },
      "source": [
        "data_6 = pd.read_csv('https://raw.githubusercontent.com/SusiWahyuningrum/Basic-Python-Programming-for-Data-Science/main/produksiperlakuanikannasional.csv')\n",
        "data_6.NamaProvinsi.value_counts()"
      ],
      "execution_count": null,
      "outputs": [
        {
          "output_type": "execute_result",
          "data": {
            "text/plain": [
              "Kalimantan Timur             216\n",
              "Papua Barat                  216\n",
              "Sulawesi Tengah              216\n",
              "Sumatera Utara               216\n",
              "Sulawesi Barat               216\n",
              "Nusa Tenggara Barat          216\n",
              "Sumatera Selatan             216\n",
              "Riau                         216\n",
              "Kepulauan Bangka Belitung    216\n",
              "Jambi                        216\n",
              "Kalimantan Barat             216\n",
              "DKI Jakarta                  216\n",
              "Banten                       216\n",
              "Papua                        216\n",
              "Maluku                       216\n",
              "Jawa Barat                   216\n",
              "DI Yogyakarta                216\n",
              "Kalimantan Tengah            216\n",
              "Aceh                         216\n",
              "Jawa Timur                   216\n",
              "Bengkulu                     216\n",
              "Maluku Utara                 216\n",
              "Jawa Tengah                  216\n",
              "Sulawesi Utara               216\n",
              "Kepulauan Riau               216\n",
              "Nusa Tenggara Timur          216\n",
              "Sulawesi Selatan             216\n",
              "Bali                         216\n",
              "Gorontalo                    216\n",
              "Sulawesi Tenggara            216\n",
              "Sumatera Barat               216\n",
              "Kalimantan Selatan           216\n",
              "Lampung                      216\n",
              "Name: NamaProvinsi, dtype: int64"
            ]
          },
          "metadata": {},
          "execution_count": 27
        }
      ]
    },
    {
      "cell_type": "code",
      "metadata": {
        "colab": {
          "base_uri": "https://localhost:8080/"
        },
        "id": "gn1rYZCo_CNC",
        "outputId": "06a47e05-ec45-43ef-9832-c4ac1a317855"
      },
      "source": [
        "# Filter data hanya menampilkan jenis perlakuan pengeringan/penggaraman\n",
        "perlakuan = data_6[data_6['JenisPerlakuan']=='pengeringan/penggaraman']\n",
        "print(perlakuan)"
      ],
      "execution_count": null,
      "outputs": [
        {
          "output_type": "stream",
          "name": "stdout",
          "text": [
            "        ID  ProvinsiID       NamaProvinsi  ... JenisPerairan Tahun Volume\n",
            "726    727          11               Aceh  ...          Laut  2001  12292\n",
            "727    728          12     Sumatera Utara  ...          Laut  2001  83065\n",
            "728    729          13     Sumatera Barat  ...          Laut  2001  30224\n",
            "729    730          14               Riau  ...          Laut  2001  45631\n",
            "730    731          21     Kepulauan Riau  ...          Laut  2001      0\n",
            "...    ...         ...                ...  ...           ...   ...    ...\n",
            "5308  4715          74  Sulawesi Tenggara  ...          Umum  2011     79\n",
            "5309  4716          81             Maluku  ...          Umum  2011      0\n",
            "5310  4717          82       Maluku Utara  ...          Umum  2011      0\n",
            "5311  4718          91        Papua Barat  ...          Umum  2011      0\n",
            "5312  4719          94              Papua  ...          Umum  2011      0\n",
            "\n",
            "[792 rows x 8 columns]\n"
          ]
        }
      ]
    },
    {
      "cell_type": "code",
      "metadata": {
        "id": "HHF5PorD_Iiq"
      },
      "source": [
        "# Definisikan jumlah volume tiap daerah dari seluruh tahun\n",
        "\n",
        "jmlAceh = data_6.loc[data_6['NamaProvinsi'] == 'Aceh', 'Volume'].sum()\n",
        "jmlSumut = data_6.loc[data_6['NamaProvinsi'] == 'Sumatera Utara', 'Volume'].sum()\n",
        "jmlSumbar = data_6.loc[data_6['NamaProvinsi'] == 'Sumatera Barat', 'Volume'].sum()\n",
        "jmlRiau = data_6.loc[data_6['NamaProvinsi'] == 'Riau', 'Volume'].sum()\n",
        "jmlKepri = data_6.loc[data_6['NamaProvinsi'] == 'Kepulauan Riau', 'Volume'].sum()\n",
        "jmlJambi = data_6.loc[data_6['NamaProvinsi'] == 'Jambi', 'Volume'].sum()\n",
        "jmlSumsel = data_6.loc[data_6['NamaProvinsi'] == 'Sumatera Selatan', 'Volume'].sum()\n",
        "jmlBengkulu = data_6.loc[data_6['NamaProvinsi'] == 'Bengkulu', 'Volume'].sum()\n",
        "jmlLampung = data_6.loc[data_6['NamaProvinsi'] == 'Lampung', 'Volume'].sum()\n",
        "jmlBabel = data_6.loc[data_6['NamaProvinsi'] == 'Kepulauan Bangka Belitung', 'Volume'].sum()\n",
        "jmlDKI = data_6.loc[data_6['NamaProvinsi'] == 'DKI Jakarta', 'Volume'].sum()\n",
        "jmlJabar = data_6.loc[data_6['NamaProvinsi'] == 'Jawa Barat', 'Volume'].sum()\n",
        "jmlJateng = data_6.loc[data_6['NamaProvinsi'] == 'Jawa Tengah', 'Volume'].sum()\n",
        "jmlDIY = data_6.loc[data_6['NamaProvinsi'] == 'DI Yogyakarta', 'Volume'].sum()\n",
        "jmlJatim = data_6.loc[data_6['NamaProvinsi'] == 'Jawa Timur', 'Volume'].sum()\n",
        "jmlBanten = data_6.loc[data_6['NamaProvinsi'] == 'Banten', 'Volume'].sum()\n",
        "jmlBali = data_6.loc[data_6['NamaProvinsi'] == 'Bali', 'Volume'].sum()\n",
        "jmlNTB = data_6.loc[data_6['NamaProvinsi'] == 'Nusa Tenggara Barat', 'Volume'].sum()\n",
        "jmlNTT = data_6.loc[data_6['NamaProvinsi'] == 'Nusa Tenggara Timur', 'Volume'].sum()\n",
        "jmlKalbar = data_6.loc[data_6['NamaProvinsi'] == 'Kalimantan Barat', 'Volume'].sum()\n",
        "jmlKaltim = data_6.loc[data_6['NamaProvinsi'] == 'Kalimantan Timur', 'Volume'].sum()\n",
        "jmlKalteng = data_6.loc[data_6['NamaProvinsi'] == 'Kalimantan Tengah', 'Volume'].sum()\n",
        "jmlKalsel = data_6.loc[data_6['NamaProvinsi'] == 'Kalimantan Selatan', 'Volume'].sum()\n",
        "jmlSulut = data_6.loc[data_6['NamaProvinsi'] == 'Sulawesi Utara', 'Volume'].sum()\n",
        "jmlSulteng = data_6.loc[data_6['NamaProvinsi'] == 'Sulawesi Tengah', 'Volume'].sum()\n",
        "jmlSulsel = data_6.loc[data_6['NamaProvinsi'] == 'Sulawesi Selatan', 'Volume'].sum()\n",
        "jmlSultra = data_6.loc[data_6['NamaProvinsi'] == 'Sulawesi Tenggara', 'Volume'].sum()\n",
        "jmlGorontalo = data_6.loc[data_6['NamaProvinsi'] == 'Gorontalo', 'Volume'].sum()\n",
        "jmlSulbar = data_6.loc[data_6['NamaProvinsi'] == 'Sulawesi Barat', 'Volume'].sum()\n",
        "jmlMaluku = data_6.loc[data_6['NamaProvinsi'] == 'Maluku', 'Volume'].sum()\n",
        "jmlMalUtara = data_6.loc[data_6['NamaProvinsi'] == 'Maluku Utara', 'Volume'].sum()\n",
        "jmlPBarat = data_6.loc[data_6['NamaProvinsi'] == 'Papua Barat', 'Volume'].sum()\n",
        "jmlPapua = data_6.loc[data_6['NamaProvinsi'] == 'Papua', 'Volume'].sum()"
      ],
      "execution_count": null,
      "outputs": []
    },
    {
      "cell_type": "code",
      "metadata": {
        "colab": {
          "base_uri": "https://localhost:8080/"
        },
        "id": "uj1wYcPiA1gA",
        "outputId": "83ac1ad1-0e81-4b35-903c-ecbb7a9db27c"
      },
      "source": [
        "#Membuat dataframe baru\n",
        "df_vol = pd.DataFrame({'Provinsi': ['Aceh', 'Sumatera Utara', 'Sumatera Barat', 'Riau', 'Jambi', 'Sumatera Selatan', 'Bengkulu', 'Lampung', \n",
        "                                   'Kep. Bangka Belitung', 'Kepulauan Riau', 'DKI Jakarta', 'Jawa Barat', 'Jawa Tengah', 'DI Yogyakarta', 'Jawa Timur',\n",
        "                                   'Banten', 'Bali', 'Nusa Tenggara Barat', 'Nusa Tenggara Timur', 'Kalimantan Barat', 'Kalimantan Timur', \n",
        "                                   'Kalimantan Tengah', 'Kalimantan Selatan', 'Sulawesi Utara', 'Sulawesi Tengah', 'Sulawesi Selatan', 'Sulawesi Tenggara',\n",
        "                                   'Gorontalo', 'Sulawesi Barat', 'Maluku', 'Maluku Utara', 'Papua Barat', 'Papua'],\n",
        "                       'Volume' : [jmlAceh, jmlSumut, jmlSumbar, jmlRiau, jmlJambi, jmlSumsel, jmlBengkulu, jmlLampung, jmlBabel, jmlKepri, jmlDKI,\n",
        "                                   jmlJabar, jmlJateng, jmlDIY, jmlJatim, jmlBanten, jmlBali, jmlNTB, jmlNTT, jmlKalbar, jmlKaltim, jmlKalteng,\n",
        "                                   jmlKalsel, jmlSulut, jmlSulteng, jmlSulsel, jmlSultra, jmlGorontalo, jmlSulbar, jmlMaluku, jmlMalUtara, jmlPBarat, jmlPapua]})\n",
        "print(df_vol)\n"
      ],
      "execution_count": null,
      "outputs": [
        {
          "output_type": "stream",
          "name": "stdout",
          "text": [
            "                Provinsi   Volume\n",
            "0                   Aceh  2943822\n",
            "1         Sumatera Utara  9643274\n",
            "2         Sumatera Barat  3737054\n",
            "3                   Riau  4272656\n",
            "4                  Jambi  1182572\n",
            "5       Sumatera Selatan  2221002\n",
            "6               Bengkulu   958919\n",
            "7                Lampung  3737238\n",
            "8   Kep. Bangka Belitung  3561588\n",
            "9         Kepulauan Riau  2983048\n",
            "10           DKI Jakarta  3479246\n",
            "11            Jawa Barat  4115137\n",
            "12           Jawa Tengah  5747778\n",
            "13         DI Yogyakarta   187746\n",
            "14            Jawa Timur  8973418\n",
            "15                Banten  1578974\n",
            "16                  Bali  2112994\n",
            "17   Nusa Tenggara Barat  2438800\n",
            "18   Nusa Tenggara Timur  2300414\n",
            "19      Kalimantan Barat  2020022\n",
            "20      Kalimantan Timur  3102086\n",
            "21     Kalimantan Tengah  2027527\n",
            "22    Kalimantan Selatan  4017701\n",
            "23        Sulawesi Utara  4989750\n",
            "24       Sulawesi Tengah  2757321\n",
            "25      Sulawesi Selatan  7012985\n",
            "26     Sulawesi Tenggara  4790134\n",
            "27             Gorontalo  1258769\n",
            "28        Sulawesi Barat   954098\n",
            "29                Maluku  9930958\n",
            "30          Maluku Utara  2858696\n",
            "31           Papua Barat  1857544\n",
            "32                 Papua  5747502\n"
          ]
        }
      ]
    },
    {
      "cell_type": "code",
      "metadata": {
        "colab": {
          "base_uri": "https://localhost:8080/"
        },
        "id": "_fotaxUVBAQb",
        "outputId": "289ffcee-e966-409a-c484-be9ced2954fd"
      },
      "source": [
        "#Sorting berdasarkan besar volume\n",
        "df_vol_sort = df_vol.sort_values('Volume')\n",
        "print(df_vol_sort.tail(5))"
      ],
      "execution_count": null,
      "outputs": [
        {
          "output_type": "stream",
          "name": "stdout",
          "text": [
            "            Provinsi   Volume\n",
            "12       Jawa Tengah  5747778\n",
            "25  Sulawesi Selatan  7012985\n",
            "14        Jawa Timur  8973418\n",
            "1     Sumatera Utara  9643274\n",
            "29            Maluku  9930958\n"
          ]
        }
      ]
    },
    {
      "cell_type": "markdown",
      "metadata": {
        "id": "L85UAkrm5oEc"
      },
      "source": [
        "#Report"
      ]
    },
    {
      "cell_type": "markdown",
      "metadata": {
        "id": "sv872aJxCjFd"
      },
      "source": [
        "##Report 1\n",
        "**Data ke-1 Angka Konsumsi Ikan**\n",
        "\n",
        "Pada tahun berapakah angka konsumsi ikan mencapai parameter nilai tertinggi ?"
      ]
    },
    {
      "cell_type": "code",
      "metadata": {
        "colab": {
          "base_uri": "https://localhost:8080/",
          "height": 447
        },
        "id": "KKJCgM6qClF8",
        "outputId": "3220ada0-2f85-4533-db7c-8954c8a90ad6"
      },
      "source": [
        "Konsumsi =[28,29.08,30.48,32.25,33.89]\n",
        "Penyediaan_ikan_konsumsi = [30.95,33.51,38.39,41.95,46.31]\n",
        "Tahun = ('2008','2009','2010','2011','2012')\n",
        "x= np.arange(len(Tahun))\n",
        "width=0.35\n",
        "fig, ax=plt.subplots(figsize=(12,7))\n",
        "a= ax.bar(x-width/2,Penyediaan_ikan_konsumsi,width,label='Penyediaan ikan untuk konsumsi per kapita',color = 'darkblue')\n",
        "b=ax.bar(x+width/2,Konsumsi,width,label='Konsumsi ikan per kapita', color='steelblue')\n",
        "ax.set_title('Penyediaan ikan untuk konsumsi per kapita')\n",
        "ax.set_ylabel('Nilai',size=13)\n",
        "ax.set_xticks(x)\n",
        "ax.set_xticklabels(Tahun,size=13)\n",
        "ax.legend(fontsize=12)\n",
        "plt.show( )"
      ],
      "execution_count": null,
      "outputs": [
        {
          "output_type": "display_data",
          "data": {
            "image/png": "[encoded data removed]",
            "text/plain": [
              "<Figure size 864x504 with 1 Axes>"
            ]
          },
          "metadata": {
            "needs_background": "light"
          }
        }
      ]
    },
    {
      "cell_type": "markdown",
      "metadata": {
        "id": "jnjiJbr4C-Lg"
      },
      "source": [
        "Angka konsumsi ikan pada tahun 2008 sebesar 28,00 kg/kap/th, meningkat setiap tahunnya hingga mencapai 33,89 kg/kap/th pada tahun 2012 dengan tingkat pertumbuhan sebesar 3,07%. Penyediaan ikan pada tahun 2008 sebesar 30.95 kg/kap/th dan meningkat menjadi 46.31 kg/kap/th pada tahun 2012 dengan tingkat pertumbuhan sebesar 3.82%. Sehingga angka konsumsi ikan mencapai parameter nilai tertinggi pada tahun 2012.\n",
        "\n",
        "http://jppik.id/index.php/jppik/article/view/82"
      ]
    },
    {
      "cell_type": "markdown",
      "metadata": {
        "id": "t5oWk2geC9tQ"
      },
      "source": [
        "##Insight 1\n",
        "**Data ke-1 Angka Konsumsi Ikan**\n",
        "\n",
        "Bagaimana nilai proyeksi angka konsumsi ikan di Indonesia pada tahun 2012 ?"
      ]
    },
    {
      "cell_type": "markdown",
      "metadata": {
        "id": "exz0KtiTDQM0"
      },
      "source": [
        "Nilai proyeksi permintaan dengan mengambil laju pertumbuhan pendapatan 5 persen dan laju\n",
        "pertumbuhan harga 3 persen merupakan skenario terbaik karena menghasilkan persentase kesalahan\n",
        "relatif paling kecil, yaitu sekitar 2.5 persen. Pada skenario ini terlihat tingkat konsumsi ikan per kapita\n",
        "penduduk Indonesia akan mengalami kenaikan dengan laju rata-rata sekitar 4.3 persen per tahun. Jika\n",
        "hasil proyeksi ini dikaitkan dikaitkan dengan program pemerintah yang mentargetkan tingkat\n",
        "konsumsi ikan sebesar 33,89 kg/kap/th pada tahun 2012 tampaknya hal tersebut belum dapat dicapai,\n",
        "karena nilai proyeksi berdasarkan skenario ini adalah 33.21 kg/kapita. Dengan asumsi elastisitas harga\n",
        "dan pendapatan tetap, maka target tingkat konsumsi ikan sebesar 33,89 kg/kap/th pada tahun 2012 harus\n",
        "diikuti dengan upaya memacu laju pertumbuhan harga dan pendapatan, yaitu sebesar 5 persen dan 7\n",
        "persen per tahun. Hal ini antara lain dapat dilakukan dengan kebijakan harga (meningkatkan\n",
        "harga ikan) untuk golongan menengah ke atas dan kebijakan yang dapat meningkatkan pendapatan\n",
        "bagi golongan menengah ke bawah.\n",
        "\n",
        "\n",
        "https://d1wqtxts1xzle7.cloudfront.net/33800742/SKENARIO_PROYEKSI_KONSUMSI_IKAN_PER_KAPITA_DI_INDONESIA-with-cover-page-v2.pdf?Expires=1626440042&Signature=QVZ~BOfBaMvdu56BH7PfK-iRqhX1WWDCLZliP9-6hV2tyrzDBC7xxYtjb0VSUGYD5mPoAK2XZVP85UkKhqK956XciJMZHFKaBXdR6enWmGTMCh5x~pfadlSLKcstNDQ~cs~hVekGqu2m8-ddKvjqoQBHwtF7snY09ZuhscqGOA2nlBVxjEH-TLPcdPSIyKFFDYRKjXHpkNiGh7AT4CvcZkq-Ir6SnprjgBajQXy2BZ4JdRUsvXPXelNOb2XojvVLku~oatibz4ZZgJDNcUBw5FDZNV4A0lV2rDk2iTTxavcHR617Mb7gheJprLcYFgtSGVNii8w0oy9IYC41ncKbfg__&Key-Pair-Id=APKAJLOHF5GGSLRBV4ZA\n"
      ]
    },
    {
      "cell_type": "markdown",
      "metadata": {
        "id": "IKvanNbjDhXo"
      },
      "source": [
        "##Report 2\n",
        "**Data ke-2 Jumlah Produksi Benih**\n",
        "\n",
        "Berdasarkan data jumlah produksi benih , perbandingan jumlah hasil budidaya kolam dan budidaya karamba manakah yang menghasilkan jumlah paling banyak ? "
      ]
    },
    {
      "cell_type": "code",
      "metadata": {
        "colab": {
          "base_uri": "https://localhost:8080/",
          "height": 542
        },
        "id": "NhbheG8wEJQC",
        "outputId": "a1d8aff4-c73e-46dc-9950-9e98d09c43fb"
      },
      "source": [
        "data = px.bar(df_Jumlah,x = 'Budidaya',y = 'Jumlah')\n",
        "data.update_layout(\n",
        "    title = 'Diagram Jumlah Produksi Benih pada Budidaya Kolam dan Budidaya Karamba',\n",
        "    title_font_color = 'blue',\n",
        "    title_font_size = 25,\n",
        "\n",
        "    xaxis = dict(\n",
        "        title = 'Budidaya',\n",
        "        titlefont_size = 15,\n",
        "        tickfont_size = 10),\n",
        "    yaxis = dict(\n",
        "        title = 'Jumlah Produksi Benih',\n",
        "        titlefont_size = 15,\n",
        "        tickfont_size = 10))\n",
        "data.show()"
      ],
      "execution_count": null,
      "outputs": [
        {
          "output_type": "display_data",
          "data": {
            "text/html": [
              "<html>\n",
              "<head><meta charset=\"utf-8\" /></head>\n",
              "<body>\n",
              "    <div>\n",
              "            <script src=\"https://cdnjs.cloudflare.com/ajax/libs/mathjax/2.7.5/MathJax.js?config=TeX-AMS-MML_SVG\"></script><script type=\"text/javascript\">if (window.MathJax) {MathJax.Hub.Config({SVG: {font: \"STIX-Web\"}});}</script>\n",
              "                <script type=\"text/javascript\">window.PlotlyConfig = {MathJaxConfig: 'local'};</script>\n",
              "        <script src=\"https://cdn.plot.ly/plotly-latest.min.js\"></script>    \n",
              "            <div id=\"450f2490-a20a-4ca8-a00e-f533fc8b1131\" class=\"plotly-graph-div\" style=\"height:525px; width:100%;\"></div>\n",
              "            <script type=\"text/javascript\">\n",
              "                \n",
              "                    window.PLOTLYENV=window.PLOTLYENV || {};\n",
              "                    \n",
              "                if (document.getElementById(\"450f2490-a20a-4ca8-a00e-f533fc8b1131\")) {\n",
              "                    Plotly.newPlot(\n",
              "                        '450f2490-a20a-4ca8-a00e-f533fc8b1131',\n",
              "                        [{\"alignmentgroup\": \"True\", \"hoverlabel\": {\"namelength\": 0}, \"hovertemplate\": \"Budidaya=%{x}<br>Jumlah=%{y}\", \"legendgroup\": \"\", \"marker\": {\"color\": \"#636efa\"}, \"name\": \"\", \"offsetgroup\": \"\", \"orientation\": \"v\", \"showlegend\": false, \"textposition\": \"auto\", \"type\": \"bar\", \"x\": [\"Budidaya Kolam\", \"Budidaya Karamba\"], \"xaxis\": \"x\", \"y\": [3849404677, 498224893], \"yaxis\": \"y\"}],\n",
              "                        {\"barmode\": \"relative\", \"legend\": {\"tracegroupgap\": 0}, \"margin\": {\"t\": 60}, \"template\": {\"data\": {\"bar\": [{\"error_x\": {\"color\": \"#2a3f5f\"}, \"error_y\": {\"color\": \"#2a3f5f\"}, \"marker\": {\"line\": {\"color\": \"#E5ECF6\", \"width\": 0.5}}, \"type\": \"bar\"}], \"barpolar\": [{\"marker\": {\"line\": {\"color\": \"#E5ECF6\", \"width\": 0.5}}, \"type\": \"barpolar\"}], \"carpet\": [{\"aaxis\": {\"endlinecolor\": \"#2a3f5f\", \"gridcolor\": \"white\", \"linecolor\": \"white\", \"minorgridcolor\": \"white\", \"startlinecolor\": \"#2a3f5f\"}, \"baxis\": {\"endlinecolor\": \"#2a3f5f\", \"gridcolor\": \"white\", \"linecolor\": \"white\", \"minorgridcolor\": \"white\", \"startlinecolor\": \"#2a3f5f\"}, \"type\": \"carpet\"}], \"choropleth\": [{\"colorbar\": {\"outlinewidth\": 0, \"ticks\": \"\"}, \"type\": \"choropleth\"}], \"contour\": [{\"colorbar\": {\"outlinewidth\": 0, \"ticks\": \"\"}, \"colorscale\": [[0.0, \"#0d0887\"], [0.1111111111111111, \"#46039f\"], [0.2222222222222222, \"#7201a8\"], [0.3333333333333333, \"#9c179e\"], [0.4444444444444444, \"#bd3786\"], [0.5555555555555556, \"#d8576b\"], [0.6666666666666666, \"#ed7953\"], [0.7777777777777778, \"#fb9f3a\"], [0.8888888888888888, \"#fdca26\"], [1.0, \"#f0f921\"]], \"type\": \"contour\"}], \"contourcarpet\": [{\"colorbar\": {\"outlinewidth\": 0, \"ticks\": \"\"}, \"type\": \"contourcarpet\"}], \"heatmap\": [{\"colorbar\": {\"outlinewidth\": 0, \"ticks\": \"\"}, \"colorscale\": [[0.0, \"#0d0887\"], [0.1111111111111111, \"#46039f\"], [0.2222222222222222, \"#7201a8\"], [0.3333333333333333, \"#9c179e\"], [0.4444444444444444, \"#bd3786\"], [0.5555555555555556, \"#d8576b\"], [0.6666666666666666, \"#ed7953\"], [0.7777777777777778, \"#fb9f3a\"], [0.8888888888888888, \"#fdca26\"], [1.0, \"#f0f921\"]], \"type\": \"heatmap\"}], \"heatmapgl\": [{\"colorbar\": {\"outlinewidth\": 0, \"ticks\": \"\"}, \"colorscale\": [[0.0, \"#0d0887\"], [0.1111111111111111, \"#46039f\"], [0.2222222222222222, \"#7201a8\"], [0.3333333333333333, \"#9c179e\"], [0.4444444444444444, \"#bd3786\"], [0.5555555555555556, \"#d8576b\"], [0.6666666666666666, \"#ed7953\"], [0.7777777777777778, \"#fb9f3a\"], [0.8888888888888888, \"#fdca26\"], [1.0, \"#f0f921\"]], \"type\": \"heatmapgl\"}], \"histogram\": [{\"marker\": {\"colorbar\": {\"outlinewidth\": 0, \"ticks\": \"\"}}, \"type\": \"histogram\"}], \"histogram2d\": [{\"colorbar\": {\"outlinewidth\": 0, \"ticks\": \"\"}, \"colorscale\": [[0.0, \"#0d0887\"], [0.1111111111111111, \"#46039f\"], [0.2222222222222222, \"#7201a8\"], [0.3333333333333333, \"#9c179e\"], [0.4444444444444444, \"#bd3786\"], [0.5555555555555556, \"#d8576b\"], [0.6666666666666666, \"#ed7953\"], [0.7777777777777778, \"#fb9f3a\"], [0.8888888888888888, \"#fdca26\"], [1.0, \"#f0f921\"]], \"type\": \"histogram2d\"}], \"histogram2dcontour\": [{\"colorbar\": {\"outlinewidth\": 0, \"ticks\": \"\"}, \"colorscale\": [[0.0, \"#0d0887\"], [0.1111111111111111, \"#46039f\"], [0.2222222222222222, \"#7201a8\"], [0.3333333333333333, \"#9c179e\"], [0.4444444444444444, \"#bd3786\"], [0.5555555555555556, \"#d8576b\"], [0.6666666666666666, \"#ed7953\"], [0.7777777777777778, \"#fb9f3a\"], [0.8888888888888888, \"#fdca26\"], [1.0, \"#f0f921\"]], \"type\": \"histogram2dcontour\"}], \"mesh3d\": [{\"colorbar\": {\"outlinewidth\": 0, \"ticks\": \"\"}, \"type\": \"mesh3d\"}], \"parcoords\": [{\"line\": {\"colorbar\": {\"outlinewidth\": 0, \"ticks\": \"\"}}, \"type\": \"parcoords\"}], \"pie\": [{\"automargin\": true, \"type\": \"pie\"}], \"scatter\": [{\"marker\": {\"colorbar\": {\"outlinewidth\": 0, \"ticks\": \"\"}}, \"type\": \"scatter\"}], \"scatter3d\": [{\"line\": {\"colorbar\": {\"outlinewidth\": 0, \"ticks\": \"\"}}, \"marker\": {\"colorbar\": {\"outlinewidth\": 0, \"ticks\": \"\"}}, \"type\": \"scatter3d\"}], \"scattercarpet\": [{\"marker\": {\"colorbar\": {\"outlinewidth\": 0, \"ticks\": \"\"}}, \"type\": \"scattercarpet\"}], \"scattergeo\": [{\"marker\": {\"colorbar\": {\"outlinewidth\": 0, \"ticks\": \"\"}}, \"type\": \"scattergeo\"}], \"scattergl\": [{\"marker\": {\"colorbar\": {\"outlinewidth\": 0, \"ticks\": \"\"}}, \"type\": \"scattergl\"}], \"scattermapbox\": [{\"marker\": {\"colorbar\": {\"outlinewidth\": 0, \"ticks\": \"\"}}, \"type\": \"scattermapbox\"}], \"scatterpolar\": [{\"marker\": {\"colorbar\": {\"outlinewidth\": 0, \"ticks\": \"\"}}, \"type\": \"scatterpolar\"}], \"scatterpolargl\": [{\"marker\": {\"colorbar\": {\"outlinewidth\": 0, \"ticks\": \"\"}}, \"type\": \"scatterpolargl\"}], \"scatterternary\": [{\"marker\": {\"colorbar\": {\"outlinewidth\": 0, \"ticks\": \"\"}}, \"type\": \"scatterternary\"}], \"surface\": [{\"colorbar\": {\"outlinewidth\": 0, \"ticks\": \"\"}, \"colorscale\": [[0.0, \"#0d0887\"], [0.1111111111111111, \"#46039f\"], [0.2222222222222222, \"#7201a8\"], [0.3333333333333333, \"#9c179e\"], [0.4444444444444444, \"#bd3786\"], [0.5555555555555556, \"#d8576b\"], [0.6666666666666666, \"#ed7953\"], [0.7777777777777778, \"#fb9f3a\"], [0.8888888888888888, \"#fdca26\"], [1.0, \"#f0f921\"]], \"type\": \"surface\"}], \"table\": [{\"cells\": {\"fill\": {\"color\": \"#EBF0F8\"}, \"line\": {\"color\": \"white\"}}, \"header\": {\"fill\": {\"color\": \"#C8D4E3\"}, \"line\": {\"color\": \"white\"}}, \"type\": \"table\"}]}, \"layout\": {\"annotationdefaults\": {\"arrowcolor\": \"#2a3f5f\", \"arrowhead\": 0, \"arrowwidth\": 1}, \"coloraxis\": {\"colorbar\": {\"outlinewidth\": 0, \"ticks\": \"\"}}, \"colorscale\": {\"diverging\": [[0, \"#8e0152\"], [0.1, \"#c51b7d\"], [0.2, \"#de77ae\"], [0.3, \"#f1b6da\"], [0.4, \"#fde0ef\"], [0.5, \"#f7f7f7\"], [0.6, \"#e6f5d0\"], [0.7, \"#b8e186\"], [0.8, \"#7fbc41\"], [0.9, \"#4d9221\"], [1, \"#276419\"]], \"sequential\": [[0.0, \"#0d0887\"], [0.1111111111111111, \"#46039f\"], [0.2222222222222222, \"#7201a8\"], [0.3333333333333333, \"#9c179e\"], [0.4444444444444444, \"#bd3786\"], [0.5555555555555556, \"#d8576b\"], [0.6666666666666666, \"#ed7953\"], [0.7777777777777778, \"#fb9f3a\"], [0.8888888888888888, \"#fdca26\"], [1.0, \"#f0f921\"]], \"sequentialminus\": [[0.0, \"#0d0887\"], [0.1111111111111111, \"#46039f\"], [0.2222222222222222, \"#7201a8\"], [0.3333333333333333, \"#9c179e\"], [0.4444444444444444, \"#bd3786\"], [0.5555555555555556, \"#d8576b\"], [0.6666666666666666, \"#ed7953\"], [0.7777777777777778, \"#fb9f3a\"], [0.8888888888888888, \"#fdca26\"], [1.0, \"#f0f921\"]]}, \"colorway\": [\"#636efa\", \"#EF553B\", \"#00cc96\", \"#ab63fa\", \"#FFA15A\", \"#19d3f3\", \"#FF6692\", \"#B6E880\", \"#FF97FF\", \"#FECB52\"], \"font\": {\"color\": \"#2a3f5f\"}, \"geo\": {\"bgcolor\": \"white\", \"lakecolor\": \"white\", \"landcolor\": \"#E5ECF6\", \"showlakes\": true, \"showland\": true, \"subunitcolor\": \"white\"}, \"hoverlabel\": {\"align\": \"left\"}, \"hovermode\": \"closest\", \"mapbox\": {\"style\": \"light\"}, \"paper_bgcolor\": \"white\", \"plot_bgcolor\": \"#E5ECF6\", \"polar\": {\"angularaxis\": {\"gridcolor\": \"white\", \"linecolor\": \"white\", \"ticks\": \"\"}, \"bgcolor\": \"#E5ECF6\", \"radialaxis\": {\"gridcolor\": \"white\", \"linecolor\": \"white\", \"ticks\": \"\"}}, \"scene\": {\"xaxis\": {\"backgroundcolor\": \"#E5ECF6\", \"gridcolor\": \"white\", \"gridwidth\": 2, \"linecolor\": \"white\", \"showbackground\": true, \"ticks\": \"\", \"zerolinecolor\": \"white\"}, \"yaxis\": {\"backgroundcolor\": \"#E5ECF6\", \"gridcolor\": \"white\", \"gridwidth\": 2, \"linecolor\": \"white\", \"showbackground\": true, \"ticks\": \"\", \"zerolinecolor\": \"white\"}, \"zaxis\": {\"backgroundcolor\": \"#E5ECF6\", \"gridcolor\": \"white\", \"gridwidth\": 2, \"linecolor\": \"white\", \"showbackground\": true, \"ticks\": \"\", \"zerolinecolor\": \"white\"}}, \"shapedefaults\": {\"line\": {\"color\": \"#2a3f5f\"}}, \"ternary\": {\"aaxis\": {\"gridcolor\": \"white\", \"linecolor\": \"white\", \"ticks\": \"\"}, \"baxis\": {\"gridcolor\": \"white\", \"linecolor\": \"white\", \"ticks\": \"\"}, \"bgcolor\": \"#E5ECF6\", \"caxis\": {\"gridcolor\": \"white\", \"linecolor\": \"white\", \"ticks\": \"\"}}, \"title\": {\"x\": 0.05}, \"xaxis\": {\"automargin\": true, \"gridcolor\": \"white\", \"linecolor\": \"white\", \"ticks\": \"\", \"title\": {\"standoff\": 15}, \"zerolinecolor\": \"white\", \"zerolinewidth\": 2}, \"yaxis\": {\"automargin\": true, \"gridcolor\": \"white\", \"linecolor\": \"white\", \"ticks\": \"\", \"title\": {\"standoff\": 15}, \"zerolinecolor\": \"white\", \"zerolinewidth\": 2}}}, \"title\": {\"font\": {\"color\": \"blue\", \"size\": 25}, \"text\": \"Diagram Jumlah Produksi Benih pada Budidaya Kolam dan Budidaya Karamba\"}, \"xaxis\": {\"anchor\": \"y\", \"domain\": [0.0, 1.0], \"tickfont\": {\"size\": 10}, \"title\": {\"font\": {\"size\": 15}, \"text\": \"Budidaya\"}}, \"yaxis\": {\"anchor\": \"x\", \"domain\": [0.0, 1.0], \"tickfont\": {\"size\": 10}, \"title\": {\"font\": {\"size\": 15}, \"text\": \"Jumlah Produksi Benih\"}}},\n",
              "                        {\"responsive\": true}\n",
              "                    ).then(function(){\n",
              "                            \n",
              "var gd = document.getElementById('450f2490-a20a-4ca8-a00e-f533fc8b1131');\n",
              "var x = new MutationObserver(function (mutations, observer) {{\n",
              "        var display = window.getComputedStyle(gd).display;\n",
              "        if (!display || display === 'none') {{\n",
              "            console.log([gd, 'removed!']);\n",
              "            Plotly.purge(gd);\n",
              "            observer.disconnect();\n",
              "        }}\n",
              "}});\n",
              "\n",
              "// Listen for the removal of the full notebook cells\n",
              "var notebookContainer = gd.closest('#notebook-container');\n",
              "if (notebookContainer) {{\n",
              "    x.observe(notebookContainer, {childList: true});\n",
              "}}\n",
              "\n",
              "// Listen for the clearing of the current output cell\n",
              "var outputEl = gd.closest('.output');\n",
              "if (outputEl) {{\n",
              "    x.observe(outputEl, {childList: true});\n",
              "}}\n",
              "\n",
              "                        })\n",
              "                };\n",
              "                \n",
              "            </script>\n",
              "        </div>\n",
              "</body>\n",
              "</html>"
            ]
          },
          "metadata": {}
        }
      ]
    },
    {
      "cell_type": "markdown",
      "metadata": {
        "id": "OdXcgqlhEPlf"
      },
      "source": [
        "Dari hasil proses visualisasi data diatas diperoleh perbandingan antara jumlah budidaya kolam dan budidaya karamba yang menghasilkan jumlah produksi benih terbanyak yaitu budidaya kolam . "
      ]
    },
    {
      "cell_type": "markdown",
      "metadata": {
        "id": "KDprrcFbDwzh"
      },
      "source": [
        "##Insight 2\n",
        "**Data ke-2 Jumlah Produksi Benih**\n",
        "\n",
        "Apakah penyebab pada budidaya tersebut menghasilkan jumlah produksi ikan terbanyak?"
      ]
    },
    {
      "cell_type": "code",
      "metadata": {
        "colab": {
          "base_uri": "https://localhost:8080/",
          "height": 542
        },
        "id": "4P7DxTobEXri",
        "outputId": "883f891f-b432-43af-9f35-9ce2146c5c58"
      },
      "source": [
        "Budidaya = ['budidaya kolam', 'budidaya karamba']\n",
        "Jumlah = [ 3849404677,498224893 ]\n",
        "\n",
        "fig = go.Figure(data = [go.Pie(labels=Budidaya, values=Jumlah)])\n",
        "fig.show()"
      ],
      "execution_count": null,
      "outputs": [
        {
          "output_type": "display_data",
          "data": {
            "text/html": [
              "<html>\n",
              "<head><meta charset=\"utf-8\" /></head>\n",
              "<body>\n",
              "    <div>\n",
              "            <script src=\"https://cdnjs.cloudflare.com/ajax/libs/mathjax/2.7.5/MathJax.js?config=TeX-AMS-MML_SVG\"></script><script type=\"text/javascript\">if (window.MathJax) {MathJax.Hub.Config({SVG: {font: \"STIX-Web\"}});}</script>\n",
              "                <script type=\"text/javascript\">window.PlotlyConfig = {MathJaxConfig: 'local'};</script>\n",
              "        <script src=\"https://cdn.plot.ly/plotly-latest.min.js\"></script>    \n",
              "            <div id=\"a62a4adb-6f2f-4816-a2b2-053ca8506dee\" class=\"plotly-graph-div\" style=\"height:525px; width:100%;\"></div>\n",
              "            <script type=\"text/javascript\">\n",
              "                \n",
              "                    window.PLOTLYENV=window.PLOTLYENV || {};\n",
              "                    \n",
              "                if (document.getElementById(\"a62a4adb-6f2f-4816-a2b2-053ca8506dee\")) {\n",
              "                    Plotly.newPlot(\n",
              "                        'a62a4adb-6f2f-4816-a2b2-053ca8506dee',\n",
              "                        [{\"labels\": [\"budidaya kolam\", \"budidaya karamba\"], \"type\": \"pie\", \"values\": [3849404677, 498224893]}],\n",
              "                        {\"template\": {\"data\": {\"bar\": [{\"error_x\": {\"color\": \"#2a3f5f\"}, \"error_y\": {\"color\": \"#2a3f5f\"}, \"marker\": {\"line\": {\"color\": \"#E5ECF6\", \"width\": 0.5}}, \"type\": \"bar\"}], \"barpolar\": [{\"marker\": {\"line\": {\"color\": \"#E5ECF6\", \"width\": 0.5}}, \"type\": \"barpolar\"}], \"carpet\": [{\"aaxis\": {\"endlinecolor\": \"#2a3f5f\", \"gridcolor\": \"white\", \"linecolor\": \"white\", \"minorgridcolor\": \"white\", \"startlinecolor\": \"#2a3f5f\"}, \"baxis\": {\"endlinecolor\": \"#2a3f5f\", \"gridcolor\": \"white\", \"linecolor\": \"white\", \"minorgridcolor\": \"white\", \"startlinecolor\": \"#2a3f5f\"}, \"type\": \"carpet\"}], \"choropleth\": [{\"colorbar\": {\"outlinewidth\": 0, \"ticks\": \"\"}, \"type\": \"choropleth\"}], \"contour\": [{\"colorbar\": {\"outlinewidth\": 0, \"ticks\": \"\"}, \"colorscale\": [[0.0, \"#0d0887\"], [0.1111111111111111, \"#46039f\"], [0.2222222222222222, \"#7201a8\"], [0.3333333333333333, \"#9c179e\"], [0.4444444444444444, \"#bd3786\"], [0.5555555555555556, \"#d8576b\"], [0.6666666666666666, \"#ed7953\"], [0.7777777777777778, \"#fb9f3a\"], [0.8888888888888888, \"#fdca26\"], [1.0, \"#f0f921\"]], \"type\": \"contour\"}], \"contourcarpet\": [{\"colorbar\": {\"outlinewidth\": 0, \"ticks\": \"\"}, \"type\": \"contourcarpet\"}], \"heatmap\": [{\"colorbar\": {\"outlinewidth\": 0, \"ticks\": \"\"}, \"colorscale\": [[0.0, \"#0d0887\"], [0.1111111111111111, \"#46039f\"], [0.2222222222222222, \"#7201a8\"], [0.3333333333333333, \"#9c179e\"], [0.4444444444444444, \"#bd3786\"], [0.5555555555555556, \"#d8576b\"], [0.6666666666666666, \"#ed7953\"], [0.7777777777777778, \"#fb9f3a\"], [0.8888888888888888, \"#fdca26\"], [1.0, \"#f0f921\"]], \"type\": \"heatmap\"}], \"heatmapgl\": [{\"colorbar\": {\"outlinewidth\": 0, \"ticks\": \"\"}, \"colorscale\": [[0.0, \"#0d0887\"], [0.1111111111111111, \"#46039f\"], [0.2222222222222222, \"#7201a8\"], [0.3333333333333333, \"#9c179e\"], [0.4444444444444444, \"#bd3786\"], [0.5555555555555556, \"#d8576b\"], [0.6666666666666666, \"#ed7953\"], [0.7777777777777778, \"#fb9f3a\"], [0.8888888888888888, \"#fdca26\"], [1.0, \"#f0f921\"]], \"type\": \"heatmapgl\"}], \"histogram\": [{\"marker\": {\"colorbar\": {\"outlinewidth\": 0, \"ticks\": \"\"}}, \"type\": \"histogram\"}], \"histogram2d\": [{\"colorbar\": {\"outlinewidth\": 0, \"ticks\": \"\"}, \"colorscale\": [[0.0, \"#0d0887\"], [0.1111111111111111, \"#46039f\"], [0.2222222222222222, \"#7201a8\"], [0.3333333333333333, \"#9c179e\"], [0.4444444444444444, \"#bd3786\"], [0.5555555555555556, \"#d8576b\"], [0.6666666666666666, \"#ed7953\"], [0.7777777777777778, \"#fb9f3a\"], [0.8888888888888888, \"#fdca26\"], [1.0, \"#f0f921\"]], \"type\": \"histogram2d\"}], \"histogram2dcontour\": [{\"colorbar\": {\"outlinewidth\": 0, \"ticks\": \"\"}, \"colorscale\": [[0.0, \"#0d0887\"], [0.1111111111111111, \"#46039f\"], [0.2222222222222222, \"#7201a8\"], [0.3333333333333333, \"#9c179e\"], [0.4444444444444444, \"#bd3786\"], [0.5555555555555556, \"#d8576b\"], [0.6666666666666666, \"#ed7953\"], [0.7777777777777778, \"#fb9f3a\"], [0.8888888888888888, \"#fdca26\"], [1.0, \"#f0f921\"]], \"type\": \"histogram2dcontour\"}], \"mesh3d\": [{\"colorbar\": {\"outlinewidth\": 0, \"ticks\": \"\"}, \"type\": \"mesh3d\"}], \"parcoords\": [{\"line\": {\"colorbar\": {\"outlinewidth\": 0, \"ticks\": \"\"}}, \"type\": \"parcoords\"}], \"pie\": [{\"automargin\": true, \"type\": \"pie\"}], \"scatter\": [{\"marker\": {\"colorbar\": {\"outlinewidth\": 0, \"ticks\": \"\"}}, \"type\": \"scatter\"}], \"scatter3d\": [{\"line\": {\"colorbar\": {\"outlinewidth\": 0, \"ticks\": \"\"}}, \"marker\": {\"colorbar\": {\"outlinewidth\": 0, \"ticks\": \"\"}}, \"type\": \"scatter3d\"}], \"scattercarpet\": [{\"marker\": {\"colorbar\": {\"outlinewidth\": 0, \"ticks\": \"\"}}, \"type\": \"scattercarpet\"}], \"scattergeo\": [{\"marker\": {\"colorbar\": {\"outlinewidth\": 0, \"ticks\": \"\"}}, \"type\": \"scattergeo\"}], \"scattergl\": [{\"marker\": {\"colorbar\": {\"outlinewidth\": 0, \"ticks\": \"\"}}, \"type\": \"scattergl\"}], \"scattermapbox\": [{\"marker\": {\"colorbar\": {\"outlinewidth\": 0, \"ticks\": \"\"}}, \"type\": \"scattermapbox\"}], \"scatterpolar\": [{\"marker\": {\"colorbar\": {\"outlinewidth\": 0, \"ticks\": \"\"}}, \"type\": \"scatterpolar\"}], \"scatterpolargl\": [{\"marker\": {\"colorbar\": {\"outlinewidth\": 0, \"ticks\": \"\"}}, \"type\": \"scatterpolargl\"}], \"scatterternary\": [{\"marker\": {\"colorbar\": {\"outlinewidth\": 0, \"ticks\": \"\"}}, \"type\": \"scatterternary\"}], \"surface\": [{\"colorbar\": {\"outlinewidth\": 0, \"ticks\": \"\"}, \"colorscale\": [[0.0, \"#0d0887\"], [0.1111111111111111, \"#46039f\"], [0.2222222222222222, \"#7201a8\"], [0.3333333333333333, \"#9c179e\"], [0.4444444444444444, \"#bd3786\"], [0.5555555555555556, \"#d8576b\"], [0.6666666666666666, \"#ed7953\"], [0.7777777777777778, \"#fb9f3a\"], [0.8888888888888888, \"#fdca26\"], [1.0, \"#f0f921\"]], \"type\": \"surface\"}], \"table\": [{\"cells\": {\"fill\": {\"color\": \"#EBF0F8\"}, \"line\": {\"color\": \"white\"}}, \"header\": {\"fill\": {\"color\": \"#C8D4E3\"}, \"line\": {\"color\": \"white\"}}, \"type\": \"table\"}]}, \"layout\": {\"annotationdefaults\": {\"arrowcolor\": \"#2a3f5f\", \"arrowhead\": 0, \"arrowwidth\": 1}, \"coloraxis\": {\"colorbar\": {\"outlinewidth\": 0, \"ticks\": \"\"}}, \"colorscale\": {\"diverging\": [[0, \"#8e0152\"], [0.1, \"#c51b7d\"], [0.2, \"#de77ae\"], [0.3, \"#f1b6da\"], [0.4, \"#fde0ef\"], [0.5, \"#f7f7f7\"], [0.6, \"#e6f5d0\"], [0.7, \"#b8e186\"], [0.8, \"#7fbc41\"], [0.9, \"#4d9221\"], [1, \"#276419\"]], \"sequential\": [[0.0, \"#0d0887\"], [0.1111111111111111, \"#46039f\"], [0.2222222222222222, \"#7201a8\"], [0.3333333333333333, \"#9c179e\"], [0.4444444444444444, \"#bd3786\"], [0.5555555555555556, \"#d8576b\"], [0.6666666666666666, \"#ed7953\"], [0.7777777777777778, \"#fb9f3a\"], [0.8888888888888888, \"#fdca26\"], [1.0, \"#f0f921\"]], \"sequentialminus\": [[0.0, \"#0d0887\"], [0.1111111111111111, \"#46039f\"], [0.2222222222222222, \"#7201a8\"], [0.3333333333333333, \"#9c179e\"], [0.4444444444444444, \"#bd3786\"], [0.5555555555555556, \"#d8576b\"], [0.6666666666666666, \"#ed7953\"], [0.7777777777777778, \"#fb9f3a\"], [0.8888888888888888, \"#fdca26\"], [1.0, \"#f0f921\"]]}, \"colorway\": [\"#636efa\", \"#EF553B\", \"#00cc96\", \"#ab63fa\", \"#FFA15A\", \"#19d3f3\", \"#FF6692\", \"#B6E880\", \"#FF97FF\", \"#FECB52\"], \"font\": {\"color\": \"#2a3f5f\"}, \"geo\": {\"bgcolor\": \"white\", \"lakecolor\": \"white\", \"landcolor\": \"#E5ECF6\", \"showlakes\": true, \"showland\": true, \"subunitcolor\": \"white\"}, \"hoverlabel\": {\"align\": \"left\"}, \"hovermode\": \"closest\", \"mapbox\": {\"style\": \"light\"}, \"paper_bgcolor\": \"white\", \"plot_bgcolor\": \"#E5ECF6\", \"polar\": {\"angularaxis\": {\"gridcolor\": \"white\", \"linecolor\": \"white\", \"ticks\": \"\"}, \"bgcolor\": \"#E5ECF6\", \"radialaxis\": {\"gridcolor\": \"white\", \"linecolor\": \"white\", \"ticks\": \"\"}}, \"scene\": {\"xaxis\": {\"backgroundcolor\": \"#E5ECF6\", \"gridcolor\": \"white\", \"gridwidth\": 2, \"linecolor\": \"white\", \"showbackground\": true, \"ticks\": \"\", \"zerolinecolor\": \"white\"}, \"yaxis\": {\"backgroundcolor\": \"#E5ECF6\", \"gridcolor\": \"white\", \"gridwidth\": 2, \"linecolor\": \"white\", \"showbackground\": true, \"ticks\": \"\", \"zerolinecolor\": \"white\"}, \"zaxis\": {\"backgroundcolor\": \"#E5ECF6\", \"gridcolor\": \"white\", \"gridwidth\": 2, \"linecolor\": \"white\", \"showbackground\": true, \"ticks\": \"\", \"zerolinecolor\": \"white\"}}, \"shapedefaults\": {\"line\": {\"color\": \"#2a3f5f\"}}, \"ternary\": {\"aaxis\": {\"gridcolor\": \"white\", \"linecolor\": \"white\", \"ticks\": \"\"}, \"baxis\": {\"gridcolor\": \"white\", \"linecolor\": \"white\", \"ticks\": \"\"}, \"bgcolor\": \"#E5ECF6\", \"caxis\": {\"gridcolor\": \"white\", \"linecolor\": \"white\", \"ticks\": \"\"}}, \"title\": {\"x\": 0.05}, \"xaxis\": {\"automargin\": true, \"gridcolor\": \"white\", \"linecolor\": \"white\", \"ticks\": \"\", \"title\": {\"standoff\": 15}, \"zerolinecolor\": \"white\", \"zerolinewidth\": 2}, \"yaxis\": {\"automargin\": true, \"gridcolor\": \"white\", \"linecolor\": \"white\", \"ticks\": \"\", \"title\": {\"standoff\": 15}, \"zerolinecolor\": \"white\", \"zerolinewidth\": 2}}}},\n",
              "                        {\"responsive\": true}\n",
              "                    ).then(function(){\n",
              "                            \n",
              "var gd = document.getElementById('a62a4adb-6f2f-4816-a2b2-053ca8506dee');\n",
              "var x = new MutationObserver(function (mutations, observer) {{\n",
              "        var display = window.getComputedStyle(gd).display;\n",
              "        if (!display || display === 'none') {{\n",
              "            console.log([gd, 'removed!']);\n",
              "            Plotly.purge(gd);\n",
              "            observer.disconnect();\n",
              "        }}\n",
              "}});\n",
              "\n",
              "// Listen for the removal of the full notebook cells\n",
              "var notebookContainer = gd.closest('#notebook-container');\n",
              "if (notebookContainer) {{\n",
              "    x.observe(notebookContainer, {childList: true});\n",
              "}}\n",
              "\n",
              "// Listen for the clearing of the current output cell\n",
              "var outputEl = gd.closest('.output');\n",
              "if (outputEl) {{\n",
              "    x.observe(outputEl, {childList: true});\n",
              "}}\n",
              "\n",
              "                        })\n",
              "                };\n",
              "                \n",
              "            </script>\n",
              "        </div>\n",
              "</body>\n",
              "</html>"
            ]
          },
          "metadata": {}
        }
      ]
    },
    {
      "cell_type": "markdown",
      "metadata": {
        "id": "KTz13ppEEfx_"
      },
      "source": [
        "Terbukti bahwa budidaya kolam menghasilkan jumlah produk si ikan terbanyak dengan besar presentase 88.5%. Faktanya,Kenaikan nilai produksi perikanan budidaya menurut jenis budidaya berturutturut adalah budidaya kolam sebesar 303%,keramba (237%).\n",
        "Sebaran jumlah RTP pembudidaya ikan berdasarkan pulau memperlihatkan bahwa RTP\n",
        "pembudidaya ikan terbanyak adalah RTP Budidaya Kolam di Pulau Jawa, sedangkan\n",
        "RTP Mina Padi di Maluku-Papua merupakan jumlah RTP terkecil. \n",
        "\n",
        "\n",
        "https://www.bappenas.go.id/files/7614/4401/4206/Strategi_Pengelolaan_Perikanan_Berkelanjutan.pdf"
      ]
    },
    {
      "cell_type": "markdown",
      "metadata": {
        "id": "YZtE1Zk_9ioN"
      },
      "source": [
        "##Report 3\n",
        "**Data ke-3 Pembudidaya Ikan Nasional**\n",
        "\n",
        "Provinsi mana sajakah yang memiliki jumlah pembudidaya ikan di bawah rata-rata pada tahun 2010?"
      ]
    },
    {
      "cell_type": "code",
      "metadata": {
        "colab": {
          "base_uri": "https://localhost:8080/",
          "height": 542
        },
        "id": "W7v0_Cw59QLM",
        "outputId": "16cb589b-969b-42a7-bc71-14ee8ec29a48"
      },
      "source": [
        "#Visualisasi data Scatter Plot untuk melihat sebaran datanya\n",
        "import plotly.express as px\n",
        "fig = px.scatter(\n",
        "    thn_2010_new,\n",
        "    x = \"NamaProvinsi\",\n",
        "    y = \"Jumlah\",\n",
        "    color = \"Jumlah\",\n",
        "    size = \"Jumlah\"\n",
        "    )\n",
        "#Menambahkan Keterangan\n",
        "fig.update_layout(\n",
        "    #Menambahkan dan mengatur Judul Grafis\n",
        "    title='Daftar provinsi yang memiliki pembudidaya ikan di bawah rata-rata', \n",
        "    title_font_color=\"blue\",\n",
        "    title_font_size=25,    \n",
        "    #Menambahkan dan mengatur label sumbu x            \n",
        "    xaxis=dict(\n",
        "        title='Provinsi',\n",
        "        titlefont_size=16,\n",
        "        tickfont_size=13),\n",
        "    #Menambahkan dan mengatur label sumbu y\n",
        "    yaxis=dict(\n",
        "        title='Jumlah Pembudidaya',\n",
        "        titlefont_size=16,\n",
        "        tickfont_size=14))\n",
        "#Menampilkan Figure\n",
        "fig.show()"
      ],
      "execution_count": null,
      "outputs": [
        {
          "output_type": "display_data",
          "data": {
            "text/html": [
              "<html>\n",
              "<head><meta charset=\"utf-8\" /></head>\n",
              "<body>\n",
              "    <div>\n",
              "            <script src=\"https://cdnjs.cloudflare.com/ajax/libs/mathjax/2.7.5/MathJax.js?config=TeX-AMS-MML_SVG\"></script><script type=\"text/javascript\">if (window.MathJax) {MathJax.Hub.Config({SVG: {font: \"STIX-Web\"}});}</script>\n",
              "                <script type=\"text/javascript\">window.PlotlyConfig = {MathJaxConfig: 'local'};</script>\n",
              "        <script src=\"https://cdn.plot.ly/plotly-latest.min.js\"></script>    \n",
              "            <div id=\"54a0bde9-f7bf-4391-8938-541b1ab8d757\" class=\"plotly-graph-div\" style=\"height:525px; width:100%;\"></div>\n",
              "            <script type=\"text/javascript\">\n",
              "                \n",
              "                    window.PLOTLYENV=window.PLOTLYENV || {};\n",
              "                    \n",
              "                if (document.getElementById(\"54a0bde9-f7bf-4391-8938-541b1ab8d757\")) {\n",
              "                    Plotly.newPlot(\n",
              "                        '54a0bde9-f7bf-4391-8938-541b1ab8d757',\n",
              "                        [{\"hoverlabel\": {\"namelength\": 0}, \"hovertemplate\": \"NamaProvinsi=%{x}<br>Jumlah=%{marker.color}\", \"legendgroup\": \"\", \"marker\": {\"color\": [68452, 86277, 35551, 11812, 91117, 5152, 14554, 5716, 44077, 28647, 35714, 37346, 28306, 21418, 19064, 62163, 75080, 10747, 76768, 21246, 9072, 4742, 11794], \"coloraxis\": \"coloraxis\", \"size\": [68452, 86277, 35551, 11812, 91117, 5152, 14554, 5716, 44077, 28647, 35714, 37346, 28306, 21418, 19064, 62163, 75080, 10747, 76768, 21246, 9072, 4742, 11794], \"sizemode\": \"area\", \"sizeref\": 227.7925, \"symbol\": \"circle\"}, \"mode\": \"markers\", \"name\": \"\", \"showlegend\": false, \"type\": \"scatter\", \"x\": [\"Aceh\", \"Sumatera Utara\", \"Jambi\", \"Bengkulu\", \"Lampung\", \"Kepulauan Bangka Belitung\", \"Kepulauan Riau\", \"DKI Jakarta\", \"Banten\", \"Bali\", \"Nusa Tenggara Barat\", \"Kalimantan Barat\", \"Kalimantan Tengah\", \"Kalimantan Selatan\", \"Sulawesi Utara\", \"Sulawesi Tengah\", \"Sulawesi Tenggara\", \"Gorontalo\", \"Sulawesi Barat\", \"Maluku\", \"Maluku Utara\", \"Papua Barat\", \"Papua\"], \"xaxis\": \"x\", \"y\": [68452, 86277, 35551, 11812, 91117, 5152, 14554, 5716, 44077, 28647, 35714, 37346, 28306, 21418, 19064, 62163, 75080, 10747, 76768, 21246, 9072, 4742, 11794], \"yaxis\": \"y\"}],\n",
              "                        {\"coloraxis\": {\"colorbar\": {\"title\": {\"text\": \"Jumlah\"}}, \"colorscale\": [[0.0, \"#0d0887\"], [0.1111111111111111, \"#46039f\"], [0.2222222222222222, \"#7201a8\"], [0.3333333333333333, \"#9c179e\"], [0.4444444444444444, \"#bd3786\"], [0.5555555555555556, \"#d8576b\"], [0.6666666666666666, \"#ed7953\"], [0.7777777777777778, \"#fb9f3a\"], [0.8888888888888888, \"#fdca26\"], [1.0, \"#f0f921\"]]}, \"legend\": {\"itemsizing\": \"constant\", \"tracegroupgap\": 0}, \"margin\": {\"t\": 60}, \"template\": {\"data\": {\"bar\": [{\"error_x\": {\"color\": \"#2a3f5f\"}, \"error_y\": {\"color\": \"#2a3f5f\"}, \"marker\": {\"line\": {\"color\": \"#E5ECF6\", \"width\": 0.5}}, \"type\": \"bar\"}], \"barpolar\": [{\"marker\": {\"line\": {\"color\": \"#E5ECF6\", \"width\": 0.5}}, \"type\": \"barpolar\"}], \"carpet\": [{\"aaxis\": {\"endlinecolor\": \"#2a3f5f\", \"gridcolor\": \"white\", \"linecolor\": \"white\", \"minorgridcolor\": \"white\", \"startlinecolor\": \"#2a3f5f\"}, \"baxis\": {\"endlinecolor\": \"#2a3f5f\", \"gridcolor\": \"white\", \"linecolor\": \"white\", \"minorgridcolor\": \"white\", \"startlinecolor\": \"#2a3f5f\"}, \"type\": \"carpet\"}], \"choropleth\": [{\"colorbar\": {\"outlinewidth\": 0, \"ticks\": \"\"}, \"type\": \"choropleth\"}], \"contour\": [{\"colorbar\": {\"outlinewidth\": 0, \"ticks\": \"\"}, \"colorscale\": [[0.0, \"#0d0887\"], [0.1111111111111111, \"#46039f\"], [0.2222222222222222, \"#7201a8\"], [0.3333333333333333, \"#9c179e\"], [0.4444444444444444, \"#bd3786\"], [0.5555555555555556, \"#d8576b\"], [0.6666666666666666, \"#ed7953\"], [0.7777777777777778, \"#fb9f3a\"], [0.8888888888888888, \"#fdca26\"], [1.0, \"#f0f921\"]], \"type\": \"contour\"}], \"contourcarpet\": [{\"colorbar\": {\"outlinewidth\": 0, \"ticks\": \"\"}, \"type\": \"contourcarpet\"}], \"heatmap\": [{\"colorbar\": {\"outlinewidth\": 0, \"ticks\": \"\"}, \"colorscale\": [[0.0, \"#0d0887\"], [0.1111111111111111, \"#46039f\"], [0.2222222222222222, \"#7201a8\"], [0.3333333333333333, \"#9c179e\"], [0.4444444444444444, \"#bd3786\"], [0.5555555555555556, \"#d8576b\"], [0.6666666666666666, \"#ed7953\"], [0.7777777777777778, \"#fb9f3a\"], [0.8888888888888888, \"#fdca26\"], [1.0, \"#f0f921\"]], \"type\": \"heatmap\"}], \"heatmapgl\": [{\"colorbar\": {\"outlinewidth\": 0, \"ticks\": \"\"}, \"colorscale\": [[0.0, \"#0d0887\"], [0.1111111111111111, \"#46039f\"], [0.2222222222222222, \"#7201a8\"], [0.3333333333333333, \"#9c179e\"], [0.4444444444444444, \"#bd3786\"], [0.5555555555555556, \"#d8576b\"], [0.6666666666666666, \"#ed7953\"], [0.7777777777777778, \"#fb9f3a\"], [0.8888888888888888, \"#fdca26\"], [1.0, \"#f0f921\"]], \"type\": \"heatmapgl\"}], \"histogram\": [{\"marker\": {\"colorbar\": {\"outlinewidth\": 0, \"ticks\": \"\"}}, \"type\": \"histogram\"}], \"histogram2d\": [{\"colorbar\": {\"outlinewidth\": 0, \"ticks\": \"\"}, \"colorscale\": [[0.0, \"#0d0887\"], [0.1111111111111111, \"#46039f\"], [0.2222222222222222, \"#7201a8\"], [0.3333333333333333, \"#9c179e\"], [0.4444444444444444, \"#bd3786\"], [0.5555555555555556, \"#d8576b\"], [0.6666666666666666, \"#ed7953\"], [0.7777777777777778, \"#fb9f3a\"], [0.8888888888888888, \"#fdca26\"], [1.0, \"#f0f921\"]], \"type\": \"histogram2d\"}], \"histogram2dcontour\": [{\"colorbar\": {\"outlinewidth\": 0, \"ticks\": \"\"}, \"colorscale\": [[0.0, \"#0d0887\"], [0.1111111111111111, \"#46039f\"], [0.2222222222222222, \"#7201a8\"], [0.3333333333333333, \"#9c179e\"], [0.4444444444444444, \"#bd3786\"], [0.5555555555555556, \"#d8576b\"], [0.6666666666666666, \"#ed7953\"], [0.7777777777777778, \"#fb9f3a\"], [0.8888888888888888, \"#fdca26\"], [1.0, \"#f0f921\"]], \"type\": \"histogram2dcontour\"}], \"mesh3d\": [{\"colorbar\": {\"outlinewidth\": 0, \"ticks\": \"\"}, \"type\": \"mesh3d\"}], \"parcoords\": [{\"line\": {\"colorbar\": {\"outlinewidth\": 0, \"ticks\": \"\"}}, \"type\": \"parcoords\"}], \"pie\": [{\"automargin\": true, \"type\": \"pie\"}], \"scatter\": [{\"marker\": {\"colorbar\": {\"outlinewidth\": 0, \"ticks\": \"\"}}, \"type\": \"scatter\"}], \"scatter3d\": [{\"line\": {\"colorbar\": {\"outlinewidth\": 0, \"ticks\": \"\"}}, \"marker\": {\"colorbar\": {\"outlinewidth\": 0, \"ticks\": \"\"}}, \"type\": \"scatter3d\"}], \"scattercarpet\": [{\"marker\": {\"colorbar\": {\"outlinewidth\": 0, \"ticks\": \"\"}}, \"type\": \"scattercarpet\"}], \"scattergeo\": [{\"marker\": {\"colorbar\": {\"outlinewidth\": 0, \"ticks\": \"\"}}, \"type\": \"scattergeo\"}], \"scattergl\": [{\"marker\": {\"colorbar\": {\"outlinewidth\": 0, \"ticks\": \"\"}}, \"type\": \"scattergl\"}], \"scattermapbox\": [{\"marker\": {\"colorbar\": {\"outlinewidth\": 0, \"ticks\": \"\"}}, \"type\": \"scattermapbox\"}], \"scatterpolar\": [{\"marker\": {\"colorbar\": {\"outlinewidth\": 0, \"ticks\": \"\"}}, \"type\": \"scatterpolar\"}], \"scatterpolargl\": [{\"marker\": {\"colorbar\": {\"outlinewidth\": 0, \"ticks\": \"\"}}, \"type\": \"scatterpolargl\"}], \"scatterternary\": [{\"marker\": {\"colorbar\": {\"outlinewidth\": 0, \"ticks\": \"\"}}, \"type\": \"scatterternary\"}], \"surface\": [{\"colorbar\": {\"outlinewidth\": 0, \"ticks\": \"\"}, \"colorscale\": [[0.0, \"#0d0887\"], [0.1111111111111111, \"#46039f\"], [0.2222222222222222, \"#7201a8\"], [0.3333333333333333, \"#9c179e\"], [0.4444444444444444, \"#bd3786\"], [0.5555555555555556, \"#d8576b\"], [0.6666666666666666, \"#ed7953\"], [0.7777777777777778, \"#fb9f3a\"], [0.8888888888888888, \"#fdca26\"], [1.0, \"#f0f921\"]], \"type\": \"surface\"}], \"table\": [{\"cells\": {\"fill\": {\"color\": \"#EBF0F8\"}, \"line\": {\"color\": \"white\"}}, \"header\": {\"fill\": {\"color\": \"#C8D4E3\"}, \"line\": {\"color\": \"white\"}}, \"type\": \"table\"}]}, \"layout\": {\"annotationdefaults\": {\"arrowcolor\": \"#2a3f5f\", \"arrowhead\": 0, \"arrowwidth\": 1}, \"coloraxis\": {\"colorbar\": {\"outlinewidth\": 0, \"ticks\": \"\"}}, \"colorscale\": {\"diverging\": [[0, \"#8e0152\"], [0.1, \"#c51b7d\"], [0.2, \"#de77ae\"], [0.3, \"#f1b6da\"], [0.4, \"#fde0ef\"], [0.5, \"#f7f7f7\"], [0.6, \"#e6f5d0\"], [0.7, \"#b8e186\"], [0.8, \"#7fbc41\"], [0.9, \"#4d9221\"], [1, \"#276419\"]], \"sequential\": [[0.0, \"#0d0887\"], [0.1111111111111111, \"#46039f\"], [0.2222222222222222, \"#7201a8\"], [0.3333333333333333, \"#9c179e\"], [0.4444444444444444, \"#bd3786\"], [0.5555555555555556, \"#d8576b\"], [0.6666666666666666, \"#ed7953\"], [0.7777777777777778, \"#fb9f3a\"], [0.8888888888888888, \"#fdca26\"], [1.0, \"#f0f921\"]], \"sequentialminus\": [[0.0, \"#0d0887\"], [0.1111111111111111, \"#46039f\"], [0.2222222222222222, \"#7201a8\"], [0.3333333333333333, \"#9c179e\"], [0.4444444444444444, \"#bd3786\"], [0.5555555555555556, \"#d8576b\"], [0.6666666666666666, \"#ed7953\"], [0.7777777777777778, \"#fb9f3a\"], [0.8888888888888888, \"#fdca26\"], [1.0, \"#f0f921\"]]}, \"colorway\": [\"#636efa\", \"#EF553B\", \"#00cc96\", \"#ab63fa\", \"#FFA15A\", \"#19d3f3\", \"#FF6692\", \"#B6E880\", \"#FF97FF\", \"#FECB52\"], \"font\": {\"color\": \"#2a3f5f\"}, \"geo\": {\"bgcolor\": \"white\", \"lakecolor\": \"white\", \"landcolor\": \"#E5ECF6\", \"showlakes\": true, \"showland\": true, \"subunitcolor\": \"white\"}, \"hoverlabel\": {\"align\": \"left\"}, \"hovermode\": \"closest\", \"mapbox\": {\"style\": \"light\"}, \"paper_bgcolor\": \"white\", \"plot_bgcolor\": \"#E5ECF6\", \"polar\": {\"angularaxis\": {\"gridcolor\": \"white\", \"linecolor\": \"white\", \"ticks\": \"\"}, \"bgcolor\": \"#E5ECF6\", \"radialaxis\": {\"gridcolor\": \"white\", \"linecolor\": \"white\", \"ticks\": \"\"}}, \"scene\": {\"xaxis\": {\"backgroundcolor\": \"#E5ECF6\", \"gridcolor\": \"white\", \"gridwidth\": 2, \"linecolor\": \"white\", \"showbackground\": true, \"ticks\": \"\", \"zerolinecolor\": \"white\"}, \"yaxis\": {\"backgroundcolor\": \"#E5ECF6\", \"gridcolor\": \"white\", \"gridwidth\": 2, \"linecolor\": \"white\", \"showbackground\": true, \"ticks\": \"\", \"zerolinecolor\": \"white\"}, \"zaxis\": {\"backgroundcolor\": \"#E5ECF6\", \"gridcolor\": \"white\", \"gridwidth\": 2, \"linecolor\": \"white\", \"showbackground\": true, \"ticks\": \"\", \"zerolinecolor\": \"white\"}}, \"shapedefaults\": {\"line\": {\"color\": \"#2a3f5f\"}}, \"ternary\": {\"aaxis\": {\"gridcolor\": \"white\", \"linecolor\": \"white\", \"ticks\": \"\"}, \"baxis\": {\"gridcolor\": \"white\", \"linecolor\": \"white\", \"ticks\": \"\"}, \"bgcolor\": \"#E5ECF6\", \"caxis\": {\"gridcolor\": \"white\", \"linecolor\": \"white\", \"ticks\": \"\"}}, \"title\": {\"x\": 0.05}, \"xaxis\": {\"automargin\": true, \"gridcolor\": \"white\", \"linecolor\": \"white\", \"ticks\": \"\", \"title\": {\"standoff\": 15}, \"zerolinecolor\": \"white\", \"zerolinewidth\": 2}, \"yaxis\": {\"automargin\": true, \"gridcolor\": \"white\", \"linecolor\": \"white\", \"ticks\": \"\", \"title\": {\"standoff\": 15}, \"zerolinecolor\": \"white\", \"zerolinewidth\": 2}}}, \"title\": {\"font\": {\"color\": \"blue\", \"size\": 25}, \"text\": \"Daftar provinsi yang memiliki pembudidaya ikan di bawah rata-rata\"}, \"xaxis\": {\"anchor\": \"y\", \"domain\": [0.0, 1.0], \"tickfont\": {\"size\": 13}, \"title\": {\"font\": {\"size\": 16}, \"text\": \"Provinsi\"}}, \"yaxis\": {\"anchor\": \"x\", \"domain\": [0.0, 1.0], \"tickfont\": {\"size\": 14}, \"title\": {\"font\": {\"size\": 16}, \"text\": \"Jumlah Pembudidaya\"}}},\n",
              "                        {\"responsive\": true}\n",
              "                    ).then(function(){\n",
              "                            \n",
              "var gd = document.getElementById('54a0bde9-f7bf-4391-8938-541b1ab8d757');\n",
              "var x = new MutationObserver(function (mutations, observer) {{\n",
              "        var display = window.getComputedStyle(gd).display;\n",
              "        if (!display || display === 'none') {{\n",
              "            console.log([gd, 'removed!']);\n",
              "            Plotly.purge(gd);\n",
              "            observer.disconnect();\n",
              "        }}\n",
              "}});\n",
              "\n",
              "// Listen for the removal of the full notebook cells\n",
              "var notebookContainer = gd.closest('#notebook-container');\n",
              "if (notebookContainer) {{\n",
              "    x.observe(notebookContainer, {childList: true});\n",
              "}}\n",
              "\n",
              "// Listen for the clearing of the current output cell\n",
              "var outputEl = gd.closest('.output');\n",
              "if (outputEl) {{\n",
              "    x.observe(outputEl, {childList: true});\n",
              "}}\n",
              "\n",
              "                        })\n",
              "                };\n",
              "                \n",
              "            </script>\n",
              "        </div>\n",
              "</body>\n",
              "</html>"
            ]
          },
          "metadata": {}
        }
      ]
    },
    {
      "cell_type": "markdown",
      "metadata": {
        "id": "0iYQgUvT9PVk"
      },
      "source": [
        "##Insight 3\n",
        "\n",
        "Data ke-3 Pembudidaya Ikan Nasional**\n",
        "\n",
        "Apa yang menyebabkan daerah di luar 22 provinsi ini memiliki jumlah pembudidaya yang banyak? "
      ]
    },
    {
      "cell_type": "markdown",
      "metadata": {
        "id": "5jv_V9zJ-GMY"
      },
      "source": [
        "Bila data difilter untuk melihat provinsi yang memiliki jumlah pembudidaya lebih atau sama dengan rerata, maka hasil yang didapatkan adalah:"
      ]
    },
    {
      "cell_type": "code",
      "metadata": {
        "colab": {
          "base_uri": "https://localhost:8080/"
        },
        "id": "bLjoIobr-K91",
        "outputId": "9de600b7-d85e-47e7-c6e0-4f8de045ff32"
      },
      "source": [
        "thn_2010_ats = data_3.loc[(data_3[\"Tahun\"]==2010) & (data_3[\"Jumlah\"] >= rerata)]\n",
        "print('')\n",
        "print(\"Daftar provinsi yang memiliki pembudidaya ikan di atas rata-rata:\")\n",
        "print(thn_2010_ats.sort_values('Jumlah', ascending=False))"
      ],
      "execution_count": null,
      "outputs": [
        {
          "output_type": "stream",
          "name": "stdout",
          "text": [
            "\n",
            "Daftar provinsi yang memiliki pembudidaya ikan di atas rata-rata:\n",
            "      ID  ProvinsiID         NamaProvinsi  ...        Budidaya Tahun  Jumlah\n",
            "275  276          32           Jawa Barat  ...  semua budidaya  2010  677033\n",
            "276  277          33          Jawa Tengah  ...  semua budidaya  2010  451984\n",
            "289  290          73     Sulawesi Selatan  ...  semua budidaya  2010  296395\n",
            "267  268          14                 Riau  ...  semua budidaya  2010  236937\n",
            "269  270          16     Sumatera Selatan  ...  semua budidaya  2010  208919\n",
            "278  279          35           Jawa Timur  ...  semua budidaya  2010  201982\n",
            "286  287          64     Kalimantan Timur  ...  semua budidaya  2010  145250\n",
            "266  267          13       Sumatera Barat  ...  semua budidaya  2010  111439\n",
            "277  278          34        DI Yogyakarta  ...  semua budidaya  2010  111021\n",
            "282  283          53  Nusa Tenggara Timur  ...  semua budidaya  2010  105673\n",
            "\n",
            "[10 rows x 7 columns]\n"
          ]
        }
      ]
    },
    {
      "cell_type": "markdown",
      "metadata": {
        "id": "_Gd2J8g8-Xq3"
      },
      "source": [
        "Sebagai sampel kita mengambil provinsi Jawa Barat selaku pemilik jumlah pembudidaya ikan terbesar se-Indonesia pada tahun 2010. Untuk wilayah perairan Jawa Barat sendiri memiliki potensi kelautan dan perikanan yang luar biasa dari mulai Pantai Utara Indramayu, Cirebon, Subang hingga Pantai Selatan Sukabumi, Cianjur, Garut serta Tasikmalaya. Kalaupun tidak memiliki wilayah perairan seperti Bandung, para pembudidaya dapat membangun waduk/ perairan pribadi untuk budidaya.\n",
        "\n",
        "Sedangkan di Provinsi Sumatera Selatan, terdapat satu daerah bernama Sungsang yang menjadi lokasi pendaratan ikan dengan mudah karena pasarnya sangat dekat dan termasuk wilayah tangkap ikan dengan potensi ribuan ton ikan pertahun (sumselprov.go.id). Belum lagi Sumatera Selatan terkenal dengan beberapa olahan makanannya yang berbahan dasar ikan, sehingga ikan sebagai objek budidaya akan selalu laris dibudidaya oleh para pembudidaya. Tidak menutup kemungkinan jika jumlah pembudidaya ikan di Sumatera Selatan akan meningkat jumlahnya. Faktor lainnya adalah Sumatera Selatan yang letaknya berdekatan dengan negara tujuan ekspor seperti Malaysia, Singapura, Jepang, dll. (http://repository.unsri.ac.id/23147/1/prspek_budidaya.pdf)\n",
        "\n",
        "Jadi kesimpulannya faktor-faktor banyaknya pembudidaya ikan pada suatu daerah antara lain disebabkan oleh luas daerah perairan, kebutuhan warganya akan ikan, letak geografis yang dekat dengan wilayah ekspor."
      ]
    },
    {
      "cell_type": "markdown",
      "metadata": {
        "id": "mw6U2YDl2AxH"
      },
      "source": [
        "##Report 4\n",
        "**Data ke-4 Produk Olahan Ikan**\n",
        "\n",
        "Berdasarkan data produksi olahan ikan di Pulau Kalimantan dan Sulawesi, provinsi manakah yang menghasilkan jumlah volume produk olahan ikan terbanyak?"
      ]
    },
    {
      "cell_type": "code",
      "metadata": {
        "colab": {
          "base_uri": "https://localhost:8080/",
          "height": 542
        },
        "id": "4zD08HXQMJ2X",
        "outputId": "d0f763bb-ee89-4959-c708-3dd14a08ee7f"
      },
      "source": [
        "data = px.bar(df_Volume,\n",
        "              x = 'NamaProvinsi',\n",
        "              y = 'Volume')\n",
        "data.update_layout(\n",
        "    title = 'Diagram Jumlah Produksi Olahan Ikan di Pulau Kalimantan dan Sulawesi',\n",
        "    title_font_color = 'red',\n",
        "    title_font_size = 30,\n",
        "\n",
        "    xaxis = dict(\n",
        "        title = 'Nama Provinsi',\n",
        "        titlefont_size = 16,\n",
        "        tickfont_size = 9),\n",
        "\n",
        "    yaxis = dict(\n",
        "        title = 'Volume Produksi Olahan Ikan',\n",
        "        titlefont_size = 16,\n",
        "        tickfont_size = 9))\n",
        "data.show()"
      ],
      "execution_count": null,
      "outputs": [
        {
          "output_type": "display_data",
          "data": {
            "text/html": [
              "<html>\n",
              "<head><meta charset=\"utf-8\" /></head>\n",
              "<body>\n",
              "    <div>\n",
              "            <script src=\"https://cdnjs.cloudflare.com/ajax/libs/mathjax/2.7.5/MathJax.js?config=TeX-AMS-MML_SVG\"></script><script type=\"text/javascript\">if (window.MathJax) {MathJax.Hub.Config({SVG: {font: \"STIX-Web\"}});}</script>\n",
              "                <script type=\"text/javascript\">window.PlotlyConfig = {MathJaxConfig: 'local'};</script>\n",
              "        <script src=\"https://cdn.plot.ly/plotly-latest.min.js\"></script>    \n",
              "            <div id=\"be34ec1b-4221-4ce2-8013-51c4c3aa6d96\" class=\"plotly-graph-div\" style=\"height:525px; width:100%;\"></div>\n",
              "            <script type=\"text/javascript\">\n",
              "                \n",
              "                    window.PLOTLYENV=window.PLOTLYENV || {};\n",
              "                    \n",
              "                if (document.getElementById(\"be34ec1b-4221-4ce2-8013-51c4c3aa6d96\")) {\n",
              "                    Plotly.newPlot(\n",
              "                        'be34ec1b-4221-4ce2-8013-51c4c3aa6d96',\n",
              "                        [{\"alignmentgroup\": \"True\", \"hoverlabel\": {\"namelength\": 0}, \"hovertemplate\": \"NamaProvinsi=%{x}<br>Volume=%{y}\", \"legendgroup\": \"\", \"marker\": {\"color\": \"#636efa\"}, \"name\": \"\", \"offsetgroup\": \"\", \"orientation\": \"v\", \"showlegend\": false, \"textposition\": \"auto\", \"type\": \"bar\", \"x\": [\"Kalimantan Barat\", \"Kalimantan Tengah\", \"Kalimantan Selatan\", \"Kalimantan Timur\", \"Sulawesi Tengah\", \"Sulawesi Selatan\", \"Sulawesi Barat\", \"Sulawesi Tenggara\"], \"xaxis\": \"x\", \"y\": [343926, 361556, 931292, 421502, 427702, 995568, 144952, 866884], \"yaxis\": \"y\"}],\n",
              "                        {\"barmode\": \"relative\", \"legend\": {\"tracegroupgap\": 0}, \"margin\": {\"t\": 60}, \"template\": {\"data\": {\"bar\": [{\"error_x\": {\"color\": \"#2a3f5f\"}, \"error_y\": {\"color\": \"#2a3f5f\"}, \"marker\": {\"line\": {\"color\": \"#E5ECF6\", \"width\": 0.5}}, \"type\": \"bar\"}], \"barpolar\": [{\"marker\": {\"line\": {\"color\": \"#E5ECF6\", \"width\": 0.5}}, \"type\": \"barpolar\"}], \"carpet\": [{\"aaxis\": {\"endlinecolor\": \"#2a3f5f\", \"gridcolor\": \"white\", \"linecolor\": \"white\", \"minorgridcolor\": \"white\", \"startlinecolor\": \"#2a3f5f\"}, \"baxis\": {\"endlinecolor\": \"#2a3f5f\", \"gridcolor\": \"white\", \"linecolor\": \"white\", \"minorgridcolor\": \"white\", \"startlinecolor\": \"#2a3f5f\"}, \"type\": \"carpet\"}], \"choropleth\": [{\"colorbar\": {\"outlinewidth\": 0, \"ticks\": \"\"}, \"type\": \"choropleth\"}], \"contour\": [{\"colorbar\": {\"outlinewidth\": 0, \"ticks\": \"\"}, \"colorscale\": [[0.0, \"#0d0887\"], [0.1111111111111111, \"#46039f\"], [0.2222222222222222, \"#7201a8\"], [0.3333333333333333, \"#9c179e\"], [0.4444444444444444, \"#bd3786\"], [0.5555555555555556, \"#d8576b\"], [0.6666666666666666, \"#ed7953\"], [0.7777777777777778, \"#fb9f3a\"], [0.8888888888888888, \"#fdca26\"], [1.0, \"#f0f921\"]], \"type\": \"contour\"}], \"contourcarpet\": [{\"colorbar\": {\"outlinewidth\": 0, \"ticks\": \"\"}, \"type\": \"contourcarpet\"}], \"heatmap\": [{\"colorbar\": {\"outlinewidth\": 0, \"ticks\": \"\"}, \"colorscale\": [[0.0, \"#0d0887\"], [0.1111111111111111, \"#46039f\"], [0.2222222222222222, \"#7201a8\"], [0.3333333333333333, \"#9c179e\"], [0.4444444444444444, \"#bd3786\"], [0.5555555555555556, \"#d8576b\"], [0.6666666666666666, \"#ed7953\"], [0.7777777777777778, \"#fb9f3a\"], [0.8888888888888888, \"#fdca26\"], [1.0, \"#f0f921\"]], \"type\": \"heatmap\"}], \"heatmapgl\": [{\"colorbar\": {\"outlinewidth\": 0, \"ticks\": \"\"}, \"colorscale\": [[0.0, \"#0d0887\"], [0.1111111111111111, \"#46039f\"], [0.2222222222222222, \"#7201a8\"], [0.3333333333333333, \"#9c179e\"], [0.4444444444444444, \"#bd3786\"], [0.5555555555555556, \"#d8576b\"], [0.6666666666666666, \"#ed7953\"], [0.7777777777777778, \"#fb9f3a\"], [0.8888888888888888, \"#fdca26\"], [1.0, \"#f0f921\"]], \"type\": \"heatmapgl\"}], \"histogram\": [{\"marker\": {\"colorbar\": {\"outlinewidth\": 0, \"ticks\": \"\"}}, \"type\": \"histogram\"}], \"histogram2d\": [{\"colorbar\": {\"outlinewidth\": 0, \"ticks\": \"\"}, \"colorscale\": [[0.0, \"#0d0887\"], [0.1111111111111111, \"#46039f\"], [0.2222222222222222, \"#7201a8\"], [0.3333333333333333, \"#9c179e\"], [0.4444444444444444, \"#bd3786\"], [0.5555555555555556, \"#d8576b\"], [0.6666666666666666, \"#ed7953\"], [0.7777777777777778, \"#fb9f3a\"], [0.8888888888888888, \"#fdca26\"], [1.0, \"#f0f921\"]], \"type\": \"histogram2d\"}], \"histogram2dcontour\": [{\"colorbar\": {\"outlinewidth\": 0, \"ticks\": \"\"}, \"colorscale\": [[0.0, \"#0d0887\"], [0.1111111111111111, \"#46039f\"], [0.2222222222222222, \"#7201a8\"], [0.3333333333333333, \"#9c179e\"], [0.4444444444444444, \"#bd3786\"], [0.5555555555555556, \"#d8576b\"], [0.6666666666666666, \"#ed7953\"], [0.7777777777777778, \"#fb9f3a\"], [0.8888888888888888, \"#fdca26\"], [1.0, \"#f0f921\"]], \"type\": \"histogram2dcontour\"}], \"mesh3d\": [{\"colorbar\": {\"outlinewidth\": 0, \"ticks\": \"\"}, \"type\": \"mesh3d\"}], \"parcoords\": [{\"line\": {\"colorbar\": {\"outlinewidth\": 0, \"ticks\": \"\"}}, \"type\": \"parcoords\"}], \"pie\": [{\"automargin\": true, \"type\": \"pie\"}], \"scatter\": [{\"marker\": {\"colorbar\": {\"outlinewidth\": 0, \"ticks\": \"\"}}, \"type\": \"scatter\"}], \"scatter3d\": [{\"line\": {\"colorbar\": {\"outlinewidth\": 0, \"ticks\": \"\"}}, \"marker\": {\"colorbar\": {\"outlinewidth\": 0, \"ticks\": \"\"}}, \"type\": \"scatter3d\"}], \"scattercarpet\": [{\"marker\": {\"colorbar\": {\"outlinewidth\": 0, \"ticks\": \"\"}}, \"type\": \"scattercarpet\"}], \"scattergeo\": [{\"marker\": {\"colorbar\": {\"outlinewidth\": 0, \"ticks\": \"\"}}, \"type\": \"scattergeo\"}], \"scattergl\": [{\"marker\": {\"colorbar\": {\"outlinewidth\": 0, \"ticks\": \"\"}}, \"type\": \"scattergl\"}], \"scattermapbox\": [{\"marker\": {\"colorbar\": {\"outlinewidth\": 0, \"ticks\": \"\"}}, \"type\": \"scattermapbox\"}], \"scatterpolar\": [{\"marker\": {\"colorbar\": {\"outlinewidth\": 0, \"ticks\": \"\"}}, \"type\": \"scatterpolar\"}], \"scatterpolargl\": [{\"marker\": {\"colorbar\": {\"outlinewidth\": 0, \"ticks\": \"\"}}, \"type\": \"scatterpolargl\"}], \"scatterternary\": [{\"marker\": {\"colorbar\": {\"outlinewidth\": 0, \"ticks\": \"\"}}, \"type\": \"scatterternary\"}], \"surface\": [{\"colorbar\": {\"outlinewidth\": 0, \"ticks\": \"\"}, \"colorscale\": [[0.0, \"#0d0887\"], [0.1111111111111111, \"#46039f\"], [0.2222222222222222, \"#7201a8\"], [0.3333333333333333, \"#9c179e\"], [0.4444444444444444, \"#bd3786\"], [0.5555555555555556, \"#d8576b\"], [0.6666666666666666, \"#ed7953\"], [0.7777777777777778, \"#fb9f3a\"], [0.8888888888888888, \"#fdca26\"], [1.0, \"#f0f921\"]], \"type\": \"surface\"}], \"table\": [{\"cells\": {\"fill\": {\"color\": \"#EBF0F8\"}, \"line\": {\"color\": \"white\"}}, \"header\": {\"fill\": {\"color\": \"#C8D4E3\"}, \"line\": {\"color\": \"white\"}}, \"type\": \"table\"}]}, \"layout\": {\"annotationdefaults\": {\"arrowcolor\": \"#2a3f5f\", \"arrowhead\": 0, \"arrowwidth\": 1}, \"coloraxis\": {\"colorbar\": {\"outlinewidth\": 0, \"ticks\": \"\"}}, \"colorscale\": {\"diverging\": [[0, \"#8e0152\"], [0.1, \"#c51b7d\"], [0.2, \"#de77ae\"], [0.3, \"#f1b6da\"], [0.4, \"#fde0ef\"], [0.5, \"#f7f7f7\"], [0.6, \"#e6f5d0\"], [0.7, \"#b8e186\"], [0.8, \"#7fbc41\"], [0.9, \"#4d9221\"], [1, \"#276419\"]], \"sequential\": [[0.0, \"#0d0887\"], [0.1111111111111111, \"#46039f\"], [0.2222222222222222, \"#7201a8\"], [0.3333333333333333, \"#9c179e\"], [0.4444444444444444, \"#bd3786\"], [0.5555555555555556, \"#d8576b\"], [0.6666666666666666, \"#ed7953\"], [0.7777777777777778, \"#fb9f3a\"], [0.8888888888888888, \"#fdca26\"], [1.0, \"#f0f921\"]], \"sequentialminus\": [[0.0, \"#0d0887\"], [0.1111111111111111, \"#46039f\"], [0.2222222222222222, \"#7201a8\"], [0.3333333333333333, \"#9c179e\"], [0.4444444444444444, \"#bd3786\"], [0.5555555555555556, \"#d8576b\"], [0.6666666666666666, \"#ed7953\"], [0.7777777777777778, \"#fb9f3a\"], [0.8888888888888888, \"#fdca26\"], [1.0, \"#f0f921\"]]}, \"colorway\": [\"#636efa\", \"#EF553B\", \"#00cc96\", \"#ab63fa\", \"#FFA15A\", \"#19d3f3\", \"#FF6692\", \"#B6E880\", \"#FF97FF\", \"#FECB52\"], \"font\": {\"color\": \"#2a3f5f\"}, \"geo\": {\"bgcolor\": \"white\", \"lakecolor\": \"white\", \"landcolor\": \"#E5ECF6\", \"showlakes\": true, \"showland\": true, \"subunitcolor\": \"white\"}, \"hoverlabel\": {\"align\": \"left\"}, \"hovermode\": \"closest\", \"mapbox\": {\"style\": \"light\"}, \"paper_bgcolor\": \"white\", \"plot_bgcolor\": \"#E5ECF6\", \"polar\": {\"angularaxis\": {\"gridcolor\": \"white\", \"linecolor\": \"white\", \"ticks\": \"\"}, \"bgcolor\": \"#E5ECF6\", \"radialaxis\": {\"gridcolor\": \"white\", \"linecolor\": \"white\", \"ticks\": \"\"}}, \"scene\": {\"xaxis\": {\"backgroundcolor\": \"#E5ECF6\", \"gridcolor\": \"white\", \"gridwidth\": 2, \"linecolor\": \"white\", \"showbackground\": true, \"ticks\": \"\", \"zerolinecolor\": \"white\"}, \"yaxis\": {\"backgroundcolor\": \"#E5ECF6\", \"gridcolor\": \"white\", \"gridwidth\": 2, \"linecolor\": \"white\", \"showbackground\": true, \"ticks\": \"\", \"zerolinecolor\": \"white\"}, \"zaxis\": {\"backgroundcolor\": \"#E5ECF6\", \"gridcolor\": \"white\", \"gridwidth\": 2, \"linecolor\": \"white\", \"showbackground\": true, \"ticks\": \"\", \"zerolinecolor\": \"white\"}}, \"shapedefaults\": {\"line\": {\"color\": \"#2a3f5f\"}}, \"ternary\": {\"aaxis\": {\"gridcolor\": \"white\", \"linecolor\": \"white\", \"ticks\": \"\"}, \"baxis\": {\"gridcolor\": \"white\", \"linecolor\": \"white\", \"ticks\": \"\"}, \"bgcolor\": \"#E5ECF6\", \"caxis\": {\"gridcolor\": \"white\", \"linecolor\": \"white\", \"ticks\": \"\"}}, \"title\": {\"x\": 0.05}, \"xaxis\": {\"automargin\": true, \"gridcolor\": \"white\", \"linecolor\": \"white\", \"ticks\": \"\", \"title\": {\"standoff\": 15}, \"zerolinecolor\": \"white\", \"zerolinewidth\": 2}, \"yaxis\": {\"automargin\": true, \"gridcolor\": \"white\", \"linecolor\": \"white\", \"ticks\": \"\", \"title\": {\"standoff\": 15}, \"zerolinecolor\": \"white\", \"zerolinewidth\": 2}}}, \"title\": {\"font\": {\"color\": \"red\", \"size\": 30}, \"text\": \"Diagram Jumlah Produksi Olahan Ikan di Pulau Kalimantan dan Sulawesi\"}, \"xaxis\": {\"anchor\": \"y\", \"domain\": [0.0, 1.0], \"tickfont\": {\"size\": 9}, \"title\": {\"font\": {\"size\": 16}, \"text\": \"Nama Provinsi\"}}, \"yaxis\": {\"anchor\": \"x\", \"domain\": [0.0, 1.0], \"tickfont\": {\"size\": 9}, \"title\": {\"font\": {\"size\": 16}, \"text\": \"Volume Produksi Olahan Ikan\"}}},\n",
              "                        {\"responsive\": true}\n",
              "                    ).then(function(){\n",
              "                            \n",
              "var gd = document.getElementById('be34ec1b-4221-4ce2-8013-51c4c3aa6d96');\n",
              "var x = new MutationObserver(function (mutations, observer) {{\n",
              "        var display = window.getComputedStyle(gd).display;\n",
              "        if (!display || display === 'none') {{\n",
              "            console.log([gd, 'removed!']);\n",
              "            Plotly.purge(gd);\n",
              "            observer.disconnect();\n",
              "        }}\n",
              "}});\n",
              "\n",
              "// Listen for the removal of the full notebook cells\n",
              "var notebookContainer = gd.closest('#notebook-container');\n",
              "if (notebookContainer) {{\n",
              "    x.observe(notebookContainer, {childList: true});\n",
              "}}\n",
              "\n",
              "// Listen for the clearing of the current output cell\n",
              "var outputEl = gd.closest('.output');\n",
              "if (outputEl) {{\n",
              "    x.observe(outputEl, {childList: true});\n",
              "}}\n",
              "\n",
              "                        })\n",
              "                };\n",
              "                \n",
              "            </script>\n",
              "        </div>\n",
              "</body>\n",
              "</html>"
            ]
          },
          "metadata": {}
        }
      ]
    },
    {
      "cell_type": "markdown",
      "metadata": {
        "id": "Kk-UVF-13ipN"
      },
      "source": [
        "Dari hasil proses visualisasi data diatas diperoleh produk olahan ikan di Pulau Kalimantan dan Sulawesi yang menghasilkan jumlah volume produk olahan ikan terbanyak yaitu di Provinsi Sulawesi Selatan."
      ]
    },
    {
      "cell_type": "markdown",
      "metadata": {
        "id": "fXRpzNZL6FWp"
      },
      "source": [
        "##Insight 4\n",
        "**Data ke-4 Produk Olahan Ikan**\n",
        "\n",
        "Apakah penyebab di provinsi tersebut menghasilkan jumlah volume produk olahan ikan terbanyak?"
      ]
    },
    {
      "cell_type": "code",
      "metadata": {
        "colab": {
          "base_uri": "https://localhost:8080/",
          "height": 542
        },
        "id": "9389qw4Z43t-",
        "outputId": "7456152e-5ce2-413b-81de-ce40525a9b88"
      },
      "source": [
        "Pulau_KalimantanSulawesi = ['KalBar','KalTeng','KalSel','KalTim','SulTeng','SulSel','SulBar','SulTra']\n",
        "Volume_data = [343926 , 361556, 931292, 421502, 427702, 995568, 144952, 866884]\n",
        "\n",
        "fig = go.Figure(data = [go.Pie(labels=Pulau_KalimantanSulawesi, values=Volume_data)])\n",
        "fig.show()"
      ],
      "execution_count": null,
      "outputs": [
        {
          "output_type": "display_data",
          "data": {
            "text/html": [
              "<html>\n",
              "<head><meta charset=\"utf-8\" /></head>\n",
              "<body>\n",
              "    <div>\n",
              "            <script src=\"https://cdnjs.cloudflare.com/ajax/libs/mathjax/2.7.5/MathJax.js?config=TeX-AMS-MML_SVG\"></script><script type=\"text/javascript\">if (window.MathJax) {MathJax.Hub.Config({SVG: {font: \"STIX-Web\"}});}</script>\n",
              "                <script type=\"text/javascript\">window.PlotlyConfig = {MathJaxConfig: 'local'};</script>\n",
              "        <script src=\"https://cdn.plot.ly/plotly-latest.min.js\"></script>    \n",
              "            <div id=\"8626fd74-50e9-4fea-b2a1-3649f08b89ba\" class=\"plotly-graph-div\" style=\"height:525px; width:100%;\"></div>\n",
              "            <script type=\"text/javascript\">\n",
              "                \n",
              "                    window.PLOTLYENV=window.PLOTLYENV || {};\n",
              "                    \n",
              "                if (document.getElementById(\"8626fd74-50e9-4fea-b2a1-3649f08b89ba\")) {\n",
              "                    Plotly.newPlot(\n",
              "                        '8626fd74-50e9-4fea-b2a1-3649f08b89ba',\n",
              "                        [{\"labels\": [\"KalBar\", \"KalTeng\", \"KalSel\", \"KalTim\", \"SulTeng\", \"SulSel\", \"SulBar\", \"SulTra\"], \"type\": \"pie\", \"values\": [343926, 361556, 931292, 421502, 427702, 995568, 144952, 866884]}],\n",
              "                        {\"template\": {\"data\": {\"bar\": [{\"error_x\": {\"color\": \"#2a3f5f\"}, \"error_y\": {\"color\": \"#2a3f5f\"}, \"marker\": {\"line\": {\"color\": \"#E5ECF6\", \"width\": 0.5}}, \"type\": \"bar\"}], \"barpolar\": [{\"marker\": {\"line\": {\"color\": \"#E5ECF6\", \"width\": 0.5}}, \"type\": \"barpolar\"}], \"carpet\": [{\"aaxis\": {\"endlinecolor\": \"#2a3f5f\", \"gridcolor\": \"white\", \"linecolor\": \"white\", \"minorgridcolor\": \"white\", \"startlinecolor\": \"#2a3f5f\"}, \"baxis\": {\"endlinecolor\": \"#2a3f5f\", \"gridcolor\": \"white\", \"linecolor\": \"white\", \"minorgridcolor\": \"white\", \"startlinecolor\": \"#2a3f5f\"}, \"type\": \"carpet\"}], \"choropleth\": [{\"colorbar\": {\"outlinewidth\": 0, \"ticks\": \"\"}, \"type\": \"choropleth\"}], \"contour\": [{\"colorbar\": {\"outlinewidth\": 0, \"ticks\": \"\"}, \"colorscale\": [[0.0, \"#0d0887\"], [0.1111111111111111, \"#46039f\"], [0.2222222222222222, \"#7201a8\"], [0.3333333333333333, \"#9c179e\"], [0.4444444444444444, \"#bd3786\"], [0.5555555555555556, \"#d8576b\"], [0.6666666666666666, \"#ed7953\"], [0.7777777777777778, \"#fb9f3a\"], [0.8888888888888888, \"#fdca26\"], [1.0, \"#f0f921\"]], \"type\": \"contour\"}], \"contourcarpet\": [{\"colorbar\": {\"outlinewidth\": 0, \"ticks\": \"\"}, \"type\": \"contourcarpet\"}], \"heatmap\": [{\"colorbar\": {\"outlinewidth\": 0, \"ticks\": \"\"}, \"colorscale\": [[0.0, \"#0d0887\"], [0.1111111111111111, \"#46039f\"], [0.2222222222222222, \"#7201a8\"], [0.3333333333333333, \"#9c179e\"], [0.4444444444444444, \"#bd3786\"], [0.5555555555555556, \"#d8576b\"], [0.6666666666666666, \"#ed7953\"], [0.7777777777777778, \"#fb9f3a\"], [0.8888888888888888, \"#fdca26\"], [1.0, \"#f0f921\"]], \"type\": \"heatmap\"}], \"heatmapgl\": [{\"colorbar\": {\"outlinewidth\": 0, \"ticks\": \"\"}, \"colorscale\": [[0.0, \"#0d0887\"], [0.1111111111111111, \"#46039f\"], [0.2222222222222222, \"#7201a8\"], [0.3333333333333333, \"#9c179e\"], [0.4444444444444444, \"#bd3786\"], [0.5555555555555556, \"#d8576b\"], [0.6666666666666666, \"#ed7953\"], [0.7777777777777778, \"#fb9f3a\"], [0.8888888888888888, \"#fdca26\"], [1.0, \"#f0f921\"]], \"type\": \"heatmapgl\"}], \"histogram\": [{\"marker\": {\"colorbar\": {\"outlinewidth\": 0, \"ticks\": \"\"}}, \"type\": \"histogram\"}], \"histogram2d\": [{\"colorbar\": {\"outlinewidth\": 0, \"ticks\": \"\"}, \"colorscale\": [[0.0, \"#0d0887\"], [0.1111111111111111, \"#46039f\"], [0.2222222222222222, \"#7201a8\"], [0.3333333333333333, \"#9c179e\"], [0.4444444444444444, \"#bd3786\"], [0.5555555555555556, \"#d8576b\"], [0.6666666666666666, \"#ed7953\"], [0.7777777777777778, \"#fb9f3a\"], [0.8888888888888888, \"#fdca26\"], [1.0, \"#f0f921\"]], \"type\": \"histogram2d\"}], \"histogram2dcontour\": [{\"colorbar\": {\"outlinewidth\": 0, \"ticks\": \"\"}, \"colorscale\": [[0.0, \"#0d0887\"], [0.1111111111111111, \"#46039f\"], [0.2222222222222222, \"#7201a8\"], [0.3333333333333333, \"#9c179e\"], [0.4444444444444444, \"#bd3786\"], [0.5555555555555556, \"#d8576b\"], [0.6666666666666666, \"#ed7953\"], [0.7777777777777778, \"#fb9f3a\"], [0.8888888888888888, \"#fdca26\"], [1.0, \"#f0f921\"]], \"type\": \"histogram2dcontour\"}], \"mesh3d\": [{\"colorbar\": {\"outlinewidth\": 0, \"ticks\": \"\"}, \"type\": \"mesh3d\"}], \"parcoords\": [{\"line\": {\"colorbar\": {\"outlinewidth\": 0, \"ticks\": \"\"}}, \"type\": \"parcoords\"}], \"pie\": [{\"automargin\": true, \"type\": \"pie\"}], \"scatter\": [{\"marker\": {\"colorbar\": {\"outlinewidth\": 0, \"ticks\": \"\"}}, \"type\": \"scatter\"}], \"scatter3d\": [{\"line\": {\"colorbar\": {\"outlinewidth\": 0, \"ticks\": \"\"}}, \"marker\": {\"colorbar\": {\"outlinewidth\": 0, \"ticks\": \"\"}}, \"type\": \"scatter3d\"}], \"scattercarpet\": [{\"marker\": {\"colorbar\": {\"outlinewidth\": 0, \"ticks\": \"\"}}, \"type\": \"scattercarpet\"}], \"scattergeo\": [{\"marker\": {\"colorbar\": {\"outlinewidth\": 0, \"ticks\": \"\"}}, \"type\": \"scattergeo\"}], \"scattergl\": [{\"marker\": {\"colorbar\": {\"outlinewidth\": 0, \"ticks\": \"\"}}, \"type\": \"scattergl\"}], \"scattermapbox\": [{\"marker\": {\"colorbar\": {\"outlinewidth\": 0, \"ticks\": \"\"}}, \"type\": \"scattermapbox\"}], \"scatterpolar\": [{\"marker\": {\"colorbar\": {\"outlinewidth\": 0, \"ticks\": \"\"}}, \"type\": \"scatterpolar\"}], \"scatterpolargl\": [{\"marker\": {\"colorbar\": {\"outlinewidth\": 0, \"ticks\": \"\"}}, \"type\": \"scatterpolargl\"}], \"scatterternary\": [{\"marker\": {\"colorbar\": {\"outlinewidth\": 0, \"ticks\": \"\"}}, \"type\": \"scatterternary\"}], \"surface\": [{\"colorbar\": {\"outlinewidth\": 0, \"ticks\": \"\"}, \"colorscale\": [[0.0, \"#0d0887\"], [0.1111111111111111, \"#46039f\"], [0.2222222222222222, \"#7201a8\"], [0.3333333333333333, \"#9c179e\"], [0.4444444444444444, \"#bd3786\"], [0.5555555555555556, \"#d8576b\"], [0.6666666666666666, \"#ed7953\"], [0.7777777777777778, \"#fb9f3a\"], [0.8888888888888888, \"#fdca26\"], [1.0, \"#f0f921\"]], \"type\": \"surface\"}], \"table\": [{\"cells\": {\"fill\": {\"color\": \"#EBF0F8\"}, \"line\": {\"color\": \"white\"}}, \"header\": {\"fill\": {\"color\": \"#C8D4E3\"}, \"line\": {\"color\": \"white\"}}, \"type\": \"table\"}]}, \"layout\": {\"annotationdefaults\": {\"arrowcolor\": \"#2a3f5f\", \"arrowhead\": 0, \"arrowwidth\": 1}, \"coloraxis\": {\"colorbar\": {\"outlinewidth\": 0, \"ticks\": \"\"}}, \"colorscale\": {\"diverging\": [[0, \"#8e0152\"], [0.1, \"#c51b7d\"], [0.2, \"#de77ae\"], [0.3, \"#f1b6da\"], [0.4, \"#fde0ef\"], [0.5, \"#f7f7f7\"], [0.6, \"#e6f5d0\"], [0.7, \"#b8e186\"], [0.8, \"#7fbc41\"], [0.9, \"#4d9221\"], [1, \"#276419\"]], \"sequential\": [[0.0, \"#0d0887\"], [0.1111111111111111, \"#46039f\"], [0.2222222222222222, \"#7201a8\"], [0.3333333333333333, \"#9c179e\"], [0.4444444444444444, \"#bd3786\"], [0.5555555555555556, \"#d8576b\"], [0.6666666666666666, \"#ed7953\"], [0.7777777777777778, \"#fb9f3a\"], [0.8888888888888888, \"#fdca26\"], [1.0, \"#f0f921\"]], \"sequentialminus\": [[0.0, \"#0d0887\"], [0.1111111111111111, \"#46039f\"], [0.2222222222222222, \"#7201a8\"], [0.3333333333333333, \"#9c179e\"], [0.4444444444444444, \"#bd3786\"], [0.5555555555555556, \"#d8576b\"], [0.6666666666666666, \"#ed7953\"], [0.7777777777777778, \"#fb9f3a\"], [0.8888888888888888, \"#fdca26\"], [1.0, \"#f0f921\"]]}, \"colorway\": [\"#636efa\", \"#EF553B\", \"#00cc96\", \"#ab63fa\", \"#FFA15A\", \"#19d3f3\", \"#FF6692\", \"#B6E880\", \"#FF97FF\", \"#FECB52\"], \"font\": {\"color\": \"#2a3f5f\"}, \"geo\": {\"bgcolor\": \"white\", \"lakecolor\": \"white\", \"landcolor\": \"#E5ECF6\", \"showlakes\": true, \"showland\": true, \"subunitcolor\": \"white\"}, \"hoverlabel\": {\"align\": \"left\"}, \"hovermode\": \"closest\", \"mapbox\": {\"style\": \"light\"}, \"paper_bgcolor\": \"white\", \"plot_bgcolor\": \"#E5ECF6\", \"polar\": {\"angularaxis\": {\"gridcolor\": \"white\", \"linecolor\": \"white\", \"ticks\": \"\"}, \"bgcolor\": \"#E5ECF6\", \"radialaxis\": {\"gridcolor\": \"white\", \"linecolor\": \"white\", \"ticks\": \"\"}}, \"scene\": {\"xaxis\": {\"backgroundcolor\": \"#E5ECF6\", \"gridcolor\": \"white\", \"gridwidth\": 2, \"linecolor\": \"white\", \"showbackground\": true, \"ticks\": \"\", \"zerolinecolor\": \"white\"}, \"yaxis\": {\"backgroundcolor\": \"#E5ECF6\", \"gridcolor\": \"white\", \"gridwidth\": 2, \"linecolor\": \"white\", \"showbackground\": true, \"ticks\": \"\", \"zerolinecolor\": \"white\"}, \"zaxis\": {\"backgroundcolor\": \"#E5ECF6\", \"gridcolor\": \"white\", \"gridwidth\": 2, \"linecolor\": \"white\", \"showbackground\": true, \"ticks\": \"\", \"zerolinecolor\": \"white\"}}, \"shapedefaults\": {\"line\": {\"color\": \"#2a3f5f\"}}, \"ternary\": {\"aaxis\": {\"gridcolor\": \"white\", \"linecolor\": \"white\", \"ticks\": \"\"}, \"baxis\": {\"gridcolor\": \"white\", \"linecolor\": \"white\", \"ticks\": \"\"}, \"bgcolor\": \"#E5ECF6\", \"caxis\": {\"gridcolor\": \"white\", \"linecolor\": \"white\", \"ticks\": \"\"}}, \"title\": {\"x\": 0.05}, \"xaxis\": {\"automargin\": true, \"gridcolor\": \"white\", \"linecolor\": \"white\", \"ticks\": \"\", \"title\": {\"standoff\": 15}, \"zerolinecolor\": \"white\", \"zerolinewidth\": 2}, \"yaxis\": {\"automargin\": true, \"gridcolor\": \"white\", \"linecolor\": \"white\", \"ticks\": \"\", \"title\": {\"standoff\": 15}, \"zerolinecolor\": \"white\", \"zerolinewidth\": 2}}}},\n",
              "                        {\"responsive\": true}\n",
              "                    ).then(function(){\n",
              "                            \n",
              "var gd = document.getElementById('8626fd74-50e9-4fea-b2a1-3649f08b89ba');\n",
              "var x = new MutationObserver(function (mutations, observer) {{\n",
              "        var display = window.getComputedStyle(gd).display;\n",
              "        if (!display || display === 'none') {{\n",
              "            console.log([gd, 'removed!']);\n",
              "            Plotly.purge(gd);\n",
              "            observer.disconnect();\n",
              "        }}\n",
              "}});\n",
              "\n",
              "// Listen for the removal of the full notebook cells\n",
              "var notebookContainer = gd.closest('#notebook-container');\n",
              "if (notebookContainer) {{\n",
              "    x.observe(notebookContainer, {childList: true});\n",
              "}}\n",
              "\n",
              "// Listen for the clearing of the current output cell\n",
              "var outputEl = gd.closest('.output');\n",
              "if (outputEl) {{\n",
              "    x.observe(outputEl, {childList: true});\n",
              "}}\n",
              "\n",
              "                        })\n",
              "                };\n",
              "                \n",
              "            </script>\n",
              "        </div>\n",
              "</body>\n",
              "</html>"
            ]
          },
          "metadata": {}
        }
      ]
    },
    {
      "cell_type": "markdown",
      "metadata": {
        "id": "QeAv5VGILEsw"
      },
      "source": [
        "Terbukti bahwa Provinsi Sulawesi Selatan menghasilkan produk olahan ikan terbanyak dengan besar presentase 22,2%. Faktanya, Sulawesi Selatan dengan panjang garis pantai sekitar 2500 km, potensi lahan tambak 150.000 ha, perairan umum 178.000 ha, dan sawah atau kolam 100.000 ha sumber daya alam yang cukup besar. Sulawesi Selatan mempunyai peluang yang sangat besar untuk menyambung kebutuhan protein ikan secara nasional. Produksi Perikanan Sulawesi selatan memiliki potensi uang cukup besar sehingga sasaran ini merupakan indikator kinerja yang utama dalam pencapaian pembangunan kelautan dan perikanan di Sulawesi Selatan yang didukung oleh sumber daya alam yang cukup besar. Sampai saat ini sebagian besar produk hasil perikanan di Sulawesi Selatan pada umumnya di konsumsi dalam bentuk ikan segar, sedangkan dalam bentuk olahan hasil perikanan masih terbatas pada cara tradisional dan hal itu sangat meningkatkan volume produksi olahan ikan.\n",
        "\n",
        "Sumber :\n",
        "\n",
        "\n",
        "*   https://www.academia.edu/11764876/beberapa_komuditas_unggulan_perikanan_di_sulawesi_selatan\n",
        "*   https://sulselprov.go.id/upload/files/580f7f59870a4.pdf\n"
      ]
    },
    {
      "cell_type": "markdown",
      "metadata": {
        "id": "1sZagJfAj7k6"
      },
      "source": [
        "##Report 5\n",
        "**Data ke-5 Produksi Budidaya Nasional**\n",
        "\n",
        "Pada tahun berapa Provinsi DI Yogyakarta mengalami penurunan produksi budidaya ikan?"
      ]
    },
    {
      "cell_type": "code",
      "metadata": {
        "colab": {
          "base_uri": "https://localhost:8080/",
          "height": 390
        },
        "id": "XvqeLIR2j5-F",
        "outputId": "e41f3c1d-05df-4ee9-d1b8-5dd5cb3871e2"
      },
      "source": [
        "Tabel = df1_A.groupby(['NamaProvinsi','Tahun']).sum()\n",
        "Tabel.sort_values(['Volume','Tahun'],ascending=False)"
      ],
      "execution_count": null,
      "outputs": [
        {
          "output_type": "execute_result",
          "data": {
            "text/html": [
              "<div>\n",
              "<style scoped>\n",
              "    .dataframe tbody tr th:only-of-type {\n",
              "        vertical-align: middle;\n",
              "    }\n",
              "\n",
              "    .dataframe tbody tr th {\n",
              "        vertical-align: top;\n",
              "    }\n",
              "\n",
              "    .dataframe thead th {\n",
              "        text-align: right;\n",
              "    }\n",
              "</style>\n",
              "<table border=\"1\" class=\"dataframe\">\n",
              "  <thead>\n",
              "    <tr style=\"text-align: right;\">\n",
              "      <th></th>\n",
              "      <th></th>\n",
              "      <th>ID</th>\n",
              "      <th>ProvinsiID</th>\n",
              "      <th>Volume</th>\n",
              "      <th>Nilai</th>\n",
              "      <th>IkanID</th>\n",
              "    </tr>\n",
              "    <tr>\n",
              "      <th>NamaProvinsi</th>\n",
              "      <th>Tahun</th>\n",
              "      <th></th>\n",
              "      <th></th>\n",
              "      <th></th>\n",
              "      <th></th>\n",
              "      <th></th>\n",
              "    </tr>\n",
              "  </thead>\n",
              "  <tbody>\n",
              "    <tr>\n",
              "      <th rowspan=\"10\" valign=\"top\">DI Yogyakarta</th>\n",
              "      <th>2012</th>\n",
              "      <td>61873</td>\n",
              "      <td>476</td>\n",
              "      <td>100519</td>\n",
              "      <td>1.539517e+09</td>\n",
              "      <td>197</td>\n",
              "    </tr>\n",
              "    <tr>\n",
              "      <th>2011</th>\n",
              "      <td>30919</td>\n",
              "      <td>476</td>\n",
              "      <td>89086</td>\n",
              "      <td>1.167968e+09</td>\n",
              "      <td>197</td>\n",
              "    </tr>\n",
              "    <tr>\n",
              "      <th>2010</th>\n",
              "      <td>30457</td>\n",
              "      <td>476</td>\n",
              "      <td>79163</td>\n",
              "      <td>1.057711e+09</td>\n",
              "      <td>197</td>\n",
              "    </tr>\n",
              "    <tr>\n",
              "      <th>2009</th>\n",
              "      <td>29995</td>\n",
              "      <td>476</td>\n",
              "      <td>35365</td>\n",
              "      <td>2.935866e+08</td>\n",
              "      <td>197</td>\n",
              "    </tr>\n",
              "    <tr>\n",
              "      <th>2008</th>\n",
              "      <td>29533</td>\n",
              "      <td>476</td>\n",
              "      <td>29482</td>\n",
              "      <td>3.153397e+08</td>\n",
              "      <td>197</td>\n",
              "    </tr>\n",
              "    <tr>\n",
              "      <th>2007</th>\n",
              "      <td>29071</td>\n",
              "      <td>476</td>\n",
              "      <td>23897</td>\n",
              "      <td>2.487240e+08</td>\n",
              "      <td>197</td>\n",
              "    </tr>\n",
              "    <tr>\n",
              "      <th>2006</th>\n",
              "      <td>28609</td>\n",
              "      <td>476</td>\n",
              "      <td>19344</td>\n",
              "      <td>1.934846e+08</td>\n",
              "      <td>197</td>\n",
              "    </tr>\n",
              "    <tr>\n",
              "      <th>2005</th>\n",
              "      <td>28147</td>\n",
              "      <td>476</td>\n",
              "      <td>18262</td>\n",
              "      <td>1.849286e+08</td>\n",
              "      <td>197</td>\n",
              "    </tr>\n",
              "    <tr>\n",
              "      <th>2003</th>\n",
              "      <td>27223</td>\n",
              "      <td>476</td>\n",
              "      <td>15198</td>\n",
              "      <td>9.077103e+07</td>\n",
              "      <td>197</td>\n",
              "    </tr>\n",
              "    <tr>\n",
              "      <th>2004</th>\n",
              "      <td>27685</td>\n",
              "      <td>476</td>\n",
              "      <td>12440</td>\n",
              "      <td>1.188790e+08</td>\n",
              "      <td>197</td>\n",
              "    </tr>\n",
              "  </tbody>\n",
              "</table>\n",
              "</div>"
            ],
            "text/plain": [
              "                        ID  ProvinsiID  Volume         Nilai  IkanID\n",
              "NamaProvinsi  Tahun                                                 \n",
              "DI Yogyakarta 2012   61873         476  100519  1.539517e+09     197\n",
              "              2011   30919         476   89086  1.167968e+09     197\n",
              "              2010   30457         476   79163  1.057711e+09     197\n",
              "              2009   29995         476   35365  2.935866e+08     197\n",
              "              2008   29533         476   29482  3.153397e+08     197\n",
              "              2007   29071         476   23897  2.487240e+08     197\n",
              "              2006   28609         476   19344  1.934846e+08     197\n",
              "              2005   28147         476   18262  1.849286e+08     197\n",
              "              2003   27223         476   15198  9.077103e+07     197\n",
              "              2004   27685         476   12440  1.188790e+08     197"
            ]
          },
          "metadata": {},
          "execution_count": 39
        }
      ]
    },
    {
      "cell_type": "code",
      "metadata": {
        "colab": {
          "base_uri": "https://localhost:8080/",
          "height": 294
        },
        "id": "Z_YrGLbIoHvW",
        "outputId": "ca835244-5287-4361-c42c-407e502f45b5"
      },
      "source": [
        "plt.bar(df1_A.Tahun,df1_A.Volume)\n",
        "plt.title('Grafik Produksi Budidaya Nasional dari Tahun 2003-2012')\n",
        "plt.xlabel('Tahun')\n",
        "plt.ylabel('Volume')\n",
        "plt.show()"
      ],
      "execution_count": null,
      "outputs": [
        {
          "output_type": "display_data",
          "data": {
            "image/png": "[encoded data removed]",
            "text/plain": [
              "<Figure size 432x288 with 1 Axes>"
            ]
          },
          "metadata": {
            "tags": [],
            "needs_background": "light"
          }
        }
      ]
    },
    {
      "cell_type": "markdown",
      "metadata": {
        "id": "WgHSYpaf1oRj"
      },
      "source": [
        "Dari hasil yang diperoleh dapat disimpulkan bahwa Provinsi DI Yogyakarta mengalami penurunan produksi budidaya ikan pada tahun 2004 dengan 12440."
      ]
    },
    {
      "cell_type": "markdown",
      "metadata": {
        "id": "zOOMohoi64sQ"
      },
      "source": [
        "##Insight 5\n",
        "** Data ke-5 Produksi Budidaya Nasional**\n",
        "\n",
        "Mengapa provinsi tersebut mengalami penurunan produksi budidaya ikan?"
      ]
    },
    {
      "cell_type": "markdown",
      "metadata": {
        "id": "PgkVKydRhM0J"
      },
      "source": [
        "Dalam UU Nomor 31 tahun 2004 tentang Perikanan, masih belum mampu mengantisipasi perkembangan teknologi serta perkembangan kebutuhan hukum dalam rangka pengelolaan dan pemanfaatan potensi sumber daya ikan. Undang-Undang Nomor 31 Tahun 2004 tentang Perikanan juga mengarah pada keberpihakan kepada nelayan kecil dan pembudi daya-ikan kecil antara lain dalam aspek perizinan, kewajiban penerapan ketentuan mengenai sistem pemantauan kapal perikanan, pungutan perikanan, dan pengenaan sanksi pidana.\n",
        "\n",
        "Di Provinsi DI Yogyakarta masih kurangnya dalam pemanfatan potensi sumber daya ikan sehingga banyak masyarakat masih kurang memanfaatkan tempat-tempat yang dijadikan untuk budidaya ikan. Selain itu masyarakat DI Yogyakarta masih belum mampu mengantisipasi perkembangan tekonologi yang ada. Sehingga pada tahun 2004 Provinsi DI Yogyakarta mengalami penurunan produksi budidaya ikan.\n",
        "\n",
        "Dalam hal budidaya ikan, dalam ketersediaan benih ikan, baik dalam jumlah maupun kualitas yang memadai, merupakan kunci utama keberhasilan usaha perikanan budidaya.Tidak hanya untuk kegiatan produksi ikan melalui budidaya, kemampuan memproduksi benih yang memadai juga menentukan keberhasilan upaya konservasi sumberdaya ikan, khususnya melalui kegiatan pengkayaan stok sumberdaya ikan.\n",
        "\n",
        "Sumber :\n",
        "\n",
        "*   https://www.jogloabang.com/pustaka/uu-45-2009-perubahan-uu-31-2004-perikanan\n",
        "\n"
      ]
    },
    {
      "cell_type": "markdown",
      "metadata": {
        "id": "sEhfVaOTBLIS"
      },
      "source": [
        "##Report 6\n",
        "\n",
        "**Data ke-6 Produksi Perlakuan Ikan Nasional**\n",
        "\n",
        "5 wilayah teratas yang memiliki total volume produksi perlakuan ikan yang digaremin dari yang terbanyak? "
      ]
    },
    {
      "cell_type": "code",
      "metadata": {
        "colab": {
          "base_uri": "https://localhost:8080/",
          "height": 542
        },
        "id": "b-6TA1AHBVD9",
        "outputId": "1409dc92-827e-40e9-cb82-28df28883822"
      },
      "source": [
        "#Visualisasi\n",
        "import plotly.express as px\n",
        "\n",
        "diag = px.bar(df_vol_sort.tail(5),\n",
        "              x = 'Provinsi',\n",
        "              y = 'Volume')\n",
        "diag.update_layout(\n",
        "    title = 'Diagram 5 wilayah teratas yang memiliki total volume produksi perlakuan ikan yang digaremin dari yang terbanyak',\n",
        "    title_font_color = 'blue',\n",
        "    title_font_size = 25,\n",
        "\n",
        "    xaxis = dict(\n",
        "        title = 'Nama Provinsi',\n",
        "        titlefont_size = 16,\n",
        "        tickfont_size = 12),\n",
        "\n",
        "    yaxis = dict(\n",
        "        title = 'Volume Produksi Perlakuan Ikan Pengeringan/Penggaraman',\n",
        "        titlefont_size = 16,\n",
        "        tickfont_size = 12))\n",
        "diag.show()"
      ],
      "execution_count": null,
      "outputs": [
        {
          "output_type": "display_data",
          "data": {
            "text/html": [
              "<html>\n",
              "<head><meta charset=\"utf-8\" /></head>\n",
              "<body>\n",
              "    <div>\n",
              "            <script src=\"https://cdnjs.cloudflare.com/ajax/libs/mathjax/2.7.5/MathJax.js?config=TeX-AMS-MML_SVG\"></script><script type=\"text/javascript\">if (window.MathJax) {MathJax.Hub.Config({SVG: {font: \"STIX-Web\"}});}</script>\n",
              "                <script type=\"text/javascript\">window.PlotlyConfig = {MathJaxConfig: 'local'};</script>\n",
              "        <script src=\"https://cdn.plot.ly/plotly-latest.min.js\"></script>    \n",
              "            <div id=\"d523e0b9-4182-4957-9983-f76c3b407f52\" class=\"plotly-graph-div\" style=\"height:525px; width:100%;\"></div>\n",
              "            <script type=\"text/javascript\">\n",
              "                \n",
              "                    window.PLOTLYENV=window.PLOTLYENV || {};\n",
              "                    \n",
              "                if (document.getElementById(\"d523e0b9-4182-4957-9983-f76c3b407f52\")) {\n",
              "                    Plotly.newPlot(\n",
              "                        'd523e0b9-4182-4957-9983-f76c3b407f52',\n",
              "                        [{\"alignmentgroup\": \"True\", \"hoverlabel\": {\"namelength\": 0}, \"hovertemplate\": \"Provinsi=%{x}<br>Volume=%{y}\", \"legendgroup\": \"\", \"marker\": {\"color\": \"#636efa\"}, \"name\": \"\", \"offsetgroup\": \"\", \"orientation\": \"v\", \"showlegend\": false, \"textposition\": \"auto\", \"type\": \"bar\", \"x\": [\"Jawa Tengah\", \"Sulawesi Selatan\", \"Jawa Timur\", \"Sumatera Utara\", \"Maluku\"], \"xaxis\": \"x\", \"y\": [5747778, 7012985, 8973418, 9643274, 9930958], \"yaxis\": \"y\"}],\n",
              "                        {\"barmode\": \"relative\", \"legend\": {\"tracegroupgap\": 0}, \"margin\": {\"t\": 60}, \"template\": {\"data\": {\"bar\": [{\"error_x\": {\"color\": \"#2a3f5f\"}, \"error_y\": {\"color\": \"#2a3f5f\"}, \"marker\": {\"line\": {\"color\": \"#E5ECF6\", \"width\": 0.5}}, \"type\": \"bar\"}], \"barpolar\": [{\"marker\": {\"line\": {\"color\": \"#E5ECF6\", \"width\": 0.5}}, \"type\": \"barpolar\"}], \"carpet\": [{\"aaxis\": {\"endlinecolor\": \"#2a3f5f\", \"gridcolor\": \"white\", \"linecolor\": \"white\", \"minorgridcolor\": \"white\", \"startlinecolor\": \"#2a3f5f\"}, \"baxis\": {\"endlinecolor\": \"#2a3f5f\", \"gridcolor\": \"white\", \"linecolor\": \"white\", \"minorgridcolor\": \"white\", \"startlinecolor\": \"#2a3f5f\"}, \"type\": \"carpet\"}], \"choropleth\": [{\"colorbar\": {\"outlinewidth\": 0, \"ticks\": \"\"}, \"type\": \"choropleth\"}], \"contour\": [{\"colorbar\": {\"outlinewidth\": 0, \"ticks\": \"\"}, \"colorscale\": [[0.0, \"#0d0887\"], [0.1111111111111111, \"#46039f\"], [0.2222222222222222, \"#7201a8\"], [0.3333333333333333, \"#9c179e\"], [0.4444444444444444, \"#bd3786\"], [0.5555555555555556, \"#d8576b\"], [0.6666666666666666, \"#ed7953\"], [0.7777777777777778, \"#fb9f3a\"], [0.8888888888888888, \"#fdca26\"], [1.0, \"#f0f921\"]], \"type\": \"contour\"}], \"contourcarpet\": [{\"colorbar\": {\"outlinewidth\": 0, \"ticks\": \"\"}, \"type\": \"contourcarpet\"}], \"heatmap\": [{\"colorbar\": {\"outlinewidth\": 0, \"ticks\": \"\"}, \"colorscale\": [[0.0, \"#0d0887\"], [0.1111111111111111, \"#46039f\"], [0.2222222222222222, \"#7201a8\"], [0.3333333333333333, \"#9c179e\"], [0.4444444444444444, \"#bd3786\"], [0.5555555555555556, \"#d8576b\"], [0.6666666666666666, \"#ed7953\"], [0.7777777777777778, \"#fb9f3a\"], [0.8888888888888888, \"#fdca26\"], [1.0, \"#f0f921\"]], \"type\": \"heatmap\"}], \"heatmapgl\": [{\"colorbar\": {\"outlinewidth\": 0, \"ticks\": \"\"}, \"colorscale\": [[0.0, \"#0d0887\"], [0.1111111111111111, \"#46039f\"], [0.2222222222222222, \"#7201a8\"], [0.3333333333333333, \"#9c179e\"], [0.4444444444444444, \"#bd3786\"], [0.5555555555555556, \"#d8576b\"], [0.6666666666666666, \"#ed7953\"], [0.7777777777777778, \"#fb9f3a\"], [0.8888888888888888, \"#fdca26\"], [1.0, \"#f0f921\"]], \"type\": \"heatmapgl\"}], \"histogram\": [{\"marker\": {\"colorbar\": {\"outlinewidth\": 0, \"ticks\": \"\"}}, \"type\": \"histogram\"}], \"histogram2d\": [{\"colorbar\": {\"outlinewidth\": 0, \"ticks\": \"\"}, \"colorscale\": [[0.0, \"#0d0887\"], [0.1111111111111111, \"#46039f\"], [0.2222222222222222, \"#7201a8\"], [0.3333333333333333, \"#9c179e\"], [0.4444444444444444, \"#bd3786\"], [0.5555555555555556, \"#d8576b\"], [0.6666666666666666, \"#ed7953\"], [0.7777777777777778, \"#fb9f3a\"], [0.8888888888888888, \"#fdca26\"], [1.0, \"#f0f921\"]], \"type\": \"histogram2d\"}], \"histogram2dcontour\": [{\"colorbar\": {\"outlinewidth\": 0, \"ticks\": \"\"}, \"colorscale\": [[0.0, \"#0d0887\"], [0.1111111111111111, \"#46039f\"], [0.2222222222222222, \"#7201a8\"], [0.3333333333333333, \"#9c179e\"], [0.4444444444444444, \"#bd3786\"], [0.5555555555555556, \"#d8576b\"], [0.6666666666666666, \"#ed7953\"], [0.7777777777777778, \"#fb9f3a\"], [0.8888888888888888, \"#fdca26\"], [1.0, \"#f0f921\"]], \"type\": \"histogram2dcontour\"}], \"mesh3d\": [{\"colorbar\": {\"outlinewidth\": 0, \"ticks\": \"\"}, \"type\": \"mesh3d\"}], \"parcoords\": [{\"line\": {\"colorbar\": {\"outlinewidth\": 0, \"ticks\": \"\"}}, \"type\": \"parcoords\"}], \"pie\": [{\"automargin\": true, \"type\": \"pie\"}], \"scatter\": [{\"marker\": {\"colorbar\": {\"outlinewidth\": 0, \"ticks\": \"\"}}, \"type\": \"scatter\"}], \"scatter3d\": [{\"line\": {\"colorbar\": {\"outlinewidth\": 0, \"ticks\": \"\"}}, \"marker\": {\"colorbar\": {\"outlinewidth\": 0, \"ticks\": \"\"}}, \"type\": \"scatter3d\"}], \"scattercarpet\": [{\"marker\": {\"colorbar\": {\"outlinewidth\": 0, \"ticks\": \"\"}}, \"type\": \"scattercarpet\"}], \"scattergeo\": [{\"marker\": {\"colorbar\": {\"outlinewidth\": 0, \"ticks\": \"\"}}, \"type\": \"scattergeo\"}], \"scattergl\": [{\"marker\": {\"colorbar\": {\"outlinewidth\": 0, \"ticks\": \"\"}}, \"type\": \"scattergl\"}], \"scattermapbox\": [{\"marker\": {\"colorbar\": {\"outlinewidth\": 0, \"ticks\": \"\"}}, \"type\": \"scattermapbox\"}], \"scatterpolar\": [{\"marker\": {\"colorbar\": {\"outlinewidth\": 0, \"ticks\": \"\"}}, \"type\": \"scatterpolar\"}], \"scatterpolargl\": [{\"marker\": {\"colorbar\": {\"outlinewidth\": 0, \"ticks\": \"\"}}, \"type\": \"scatterpolargl\"}], \"scatterternary\": [{\"marker\": {\"colorbar\": {\"outlinewidth\": 0, \"ticks\": \"\"}}, \"type\": \"scatterternary\"}], \"surface\": [{\"colorbar\": {\"outlinewidth\": 0, \"ticks\": \"\"}, \"colorscale\": [[0.0, \"#0d0887\"], [0.1111111111111111, \"#46039f\"], [0.2222222222222222, \"#7201a8\"], [0.3333333333333333, \"#9c179e\"], [0.4444444444444444, \"#bd3786\"], [0.5555555555555556, \"#d8576b\"], [0.6666666666666666, \"#ed7953\"], [0.7777777777777778, \"#fb9f3a\"], [0.8888888888888888, \"#fdca26\"], [1.0, \"#f0f921\"]], \"type\": \"surface\"}], \"table\": [{\"cells\": {\"fill\": {\"color\": \"#EBF0F8\"}, \"line\": {\"color\": \"white\"}}, \"header\": {\"fill\": {\"color\": \"#C8D4E3\"}, \"line\": {\"color\": \"white\"}}, \"type\": \"table\"}]}, \"layout\": {\"annotationdefaults\": {\"arrowcolor\": \"#2a3f5f\", \"arrowhead\": 0, \"arrowwidth\": 1}, \"coloraxis\": {\"colorbar\": {\"outlinewidth\": 0, \"ticks\": \"\"}}, \"colorscale\": {\"diverging\": [[0, \"#8e0152\"], [0.1, \"#c51b7d\"], [0.2, \"#de77ae\"], [0.3, \"#f1b6da\"], [0.4, \"#fde0ef\"], [0.5, \"#f7f7f7\"], [0.6, \"#e6f5d0\"], [0.7, \"#b8e186\"], [0.8, \"#7fbc41\"], [0.9, \"#4d9221\"], [1, \"#276419\"]], \"sequential\": [[0.0, \"#0d0887\"], [0.1111111111111111, \"#46039f\"], [0.2222222222222222, \"#7201a8\"], [0.3333333333333333, \"#9c179e\"], [0.4444444444444444, \"#bd3786\"], [0.5555555555555556, \"#d8576b\"], [0.6666666666666666, \"#ed7953\"], [0.7777777777777778, \"#fb9f3a\"], [0.8888888888888888, \"#fdca26\"], [1.0, \"#f0f921\"]], \"sequentialminus\": [[0.0, \"#0d0887\"], [0.1111111111111111, \"#46039f\"], [0.2222222222222222, \"#7201a8\"], [0.3333333333333333, \"#9c179e\"], [0.4444444444444444, \"#bd3786\"], [0.5555555555555556, \"#d8576b\"], [0.6666666666666666, \"#ed7953\"], [0.7777777777777778, \"#fb9f3a\"], [0.8888888888888888, \"#fdca26\"], [1.0, \"#f0f921\"]]}, \"colorway\": [\"#636efa\", \"#EF553B\", \"#00cc96\", \"#ab63fa\", \"#FFA15A\", \"#19d3f3\", \"#FF6692\", \"#B6E880\", \"#FF97FF\", \"#FECB52\"], \"font\": {\"color\": \"#2a3f5f\"}, \"geo\": {\"bgcolor\": \"white\", \"lakecolor\": \"white\", \"landcolor\": \"#E5ECF6\", \"showlakes\": true, \"showland\": true, \"subunitcolor\": \"white\"}, \"hoverlabel\": {\"align\": \"left\"}, \"hovermode\": \"closest\", \"mapbox\": {\"style\": \"light\"}, \"paper_bgcolor\": \"white\", \"plot_bgcolor\": \"#E5ECF6\", \"polar\": {\"angularaxis\": {\"gridcolor\": \"white\", \"linecolor\": \"white\", \"ticks\": \"\"}, \"bgcolor\": \"#E5ECF6\", \"radialaxis\": {\"gridcolor\": \"white\", \"linecolor\": \"white\", \"ticks\": \"\"}}, \"scene\": {\"xaxis\": {\"backgroundcolor\": \"#E5ECF6\", \"gridcolor\": \"white\", \"gridwidth\": 2, \"linecolor\": \"white\", \"showbackground\": true, \"ticks\": \"\", \"zerolinecolor\": \"white\"}, \"yaxis\": {\"backgroundcolor\": \"#E5ECF6\", \"gridcolor\": \"white\", \"gridwidth\": 2, \"linecolor\": \"white\", \"showbackground\": true, \"ticks\": \"\", \"zerolinecolor\": \"white\"}, \"zaxis\": {\"backgroundcolor\": \"#E5ECF6\", \"gridcolor\": \"white\", \"gridwidth\": 2, \"linecolor\": \"white\", \"showbackground\": true, \"ticks\": \"\", \"zerolinecolor\": \"white\"}}, \"shapedefaults\": {\"line\": {\"color\": \"#2a3f5f\"}}, \"ternary\": {\"aaxis\": {\"gridcolor\": \"white\", \"linecolor\": \"white\", \"ticks\": \"\"}, \"baxis\": {\"gridcolor\": \"white\", \"linecolor\": \"white\", \"ticks\": \"\"}, \"bgcolor\": \"#E5ECF6\", \"caxis\": {\"gridcolor\": \"white\", \"linecolor\": \"white\", \"ticks\": \"\"}}, \"title\": {\"x\": 0.05}, \"xaxis\": {\"automargin\": true, \"gridcolor\": \"white\", \"linecolor\": \"white\", \"ticks\": \"\", \"title\": {\"standoff\": 15}, \"zerolinecolor\": \"white\", \"zerolinewidth\": 2}, \"yaxis\": {\"automargin\": true, \"gridcolor\": \"white\", \"linecolor\": \"white\", \"ticks\": \"\", \"title\": {\"standoff\": 15}, \"zerolinecolor\": \"white\", \"zerolinewidth\": 2}}}, \"title\": {\"font\": {\"color\": \"blue\", \"size\": 25}, \"text\": \"Diagram 5 wilayah teratas yang memiliki total volume produksi perlakuan ikan yang digaremin dari yang terbanyak\"}, \"xaxis\": {\"anchor\": \"y\", \"domain\": [0.0, 1.0], \"tickfont\": {\"size\": 12}, \"title\": {\"font\": {\"size\": 16}, \"text\": \"Nama Provinsi\"}}, \"yaxis\": {\"anchor\": \"x\", \"domain\": [0.0, 1.0], \"tickfont\": {\"size\": 12}, \"title\": {\"font\": {\"size\": 16}, \"text\": \"Volume Produksi Perlakuan Ikan Pengeringan/Penggaraman\"}}},\n",
              "                        {\"responsive\": true}\n",
              "                    ).then(function(){\n",
              "                            \n",
              "var gd = document.getElementById('d523e0b9-4182-4957-9983-f76c3b407f52');\n",
              "var x = new MutationObserver(function (mutations, observer) {{\n",
              "        var display = window.getComputedStyle(gd).display;\n",
              "        if (!display || display === 'none') {{\n",
              "            console.log([gd, 'removed!']);\n",
              "            Plotly.purge(gd);\n",
              "            observer.disconnect();\n",
              "        }}\n",
              "}});\n",
              "\n",
              "// Listen for the removal of the full notebook cells\n",
              "var notebookContainer = gd.closest('#notebook-container');\n",
              "if (notebookContainer) {{\n",
              "    x.observe(notebookContainer, {childList: true});\n",
              "}}\n",
              "\n",
              "// Listen for the clearing of the current output cell\n",
              "var outputEl = gd.closest('.output');\n",
              "if (outputEl) {{\n",
              "    x.observe(outputEl, {childList: true});\n",
              "}}\n",
              "\n",
              "                        })\n",
              "                };\n",
              "                \n",
              "            </script>\n",
              "        </div>\n",
              "</body>\n",
              "</html>"
            ]
          },
          "metadata": {}
        }
      ]
    },
    {
      "cell_type": "markdown",
      "metadata": {
        "id": "WoN4PDHUBmyB"
      },
      "source": [
        "##Insight 6\n",
        "\n",
        "**Data ke-6 Produksi Perlakuan Ikan Nasional**\n",
        "\n",
        "Apa faktor yang mempengaruhi Maluku menjadi daerah dengan penghasil produk olahan ikan dengan metode penggaraman terbanyak?"
      ]
    },
    {
      "cell_type": "markdown",
      "metadata": {
        "id": "4qBKUEeFB0n-"
      },
      "source": [
        "Maluku adalah provinsi dengan pantai garis terpanjang di Indonesia, mencapai 10.630 kilometer atau 11,17 persen dari 95.181 kilometer total garis pantai Indonesia.\n",
        "\n",
        "Dengan garis pantai 10.630 km, Maluku memiliki laut seluas 654.000 kilometer persegi dan di dalamnya tersimpan kekayaan laut seperti kan pelagis besar, ikan pelagis kecil, ikan demersal, ikan karang, udang, lobster, dan cumi-cumi yang tersebar.\n",
        "\n",
        "Untuk mendorong potensi perikanan Maluku, pemerintah membangun pelabuhan perikanan (PP) Dobo sejak tahun 2005 yang sampai saat ini masih aktif sebab menjadi pusat kegiatan nelayan lokal. Maluku juga merupakan kawasan yang memiliki potensi laut besar, tersebar luas di tiga wilayah pengelolaan perikanan (WPP) RI dan melibatkan mayoritas perairan Maluku, serta sebagian kecil pulau-pulau di luar Maluku. Dan itu menjadi pekerjaan rumah bagi siapapun yang bergerak pada sektor kelautan dan perikanan.\n",
        "\n",
        "\n",
        "Maluku sebenarnya sudah menjadi salah satu fokus pemerintah dalam memanfaatkan SDA menjadi lumbung ikan nasional, sehingga tidak mengherankan jika banyak bantuan biaya serta operasional dikerahkan untuk memajukan sektor industri perikanan disana.\n",
        "\n",
        "sumber:\n",
        "https://ekonomi.bisnis.com/read/20200830/99/1284975/maluku-kuat-di-perikanan-tangkap-sektor-budidaya-tetap-didorong\n",
        "\n",
        "https://www.mongabay.co.id/2018/02/15/kaya-tapi-miskin-potret-potensi-perikanan-maluku-yang-belum-optimal-kenapa/"
      ]
    }
  ]
}